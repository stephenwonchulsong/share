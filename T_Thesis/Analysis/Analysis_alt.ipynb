{
 "cells": [
  {
   "cell_type": "code",
   "execution_count": 1,
   "metadata": {},
   "outputs": [
    {
     "name": "stderr",
     "output_type": "stream",
     "text": [
      "/Users/stephenwsong/anaconda3/envs/mystats/lib/python3.11/site-packages/outdated/utils.py:14: OutdatedPackageWarning: The package pingouin is out of date. Your version is 0.5.3, the latest is 0.5.4.\n",
      "Set the environment variable OUTDATED_IGNORE=1 to disable these warnings.\n",
      "  return warn(\n"
     ]
    }
   ],
   "source": [
    " #using mystats env\n",
    "import pandas as pd\n",
    "import numpy as np\n",
    "import pingouin as pg\n",
    "import association_metrics as am\n",
    "import scipy.stats as stats\n",
    "from scipy.stats import chisquare\n",
    "from scipy import stats\n",
    "import pyreadstat\n",
    "import statsmodels.api as sm\n",
    "import warnings\n",
    "import os\n",
    "pd.options.display.float_format = '{:.2f}'.format"
   ]
  },
  {
   "cell_type": "code",
   "execution_count": 2,
   "metadata": {},
   "outputs": [],
   "source": [
    "#loading all the data\n",
    "dfc=pd.read_csv('dfc.csv')\n",
    "dfv=pd.read_csv('dfv.csv')\n",
    "dfv_ColNames=pd.read_csv('dfv_ColNames.csv')\n",
    "dfv_noDupe_ColNames=pd.read_csv('dfv_noDupe_ColNames.csv')\n",
    "dfvnoDupe_recode=pd.read_csv('dfv_noDupe_recode.csv')\n",
    "dfv_noDupe=pd.read_csv('dfv_noDupe.csv')\n",
    "dfv_recode=pd.read_csv('dfv_recode.csv')\n",
    "dfv_original=pd.read_csv('dfV_original.csv')\n",
    "dfc_original=pd.read_csv('dfC_orignial.csv')"
   ]
  },
  {
   "cell_type": "code",
   "execution_count": 3,
   "metadata": {},
   "outputs": [],
   "source": [
    "dfc.Case= dfc.Case.astype('category')\n",
    "dfv.Case= dfv.Case.astype('category')"
   ]
  },
  {
   "cell_type": "code",
   "execution_count": 4,
   "metadata": {},
   "outputs": [
    {
     "data": {
      "text/plain": [
       "Index(['Case', 'CommCase', 'Platform', 'Publisher', 'VidTitle', 'CommentText',\n",
       "       'CommLikes', 'CharacterNum', 'CommLength', 'Sentiment', 'Focus',\n",
       "       'Alignment', 'MediaType'],\n",
       "      dtype='object')"
      ]
     },
     "execution_count": 4,
     "metadata": {},
     "output_type": "execute_result"
    }
   ],
   "source": [
    "dfc.columns#errors in Publisher values"
   ]
  },
  {
   "cell_type": "code",
   "execution_count": 5,
   "metadata": {},
   "outputs": [
    {
     "data": {
      "text/plain": [
       "Index(['Case', 'Platform', 'Publisher', 'VideoURL', 'PubDate', 'Likes',\n",
       "       'Comments', 'Saves', 'Shots', 'Graphics', 'EditsStyle', 'Broll',\n",
       "       'NatSound', 'Audio', 'Music', 'Narration', 'Humor', 'Offensive',\n",
       "       'Sourcing', 'Fairness', 'Agenda', 'MediaIntegrity', 'Decorum',\n",
       "       'Language', 'Topic', 'Presentation', 'ExternalVidSource', 'MediaType',\n",
       "       'Animation', 'Filters'],\n",
       "      dtype='object')"
      ]
     },
     "execution_count": 5,
     "metadata": {},
     "output_type": "execute_result"
    }
   ],
   "source": [
    "dfv.columns"
   ]
  },
  {
   "cell_type": "code",
   "execution_count": 6,
   "metadata": {},
   "outputs": [],
   "source": [
    "# merge dfc and selected columns from dfv_noDupe\n",
    "dfc = pd.merge(dfc, dfv, on=['Case'], how='inner', indicator=True)"
   ]
  },
  {
   "cell_type": "code",
   "execution_count": 7,
   "metadata": {},
   "outputs": [
    {
     "data": {
      "text/plain": [
       "(0.3537028623353021, array([0.148, 0.52 ]))"
      ]
     },
     "execution_count": 7,
     "metadata": {},
     "output_type": "execute_result"
    }
   ],
   "source": [
    "trendiness = dfv[['Humor', 'Animation', 'Filters', 'Music']]\n",
    "pg.cronbach_alpha(data=trendiness)"
   ]
  },
  {
   "cell_type": "code",
   "execution_count": 8,
   "metadata": {},
   "outputs": [
    {
     "data": {
      "text/plain": [
       "(0.6993795035061768, array([0.616, 0.771]))"
      ]
     },
     "execution_count": 8,
     "metadata": {},
     "output_type": "execute_result"
    }
   ],
   "source": [
    "trendiness = dfv[['Shots', 'EditsStyle', 'Broll', 'NatSound', 'Audio', 'Music', 'Narration', 'Humor', 'Sourcing', 'Decorum','Language','Animation', 'Filters']]\n",
    "pg.cronbach_alpha(data=trendiness)"
   ]
  },
  {
   "cell_type": "code",
   "execution_count": 9,
   "metadata": {},
   "outputs": [],
   "source": [
    "dfv['trendiness'] = dfv[['Shots', 'EditsStyle', 'Broll', 'NatSound', 'Audio', 'Music', 'Narration', 'Humor', 'Sourcing', 'Decorum','Language','Animation', 'Filters']].sum(axis=1)"
   ]
  },
  {
   "cell_type": "code",
   "execution_count": 10,
   "metadata": {},
   "outputs": [
    {
     "data": {
      "text/plain": [
       "Platform\n",
       "YouTube Shorts     42\n",
       "Instagram Reels    42\n",
       "TikTok             42\n",
       "Name: count, dtype: int64"
      ]
     },
     "execution_count": 10,
     "metadata": {},
     "output_type": "execute_result"
    }
   ],
   "source": [
    "dfv.Platform.value_counts()"
   ]
  },
  {
   "cell_type": "markdown",
   "metadata": {},
   "source": [
    "RQ1: Does short-form video news lean more trendy or more traditional?\n",
    "\n",
    "H1: Trendiness is more prevalent on TikTok compared to YouTube Shorts and Instagram Reels."
   ]
  },
  {
   "cell_type": "code",
   "execution_count": 11,
   "metadata": {},
   "outputs": [
    {
     "data": {
      "text/html": [
       "<div>\n",
       "<style scoped>\n",
       "    .dataframe tbody tr th:only-of-type {\n",
       "        vertical-align: middle;\n",
       "    }\n",
       "\n",
       "    .dataframe tbody tr th {\n",
       "        vertical-align: top;\n",
       "    }\n",
       "\n",
       "    .dataframe thead th {\n",
       "        text-align: right;\n",
       "    }\n",
       "</style>\n",
       "<table border=\"1\" class=\"dataframe\">\n",
       "  <thead>\n",
       "    <tr style=\"text-align: right;\">\n",
       "      <th></th>\n",
       "      <th>Variable</th>\n",
       "      <th>Source</th>\n",
       "      <th>ddof1</th>\n",
       "      <th>ddof2</th>\n",
       "      <th>F</th>\n",
       "      <th>p-unc</th>\n",
       "      <th>np2</th>\n",
       "    </tr>\n",
       "  </thead>\n",
       "  <tbody>\n",
       "    <tr>\n",
       "      <th>0</th>\n",
       "      <td>trendiness</td>\n",
       "      <td>Platform</td>\n",
       "      <td>2</td>\n",
       "      <td>123</td>\n",
       "      <td>0.94</td>\n",
       "      <td>0.39</td>\n",
       "      <td>0.02</td>\n",
       "    </tr>\n",
       "  </tbody>\n",
       "</table>\n",
       "</div>"
      ],
      "text/plain": [
       "     Variable    Source  ddof1  ddof2    F  p-unc  np2\n",
       "0  trendiness  Platform      2    123 0.94   0.39 0.02"
      ]
     },
     "execution_count": 11,
     "metadata": {},
     "output_type": "execute_result"
    }
   ],
   "source": [
    "# Define the IV and DV variables\n",
    "IV = 'Platform'\n",
    "DV = ['trendiness']\n",
    "DF = dfv\n",
    "# Run the ANOVA\n",
    "for i in DV:\n",
    "    anova_result = pg.anova(data=DF, dv=i, between=IV)\n",
    "    globals()[f\"ANOVA_{i}\"] = anova_result\n",
    "    globals()[f\"ANOVA_{i}\"].insert(0, 'Variable', i)\n",
    "    pairwise_comparisons = pg.pairwise_tests(data=DF, dv=i, between=IV, padjust='bonf')\n",
    "    globals()[f\"Pairwise_{i}\"] = pairwise_comparisons\n",
    "    globals()[f\"Pairwise_{i}\"].insert(0, 'Variable', i)\n",
    "    mean_table = DF.groupby(IV)[i].mean().reset_index()\n",
    "    std_table = DF.groupby(IV)[i].std().reset_index()\n",
    "    mean_std_table = pd.merge(mean_table, std_table, on=IV)\n",
    "    mean_std_table.columns = [i, 'Mean', 'Standard Deviation']\n",
    "    mean_std_table = mean_std_table.rename(columns={i: 'Value'})\n",
    "    globals()[f\"mean_std_table_{i}\"] = mean_std_table\n",
    "    globals()[f\"mean_std_table_{i}\"].insert(0, 'Variable', i)\n",
    "merged_anova = pd.concat([globals()[f\"ANOVA_{i}\"] for i in DV], axis=0)\n",
    "merged_anova.reset_index(drop=True, inplace=True)\n",
    "merged_pairwise = pd.concat([globals()[f\"Pairwise_{i}\"] for i in DV], axis=0)\n",
    "merged_pairwise.reset_index(drop=True, inplace=True)\n",
    "merged_mean_std_table = pd.concat([globals()[f\"mean_std_table_{i}\"] for i in DV], axis=0)\n",
    "merged_mean_std_table.reset_index(drop=True, inplace=True)\n",
    "# merged_anova.to_csv(IV+'/merged_anova.csv', index=False)\n",
    "# merged_pairwise.to_csv(IV+'/merged_pairwise.csv', index=False)\n",
    "# merged_mean_std_table.to_csv(IV+'/merged_mean_std.csv', index=False)\n",
    "merged_anova"
   ]
  },
  {
   "cell_type": "code",
   "execution_count": 12,
   "metadata": {},
   "outputs": [
    {
     "data": {
      "text/html": [
       "<div>\n",
       "<style scoped>\n",
       "    .dataframe tbody tr th:only-of-type {\n",
       "        vertical-align: middle;\n",
       "    }\n",
       "\n",
       "    .dataframe tbody tr th {\n",
       "        vertical-align: top;\n",
       "    }\n",
       "\n",
       "    .dataframe thead th {\n",
       "        text-align: right;\n",
       "    }\n",
       "</style>\n",
       "<table border=\"1\" class=\"dataframe\">\n",
       "  <thead>\n",
       "    <tr style=\"text-align: right;\">\n",
       "      <th></th>\n",
       "      <th>Variable</th>\n",
       "      <th>Contrast</th>\n",
       "      <th>A</th>\n",
       "      <th>B</th>\n",
       "      <th>Paired</th>\n",
       "      <th>Parametric</th>\n",
       "      <th>T</th>\n",
       "      <th>dof</th>\n",
       "      <th>alternative</th>\n",
       "      <th>p-unc</th>\n",
       "      <th>p-corr</th>\n",
       "      <th>p-adjust</th>\n",
       "      <th>BF10</th>\n",
       "      <th>hedges</th>\n",
       "    </tr>\n",
       "  </thead>\n",
       "  <tbody>\n",
       "    <tr>\n",
       "      <th>0</th>\n",
       "      <td>trendiness</td>\n",
       "      <td>Platform</td>\n",
       "      <td>Instagram Reels</td>\n",
       "      <td>TikTok</td>\n",
       "      <td>False</td>\n",
       "      <td>True</td>\n",
       "      <td>1.31</td>\n",
       "      <td>82.00</td>\n",
       "      <td>two-sided</td>\n",
       "      <td>0.19</td>\n",
       "      <td>0.58</td>\n",
       "      <td>bonf</td>\n",
       "      <td>0.479</td>\n",
       "      <td>0.28</td>\n",
       "    </tr>\n",
       "    <tr>\n",
       "      <th>1</th>\n",
       "      <td>trendiness</td>\n",
       "      <td>Platform</td>\n",
       "      <td>Instagram Reels</td>\n",
       "      <td>YouTube Shorts</td>\n",
       "      <td>False</td>\n",
       "      <td>True</td>\n",
       "      <td>0.91</td>\n",
       "      <td>82.00</td>\n",
       "      <td>two-sided</td>\n",
       "      <td>0.36</td>\n",
       "      <td>1.00</td>\n",
       "      <td>bonf</td>\n",
       "      <td>0.327</td>\n",
       "      <td>0.20</td>\n",
       "    </tr>\n",
       "    <tr>\n",
       "      <th>2</th>\n",
       "      <td>trendiness</td>\n",
       "      <td>Platform</td>\n",
       "      <td>TikTok</td>\n",
       "      <td>YouTube Shorts</td>\n",
       "      <td>False</td>\n",
       "      <td>True</td>\n",
       "      <td>-0.37</td>\n",
       "      <td>82.00</td>\n",
       "      <td>two-sided</td>\n",
       "      <td>0.71</td>\n",
       "      <td>1.00</td>\n",
       "      <td>bonf</td>\n",
       "      <td>0.242</td>\n",
       "      <td>-0.08</td>\n",
       "    </tr>\n",
       "  </tbody>\n",
       "</table>\n",
       "</div>"
      ],
      "text/plain": [
       "     Variable  Contrast                A               B  Paired  Parametric  \\\n",
       "0  trendiness  Platform  Instagram Reels          TikTok   False        True   \n",
       "1  trendiness  Platform  Instagram Reels  YouTube Shorts   False        True   \n",
       "2  trendiness  Platform           TikTok  YouTube Shorts   False        True   \n",
       "\n",
       "      T   dof alternative  p-unc  p-corr p-adjust   BF10  hedges  \n",
       "0  1.31 82.00   two-sided   0.19    0.58     bonf  0.479    0.28  \n",
       "1  0.91 82.00   two-sided   0.36    1.00     bonf  0.327    0.20  \n",
       "2 -0.37 82.00   two-sided   0.71    1.00     bonf  0.242   -0.08  "
      ]
     },
     "execution_count": 12,
     "metadata": {},
     "output_type": "execute_result"
    }
   ],
   "source": [
    "merged_pairwise"
   ]
  },
  {
   "cell_type": "code",
   "execution_count": 13,
   "metadata": {},
   "outputs": [
    {
     "data": {
      "text/html": [
       "<div>\n",
       "<style scoped>\n",
       "    .dataframe tbody tr th:only-of-type {\n",
       "        vertical-align: middle;\n",
       "    }\n",
       "\n",
       "    .dataframe tbody tr th {\n",
       "        vertical-align: top;\n",
       "    }\n",
       "\n",
       "    .dataframe thead th {\n",
       "        text-align: right;\n",
       "    }\n",
       "</style>\n",
       "<table border=\"1\" class=\"dataframe\">\n",
       "  <thead>\n",
       "    <tr style=\"text-align: right;\">\n",
       "      <th></th>\n",
       "      <th>Variable</th>\n",
       "      <th>Value</th>\n",
       "      <th>Mean</th>\n",
       "      <th>Standard Deviation</th>\n",
       "    </tr>\n",
       "  </thead>\n",
       "  <tbody>\n",
       "    <tr>\n",
       "      <th>0</th>\n",
       "      <td>trendiness</td>\n",
       "      <td>Instagram Reels</td>\n",
       "      <td>12.67</td>\n",
       "      <td>5.56</td>\n",
       "    </tr>\n",
       "    <tr>\n",
       "      <th>1</th>\n",
       "      <td>trendiness</td>\n",
       "      <td>TikTok</td>\n",
       "      <td>11.29</td>\n",
       "      <td>4.00</td>\n",
       "    </tr>\n",
       "    <tr>\n",
       "      <th>2</th>\n",
       "      <td>trendiness</td>\n",
       "      <td>YouTube Shorts</td>\n",
       "      <td>11.64</td>\n",
       "      <td>4.71</td>\n",
       "    </tr>\n",
       "  </tbody>\n",
       "</table>\n",
       "</div>"
      ],
      "text/plain": [
       "     Variable            Value  Mean  Standard Deviation\n",
       "0  trendiness  Instagram Reels 12.67                5.56\n",
       "1  trendiness           TikTok 11.29                4.00\n",
       "2  trendiness   YouTube Shorts 11.64                4.71"
      ]
     },
     "execution_count": 13,
     "metadata": {},
     "output_type": "execute_result"
    }
   ],
   "source": [
    "mean_std_table"
   ]
  },
  {
   "cell_type": "markdown",
   "metadata": {},
   "source": [
    "\n",
    "RQ2: Are people more positive towards a topic when news is presented more trendy or more traditional?\n",
    "\n",
    "H2: People are more positive towards a topic when the presentation is trendy.\n"
   ]
  },
  {
   "cell_type": "code",
   "execution_count": null,
   "metadata": {},
   "outputs": [],
   "source": []
  },
  {
   "cell_type": "markdown",
   "metadata": {},
   "source": [
    "RQ3: When news is presented in traditional formats, do people engage less?\n",
    "\n",
    "H3: Traditional presentations lead to less engagement online."
   ]
  },
  {
   "cell_type": "code",
   "execution_count": null,
   "metadata": {},
   "outputs": [],
   "source": []
  },
  {
   "cell_type": "markdown",
   "metadata": {},
   "source": [
    "\n",
    "RQ4: Does post engagement occur more from positive, neutral, or negative comments?\n",
    "\n",
    "H4: Negative comments reflect more engagements and interactions on posts."
   ]
  },
  {
   "cell_type": "code",
   "execution_count": null,
   "metadata": {},
   "outputs": [],
   "source": []
  }
 ],
 "metadata": {
  "kernelspec": {
   "display_name": "mystats",
   "language": "python",
   "name": "python3"
  },
  "language_info": {
   "codemirror_mode": {
    "name": "ipython",
    "version": 3
   },
   "file_extension": ".py",
   "mimetype": "text/x-python",
   "name": "python",
   "nbconvert_exporter": "python",
   "pygments_lexer": "ipython3",
   "version": "3.11.3"
  }
 },
 "nbformat": 4,
 "nbformat_minor": 2
}
