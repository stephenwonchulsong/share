{
 "cells": [
  {
   "cell_type": "markdown",
   "metadata": {},
   "source": [
    "Originally from: https://rpubs.com/jacoblong/content-analysis-krippendorff-alpha-R\n",
    "<h2>Step-by-step instruction of the Syntax</h2>"
   ]
  },
  {
   "cell_type": "code",
   "execution_count": 1,
   "metadata": {
    "vscode": {
     "languageId": "r"
    }
   },
   "outputs": [
    {
     "name": "stderr",
     "output_type": "stream",
     "text": [
      "Loading required namespace: tidyverse\n",
      "\n",
      "Loading required namespace: irr\n",
      "\n"
     ]
    },
    {
     "name": "stderr",
     "output_type": "stream",
     "text": [
      "-- \u001b[1mAttaching core tidyverse packages\u001b[22m ------------------------ tidyverse 2.0.0 --\n",
      "\u001b[32mv\u001b[39m \u001b[34mdplyr    \u001b[39m 1.1.3     \u001b[32mv\u001b[39m \u001b[34mreadr    \u001b[39m 2.1.4\n",
      "\u001b[32mv\u001b[39m \u001b[34mforcats  \u001b[39m 1.0.0     \u001b[32mv\u001b[39m \u001b[34mstringr  \u001b[39m 1.5.0\n",
      "\u001b[32mv\u001b[39m \u001b[34mggplot2  \u001b[39m 3.4.4     \u001b[32mv\u001b[39m \u001b[34mtibble   \u001b[39m 3.2.1\n",
      "\u001b[32mv\u001b[39m \u001b[34mlubridate\u001b[39m 1.9.3     \u001b[32mv\u001b[39m \u001b[34mtidyr    \u001b[39m 1.3.0\n",
      "\u001b[32mv\u001b[39m \u001b[34mpurrr    \u001b[39m 1.0.2     \n",
      "-- \u001b[1mConflicts\u001b[22m ------------------------------------------ tidyverse_conflicts() --\n",
      "\u001b[31mx\u001b[39m \u001b[34mdplyr\u001b[39m::\u001b[32mfilter()\u001b[39m masks \u001b[34mstats\u001b[39m::filter()\n",
      "\u001b[31mx\u001b[39m \u001b[34mdplyr\u001b[39m::\u001b[32mlag()\u001b[39m    masks \u001b[34mstats\u001b[39m::lag()\n",
      "\u001b[36mi\u001b[39m Use the conflicted package (\u001b[3m\u001b[34m<http://conflicted.r-lib.org/>\u001b[39m\u001b[23m) to force all conflicts to become errors\n",
      "Loading required package: lpSolve\n",
      "\n"
     ]
    }
   ],
   "source": [
    "# Setting up necessary libraries (i.e., tools for testing Krippendorff's alpha)\n",
    "#Installing them packages if they are not installed:\n",
    "for (p in c(\"tidyverse\", \"irr\")) {\n",
    "  if (!requireNamespace(p)) {\n",
    "    install.packages(p)\n",
    "  }\n",
    "}\n",
    "# Load the libraries\n",
    "library(tidyverse)\n",
    "library(irr)"
   ]
  },
  {
   "cell_type": "code",
   "execution_count": 2,
   "metadata": {
    "vscode": {
     "languageId": "r"
    }
   },
   "outputs": [
    {
     "data": {
      "text/html": [
       "<table class=\"dataframe\">\n",
       "<caption>A tibble: 10 x 5</caption>\n",
       "<thead>\n",
       "\t<tr><th scope=col>content_id</th><th scope=col>coder_id</th><th scope=col>ExVar1</th><th scope=col>ExVar2</th><th scope=col>ExVar3</th></tr>\n",
       "\t<tr><th scope=col>&lt;dbl&gt;</th><th scope=col>&lt;chr&gt;</th><th scope=col>&lt;dbl&gt;</th><th scope=col>&lt;chr&gt;</th><th scope=col>&lt;lgl&gt;</th></tr>\n",
       "</thead>\n",
       "<tbody>\n",
       "\t<tr><td>1</td><td>A</td><td>1</td><td>Red  </td><td>FALSE</td></tr>\n",
       "\t<tr><td>2</td><td>A</td><td>3</td><td>Blue </td><td> TRUE</td></tr>\n",
       "\t<tr><td>3</td><td>A</td><td>5</td><td>Blue </td><td> TRUE</td></tr>\n",
       "\t<tr><td>4</td><td>A</td><td>7</td><td>Green</td><td> TRUE</td></tr>\n",
       "\t<tr><td>5</td><td>A</td><td>1</td><td>Red  </td><td>FALSE</td></tr>\n",
       "\t<tr><td>1</td><td>B</td><td>1</td><td>Red  </td><td>FALSE</td></tr>\n",
       "\t<tr><td>2</td><td>B</td><td>3</td><td>Blue </td><td>FALSE</td></tr>\n",
       "\t<tr><td>3</td><td>B</td><td>3</td><td>Green</td><td>FALSE</td></tr>\n",
       "\t<tr><td>4</td><td>B</td><td>7</td><td>Green</td><td> TRUE</td></tr>\n",
       "\t<tr><td>5</td><td>B</td><td>3</td><td>Red  </td><td>FALSE</td></tr>\n",
       "</tbody>\n",
       "</table>\n"
      ],
      "text/latex": [
       "A tibble: 10 x 5\n",
       "\\begin{tabular}{lllll}\n",
       " content\\_id & coder\\_id & ExVar1 & ExVar2 & ExVar3\\\\\n",
       " <dbl> & <chr> & <dbl> & <chr> & <lgl>\\\\\n",
       "\\hline\n",
       "\t 1 & A & 1 & Red   & FALSE\\\\\n",
       "\t 2 & A & 3 & Blue  &  TRUE\\\\\n",
       "\t 3 & A & 5 & Blue  &  TRUE\\\\\n",
       "\t 4 & A & 7 & Green &  TRUE\\\\\n",
       "\t 5 & A & 1 & Red   & FALSE\\\\\n",
       "\t 1 & B & 1 & Red   & FALSE\\\\\n",
       "\t 2 & B & 3 & Blue  & FALSE\\\\\n",
       "\t 3 & B & 3 & Green & FALSE\\\\\n",
       "\t 4 & B & 7 & Green &  TRUE\\\\\n",
       "\t 5 & B & 3 & Red   & FALSE\\\\\n",
       "\\end{tabular}\n"
      ],
      "text/markdown": [
       "\n",
       "A tibble: 10 x 5\n",
       "\n",
       "| content_id &lt;dbl&gt; | coder_id &lt;chr&gt; | ExVar1 &lt;dbl&gt; | ExVar2 &lt;chr&gt; | ExVar3 &lt;lgl&gt; |\n",
       "|---|---|---|---|---|\n",
       "| 1 | A | 1 | Red   | FALSE |\n",
       "| 2 | A | 3 | Blue  |  TRUE |\n",
       "| 3 | A | 5 | Blue  |  TRUE |\n",
       "| 4 | A | 7 | Green |  TRUE |\n",
       "| 5 | A | 1 | Red   | FALSE |\n",
       "| 1 | B | 1 | Red   | FALSE |\n",
       "| 2 | B | 3 | Blue  | FALSE |\n",
       "| 3 | B | 3 | Green | FALSE |\n",
       "| 4 | B | 7 | Green |  TRUE |\n",
       "| 5 | B | 3 | Red   | FALSE |\n",
       "\n"
      ],
      "text/plain": [
       "   content_id coder_id ExVar1 ExVar2 ExVar3\n",
       "1  1          A        1      Red    FALSE \n",
       "2  2          A        3      Blue    TRUE \n",
       "3  3          A        5      Blue    TRUE \n",
       "4  4          A        7      Green   TRUE \n",
       "5  5          A        1      Red    FALSE \n",
       "6  1          B        1      Red    FALSE \n",
       "7  2          B        3      Blue   FALSE \n",
       "8  3          B        3      Green  FALSE \n",
       "9  4          B        7      Green   TRUE \n",
       "10 5          B        3      Red    FALSE "
      ]
     },
     "metadata": {},
     "output_type": "display_data"
    }
   ],
   "source": [
    "#Creat/add data\n",
    "test_data <-\n",
    "  tribble(\n",
    "    ~content_id, ~coder_id, ~ExVar1, ~ExVar2,   ~ExVar3,\n",
    "    1,           \"A\",       1,     \"Red\",   FALSE,\n",
    "    2,           \"A\",       3,     \"Blue\",  TRUE,\n",
    "    3,           \"A\",       5,     \"Blue\",  TRUE,\n",
    "    4,           \"A\",       7,     \"Green\", TRUE,\n",
    "    5,           \"A\",       1,     \"Red\",   FALSE,\n",
    "    1,           \"B\",       1,     \"Red\",   FALSE,\n",
    "    2,           \"B\",       3,     \"Blue\",  FALSE,\n",
    "    3,           \"B\",       3,     \"Green\", FALSE,\n",
    "    4,           \"B\",       7,     \"Green\", TRUE,\n",
    "    5,           \"B\",       3,     \"Red\",   FALSE,\n",
    "  )\n",
    "#show data\n",
    "test_data"
   ]
  },
  {
   "cell_type": "code",
   "execution_count": 3,
   "metadata": {
    "vscode": {
     "languageId": "r"
    }
   },
   "outputs": [
    {
     "data": {
      "text/html": [
       "<table class=\"dataframe\">\n",
       "<caption>A tibble: 2 x 6</caption>\n",
       "<thead>\n",
       "\t<tr><th scope=col>coder_id</th><th scope=col>1</th><th scope=col>2</th><th scope=col>3</th><th scope=col>4</th><th scope=col>5</th></tr>\n",
       "\t<tr><th scope=col>&lt;chr&gt;</th><th scope=col>&lt;dbl&gt;</th><th scope=col>&lt;dbl&gt;</th><th scope=col>&lt;dbl&gt;</th><th scope=col>&lt;dbl&gt;</th><th scope=col>&lt;dbl&gt;</th></tr>\n",
       "</thead>\n",
       "<tbody>\n",
       "\t<tr><td>A</td><td>1</td><td>3</td><td>5</td><td>7</td><td>1</td></tr>\n",
       "\t<tr><td>B</td><td>1</td><td>3</td><td>3</td><td>7</td><td>3</td></tr>\n",
       "</tbody>\n",
       "</table>\n"
      ],
      "text/latex": [
       "A tibble: 2 x 6\n",
       "\\begin{tabular}{llllll}\n",
       " coder\\_id & 1 & 2 & 3 & 4 & 5\\\\\n",
       " <chr> & <dbl> & <dbl> & <dbl> & <dbl> & <dbl>\\\\\n",
       "\\hline\n",
       "\t A & 1 & 3 & 5 & 7 & 1\\\\\n",
       "\t B & 1 & 3 & 3 & 7 & 3\\\\\n",
       "\\end{tabular}\n"
      ],
      "text/markdown": [
       "\n",
       "A tibble: 2 x 6\n",
       "\n",
       "| coder_id &lt;chr&gt; | 1 &lt;dbl&gt; | 2 &lt;dbl&gt; | 3 &lt;dbl&gt; | 4 &lt;dbl&gt; | 5 &lt;dbl&gt; |\n",
       "|---|---|---|---|---|---|\n",
       "| A | 1 | 3 | 5 | 7 | 1 |\n",
       "| B | 1 | 3 | 3 | 7 | 3 |\n",
       "\n"
      ],
      "text/plain": [
       "  coder_id 1 2 3 4 5\n",
       "1 A        1 3 5 7 1\n",
       "2 B        1 3 3 7 3"
      ]
     },
     "metadata": {},
     "output_type": "display_data"
    }
   ],
   "source": [
    "#transposing the data into wide dataset\n",
    "#coder_id is the row, now each content id is a column, and the target variable is the value\n",
    "wide_data <- pivot_wider(test_data, id_cols = coder_id, names_from = content_id, values_from = ExVar1)\n",
    "wide_data"
   ]
  },
  {
   "cell_type": "code",
   "execution_count": 4,
   "metadata": {
    "vscode": {
     "languageId": "r"
    }
   },
   "outputs": [
    {
     "data": {
      "text/html": [
       "<table class=\"dataframe\">\n",
       "<caption>A tibble: 2 x 5</caption>\n",
       "<thead>\n",
       "\t<tr><th scope=col>1</th><th scope=col>2</th><th scope=col>3</th><th scope=col>4</th><th scope=col>5</th></tr>\n",
       "\t<tr><th scope=col>&lt;dbl&gt;</th><th scope=col>&lt;dbl&gt;</th><th scope=col>&lt;dbl&gt;</th><th scope=col>&lt;dbl&gt;</th><th scope=col>&lt;dbl&gt;</th></tr>\n",
       "</thead>\n",
       "<tbody>\n",
       "\t<tr><td>1</td><td>3</td><td>5</td><td>7</td><td>1</td></tr>\n",
       "\t<tr><td>1</td><td>3</td><td>3</td><td>7</td><td>3</td></tr>\n",
       "</tbody>\n",
       "</table>\n"
      ],
      "text/latex": [
       "A tibble: 2 x 5\n",
       "\\begin{tabular}{lllll}\n",
       " 1 & 2 & 3 & 4 & 5\\\\\n",
       " <dbl> & <dbl> & <dbl> & <dbl> & <dbl>\\\\\n",
       "\\hline\n",
       "\t 1 & 3 & 5 & 7 & 1\\\\\n",
       "\t 1 & 3 & 3 & 7 & 3\\\\\n",
       "\\end{tabular}\n"
      ],
      "text/markdown": [
       "\n",
       "A tibble: 2 x 5\n",
       "\n",
       "| 1 &lt;dbl&gt; | 2 &lt;dbl&gt; | 3 &lt;dbl&gt; | 4 &lt;dbl&gt; | 5 &lt;dbl&gt; |\n",
       "|---|---|---|---|---|\n",
       "| 1 | 3 | 5 | 7 | 1 |\n",
       "| 1 | 3 | 3 | 7 | 3 |\n",
       "\n"
      ],
      "text/plain": [
       "  1 2 3 4 5\n",
       "1 1 3 5 7 1\n",
       "2 1 3 3 7 3"
      ]
     },
     "metadata": {},
     "output_type": "display_data"
    }
   ],
   "source": [
    "#removing coder_id column to run Krippendorff's alpha\n",
    "wide_data <- select(wide_data, -coder_id)\n",
    "wide_data"
   ]
  },
  {
   "cell_type": "code",
   "execution_count": 5,
   "metadata": {
    "vscode": {
     "languageId": "r"
    }
   },
   "outputs": [
    {
     "data": {
      "text/html": [
       "<table class=\"dataframe\">\n",
       "<caption>A matrix: 2 x 5 of type dbl</caption>\n",
       "<thead>\n",
       "\t<tr><th scope=col>1</th><th scope=col>2</th><th scope=col>3</th><th scope=col>4</th><th scope=col>5</th></tr>\n",
       "</thead>\n",
       "<tbody>\n",
       "\t<tr><td>1</td><td>3</td><td>5</td><td>7</td><td>1</td></tr>\n",
       "\t<tr><td>1</td><td>3</td><td>3</td><td>7</td><td>3</td></tr>\n",
       "</tbody>\n",
       "</table>\n"
      ],
      "text/latex": [
       "A matrix: 2 x 5 of type dbl\n",
       "\\begin{tabular}{lllll}\n",
       " 1 & 2 & 3 & 4 & 5\\\\\n",
       "\\hline\n",
       "\t 1 & 3 & 5 & 7 & 1\\\\\n",
       "\t 1 & 3 & 3 & 7 & 3\\\\\n",
       "\\end{tabular}\n"
      ],
      "text/markdown": [
       "\n",
       "A matrix: 2 x 5 of type dbl\n",
       "\n",
       "| 1 | 2 | 3 | 4 | 5 |\n",
       "|---|---|---|---|---|\n",
       "| 1 | 3 | 5 | 7 | 1 |\n",
       "| 1 | 3 | 3 | 7 | 3 |\n",
       "\n"
      ],
      "text/plain": [
       "     1 2 3 4 5\n",
       "[1,] 1 3 5 7 1\n",
       "[2,] 1 3 3 7 3"
      ]
     },
     "metadata": {},
     "output_type": "display_data"
    }
   ],
   "source": [
    "#making the dataset even simpler for Krippendorff's alpha\n",
    "wide_data <- as.matrix(wide_data)\n",
    "wide_data"
   ]
  },
  {
   "cell_type": "code",
   "execution_count": 6,
   "metadata": {
    "vscode": {
     "languageId": "r"
    }
   },
   "outputs": [
    {
     "data": {
      "text/html": [
       "'ExVar1'"
      ],
      "text/latex": [
       "'ExVar1'"
      ],
      "text/markdown": [
       "'ExVar1'"
      ],
      "text/plain": [
       "[1] \"ExVar1\""
      ]
     },
     "metadata": {},
     "output_type": "display_data"
    },
    {
     "data": {
      "text/plain": [
       " Krippendorff's alpha\n",
       "\n",
       " Subjects = 5 \n",
       "   Raters = 2 \n",
       "    alpha = 0.697 "
      ]
     },
     "metadata": {},
     "output_type": "display_data"
    }
   ],
   "source": [
    "#Krippendorf's Alpha should be over 0.8\n",
    "func1 <- function (Target_Variable, name=deparse(substitute(Target_Variable))) {\n",
    "    name\n",
    "}\n",
    "\n",
    "func1(ExVar1)\n",
    "kripp.alpha(wide_data, method = \"ratio\")#method can be \"nominal\" or \"ordinal\", \"interval\", or \"ratio\" depending on the variable type."
   ]
  },
  {
   "cell_type": "markdown",
   "metadata": {},
   "source": [
    "<h2>Repeating above for all variables</h2>\n",
    "You can run the above for all the variables in your dataset by copy-pasting your dataset in the syntax below. \n",
    "\n",
    "1. Follow what the hastags (#) between lines in the syntax and follow them. \n",
    "2. Save your excel sheet into a CSV file. \n",
    "3. Open the file with a text editor. \n",
    "4. Make sure that the CSV file indicates different rows and columns using commas and not something else.\n",
    "4. Copy all the text and paste it within the syntax. \n",
    "5. Note that for this code to work, the two indicator variables, content_id, and coder_id, in the dataset should be used verbatim as variable names for the case indicator and the coder.\n",
    "6. Categorical variables, for example ExVar2, does not work. They need to be changed into numeric values. \n",
    "7. We will assume that all categorical variables are nominal, and all numeric variables are ratio.\n",
    "    - Intervals have 0, positive, and negative values, while ratios are positive values only (and thus can be divided).\n",
    "8. Do not include missing data.\n",
    "\n",
    "<br />\n",
    "Note. You can ignore the warning that looks like this:\n",
    "\n",
    "```\n",
    "Warning message:\n",
    "\"Using an external vector in selections was deprecated in tidyselect 1.1.0.\n",
    "i Please use `all_of()` or `any_of()` instead.\n",
    "  # Was:\n",
    "  data %>% select(i)\n",
    "\n",
    "  # Now:\n",
    "  data %>% select(all_of(i))\n",
    "\n",
    "See <https://tidyselect.r-lib.org/reference/faq-external-vector.html>.\"\n",
    "```"
   ]
  },
  {
   "cell_type": "markdown",
   "metadata": {},
   "source": [
    "<h3>Numeric Variables</h3>\n",
    "Nominal (categorical) variables will print \"NA\" as result and give you a warning/error message. Ignore them and see the next step."
   ]
  },
  {
   "cell_type": "code",
   "execution_count": 7,
   "metadata": {
    "vscode": {
     "languageId": "r"
    }
   },
   "outputs": [
    {
     "name": "stderr",
     "output_type": "stream",
     "text": [
      "Warning message:\n",
      "\"\u001b[1m\u001b[22mUsing an external vector in selections was deprecated in tidyselect 1.1.0.\n",
      "\u001b[36mi\u001b[39m Please use `all_of()` or `any_of()` instead.\n",
      "  # Was:\n",
      "  data %>% select(i)\n",
      "\n",
      "  # Now:\n",
      "  data %>% select(all_of(i))\n",
      "\n",
      "See <https://tidyselect.r-lib.org/reference/faq-external-vector.html>.\"\n"
     ]
    },
    {
     "name": "stdout",
     "output_type": "stream",
     "text": [
      "[1] \"ExVar1\"\n",
      " Krippendorff's alpha\n",
      "\n",
      " Subjects = 5 \n",
      "   Raters = 2 \n",
      "    alpha = 0.697 \n"
     ]
    },
    {
     "name": "stderr",
     "output_type": "stream",
     "text": [
      "Warning message in kripp.alpha(wide_data, method = \"ratio\"):\n",
      "\"NAs introduced by coercion\"\n"
     ]
    },
    {
     "name": "stdout",
     "output_type": "stream",
     "text": [
      "[1] \"ExVar2\"\n",
      " Krippendorff's alpha\n",
      "\n",
      " Subjects = 5 \n",
      "   Raters = 2 \n",
      "    alpha = NA \n"
     ]
    },
    {
     "name": "stderr",
     "output_type": "stream",
     "text": [
      "Warning message in kripp.alpha(wide_data, method = \"ratio\"):\n",
      "\"NAs introduced by coercion\"\n"
     ]
    },
    {
     "name": "stdout",
     "output_type": "stream",
     "text": [
      "[1] \"ExVar3\"\n",
      " Krippendorff's alpha\n",
      "\n",
      " Subjects = 5 \n",
      "   Raters = 2 \n",
      "    alpha = NA \n"
     ]
    }
   ],
   "source": [
    "for (p in c(\"tidyverse\", \"irr\")) {\n",
    "  if (!requireNamespace(p)) {\n",
    "    install.packages(p)\n",
    "  }\n",
    "}\n",
    "library(tidyverse)\n",
    "library(irr)\n",
    "test_data <-\n",
    "  tribble(\n",
    "    ~content_id, ~coder_id, ~ExVar1, ~ExVar2,   ~ExVar3,     #replace the syntax starting from this lane\n",
    "    1,           \"A\",       1,     \"Red\",   FALSE,\n",
    "    2,           \"A\",       3,     \"Blue\",  TRUE,\n",
    "    3,           \"A\",       5,     \"Blue\",  TRUE,\n",
    "    4,           \"A\",       7,     \"Green\", TRUE,\n",
    "    5,           \"A\",       1,     \"Red\",   FALSE,\n",
    "    1,           \"B\",       1,     \"Red\",   FALSE,\n",
    "    2,           \"B\",       3,     \"Blue\",  FALSE,\n",
    "    3,           \"B\",       3,     \"Green\", FALSE,\n",
    "    4,           \"B\",       7,     \"Green\", TRUE,\n",
    "    5,           \"B\",       3,     \"Red\",   FALSE,           #to this lane by paste your data\n",
    "  )\n",
    "#creating a list of variable names\n",
    "dflist <- colnames(test_data)\n",
    "dflist <- dflist[dflist != 'content_id']\n",
    "dflist <- dflist[dflist != 'coder_id']\n",
    "#cycling throuh the list of variables and run Krippendorff's alpha\n",
    "for (i in dflist) {\n",
    "  wide_data <- pivot_wider(test_data, id_cols = coder_id, names_from = content_id, values_from = i)\n",
    "  wide_data <- select(wide_data, -coder_id)\n",
    "  wide_data <- as.matrix(wide_data)\n",
    "  Result <- kripp.alpha(wide_data, method = \"ratio\")\n",
    "  print(i)\n",
    "  print(Result)\n",
    "  }"
   ]
  },
  {
   "cell_type": "markdown",
   "metadata": {},
   "source": [
    "<h3>Nominal Variables</h3>\n",
    "Ignore the results for numeric (ratio or interval) variables will print \"NA\" as result. Categorical variables need to be converted into numeric values (compare the data in this example to the dataset above) for accurate results."
   ]
  },
  {
   "cell_type": "code",
   "execution_count": 8,
   "metadata": {
    "vscode": {
     "languageId": "r"
    }
   },
   "outputs": [
    {
     "name": "stdout",
     "output_type": "stream",
     "text": [
      "[1] \"ExVar1\"\n",
      " Krippendorff's alpha\n",
      "\n",
      " Subjects = 5 \n",
      "   Raters = 2 \n",
      "    alpha = 0.486 \n",
      "[1] \"ExVar2\"\n",
      " Krippendorff's alpha\n",
      "\n",
      " Subjects = 5 \n",
      "   Raters = 2 \n",
      "    alpha = 0.757 \n",
      "[1] \"ExVar3\"\n",
      " Krippendorff's alpha\n",
      "\n",
      " Subjects = 5 \n",
      "   Raters = 2 \n",
      "    alpha = 0.25 \n"
     ]
    }
   ],
   "source": [
    "library(tidyverse)\n",
    "library(irr)\n",
    "test_data <-\n",
    "  tribble(\n",
    "    ~content_id, ~coder_id, ~ExVar1, ~ExVar2,   ~ExVar3, #replace the syntax starting from this lane\n",
    "    1,           \"A\",       1,     1,   0,\n",
    "    2,           \"A\",       3,     2,   1,       #ExVar2 and ExVar3, the two nominal variables are now in numeric values\n",
    "    3,           \"A\",       5,     2,   1,\n",
    "    4,           \"A\",       7,     3,   1,\n",
    "    5,           \"A\",       1,     4,   0,\n",
    "    1,           \"B\",       1,     1,   0,\n",
    "    2,           \"B\",       3,     2,   0,\n",
    "    3,           \"B\",       3,     3,   0,\n",
    "    4,           \"B\",       7,     3,   1,\n",
    "    5,           \"B\",       3,     4,   0,           #to this lane by paste your data\n",
    "  )\n",
    "#creating a list of variable names\n",
    "dflist <- colnames(test_data)\n",
    "dflist <- dflist[dflist != 'content_id']\n",
    "dflist <- dflist[dflist != 'coder_id']\n",
    "#cycling throuh the list of variables and run Krippendorff's alpha\n",
    "for (i in dflist) {\n",
    "  wide_data <- pivot_wider(test_data, id_cols = coder_id, names_from = content_id, values_from = i)\n",
    "  wide_data <- select(wide_data, -coder_id)\n",
    "  wide_data <- as.matrix(wide_data)\n",
    "  Result <- kripp.alpha(wide_data, method = \"nominal\")\n",
    "  print(i)\n",
    "  print(Result)\n",
    "  }"
   ]
  }
 ],
 "metadata": {
  "kernelspec": {
   "display_name": "R",
   "language": "R",
   "name": "ir"
  },
  "language_info": {
   "codemirror_mode": "r",
   "file_extension": ".r",
   "mimetype": "text/x-r-source",
   "name": "R",
   "pygments_lexer": "r",
   "version": "4.3.1"
  }
 },
 "nbformat": 4,
 "nbformat_minor": 2
}
