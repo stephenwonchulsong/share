{
 "cells": [
  {
   "cell_type": "code",
   "execution_count": 3,
   "metadata": {
    "vscode": {
     "languageId": "r"
    }
   },
   "outputs": [
    {
     "name": "stdout",
     "output_type": "stream",
     "text": [
      "\n",
      "The downloaded binary packages are in\n",
      "\t/var/folders/_8/_r3pgsjx2l74qstm6wlz1m8r0000gr/T//RtmprxKRWV/downloaded_packages\n"
     ]
    }
   ],
   "source": [
    "#install packages\n",
    "install.packages(\"seminr\")"
   ]
  },
  {
   "cell_type": "code",
   "execution_count": 4,
   "metadata": {
    "vscode": {
     "languageId": "r"
    }
   },
   "outputs": [],
   "source": [
    "#load packages\n",
    "library(seminr)"
   ]
  },
  {
   "cell_type": "code",
   "execution_count": 10,
   "metadata": {
    "vscode": {
     "languageId": "r"
    }
   },
   "outputs": [],
   "source": [
    "# Load the corporate reputation data\n",
    "corp_rep_data<-read.csv(file = 'Corporate Reputation Data.csv', header = TRUE, sep = ';')"
   ]
  },
  {
   "cell_type": "code",
   "execution_count": 11,
   "metadata": {
    "vscode": {
     "languageId": "r"
    }
   },
   "outputs": [
    {
     "data": {
      "text/html": [
       "<table class=\"dataframe\">\n",
       "<caption>A data.frame: 6 × 41</caption>\n",
       "<thead>\n",
       "\t<tr><th></th><th scope=col>serviceprovider</th><th scope=col>servicetype</th><th scope=col>comp_1</th><th scope=col>comp_2</th><th scope=col>comp_3</th><th scope=col>like_1</th><th scope=col>like_2</th><th scope=col>like_3</th><th scope=col>cusl_1</th><th scope=col>cusl_2</th><th scope=col>⋯</th><th scope=col>qual_4</th><th scope=col>qual_5</th><th scope=col>qual_6</th><th scope=col>qual_7</th><th scope=col>qual_8</th><th scope=col>qual_global</th><th scope=col>switch_1</th><th scope=col>switch_2</th><th scope=col>switch_3</th><th scope=col>switch_4</th></tr>\n",
       "\t<tr><th></th><th scope=col>&lt;int&gt;</th><th scope=col>&lt;int&gt;</th><th scope=col>&lt;int&gt;</th><th scope=col>&lt;int&gt;</th><th scope=col>&lt;int&gt;</th><th scope=col>&lt;int&gt;</th><th scope=col>&lt;int&gt;</th><th scope=col>&lt;int&gt;</th><th scope=col>&lt;int&gt;</th><th scope=col>&lt;int&gt;</th><th scope=col>⋯</th><th scope=col>&lt;int&gt;</th><th scope=col>&lt;int&gt;</th><th scope=col>&lt;int&gt;</th><th scope=col>&lt;int&gt;</th><th scope=col>&lt;int&gt;</th><th scope=col>&lt;int&gt;</th><th scope=col>&lt;int&gt;</th><th scope=col>&lt;int&gt;</th><th scope=col>&lt;int&gt;</th><th scope=col>&lt;int&gt;</th></tr>\n",
       "</thead>\n",
       "<tbody>\n",
       "\t<tr><th scope=row>1</th><td>3</td><td>2</td><td>4</td><td>5</td><td>5</td><td>3</td><td>1</td><td>2</td><td>5</td><td>3</td><td>⋯</td><td>2</td><td>4</td><td>4</td><td>2</td><td>5</td><td>6</td><td>3</td><td>1</td><td>3</td><td>2</td></tr>\n",
       "\t<tr><th scope=row>2</th><td>3</td><td>2</td><td>6</td><td>7</td><td>6</td><td>6</td><td>6</td><td>6</td><td>7</td><td>7</td><td>⋯</td><td>6</td><td>5</td><td>6</td><td>6</td><td>5</td><td>6</td><td>5</td><td>5</td><td>4</td><td>4</td></tr>\n",
       "\t<tr><th scope=row>3</th><td>3</td><td>2</td><td>4</td><td>5</td><td>2</td><td>5</td><td>5</td><td>5</td><td>7</td><td>7</td><td>⋯</td><td>4</td><td>3</td><td>5</td><td>4</td><td>4</td><td>5</td><td>4</td><td>3</td><td>2</td><td>3</td></tr>\n",
       "\t<tr><th scope=row>4</th><td>3</td><td>2</td><td>6</td><td>4</td><td>4</td><td>6</td><td>5</td><td>6</td><td>7</td><td>7</td><td>⋯</td><td>7</td><td>5</td><td>4</td><td>5</td><td>6</td><td>7</td><td>3</td><td>4</td><td>4</td><td>2</td></tr>\n",
       "\t<tr><th scope=row>5</th><td>3</td><td>2</td><td>6</td><td>4</td><td>6</td><td>6</td><td>6</td><td>7</td><td>6</td><td>7</td><td>⋯</td><td>7</td><td>6</td><td>6</td><td>6</td><td>7</td><td>7</td><td>5</td><td>5</td><td>5</td><td>4</td></tr>\n",
       "\t<tr><th scope=row>6</th><td>3</td><td>2</td><td>3</td><td>4</td><td>4</td><td>6</td><td>7</td><td>7</td><td>7</td><td>7</td><td>⋯</td><td>6</td><td>5</td><td>6</td><td>3</td><td>4</td><td>6</td><td>5</td><td>2</td><td>4</td><td>4</td></tr>\n",
       "</tbody>\n",
       "</table>\n"
      ],
      "text/latex": [
       "A data.frame: 6 × 41\n",
       "\\begin{tabular}{r|lllllllllllllllllllll}\n",
       "  & serviceprovider & servicetype & comp\\_1 & comp\\_2 & comp\\_3 & like\\_1 & like\\_2 & like\\_3 & cusl\\_1 & cusl\\_2 & ⋯ & qual\\_4 & qual\\_5 & qual\\_6 & qual\\_7 & qual\\_8 & qual\\_global & switch\\_1 & switch\\_2 & switch\\_3 & switch\\_4\\\\\n",
       "  & <int> & <int> & <int> & <int> & <int> & <int> & <int> & <int> & <int> & <int> & ⋯ & <int> & <int> & <int> & <int> & <int> & <int> & <int> & <int> & <int> & <int>\\\\\n",
       "\\hline\n",
       "\t1 & 3 & 2 & 4 & 5 & 5 & 3 & 1 & 2 & 5 & 3 & ⋯ & 2 & 4 & 4 & 2 & 5 & 6 & 3 & 1 & 3 & 2\\\\\n",
       "\t2 & 3 & 2 & 6 & 7 & 6 & 6 & 6 & 6 & 7 & 7 & ⋯ & 6 & 5 & 6 & 6 & 5 & 6 & 5 & 5 & 4 & 4\\\\\n",
       "\t3 & 3 & 2 & 4 & 5 & 2 & 5 & 5 & 5 & 7 & 7 & ⋯ & 4 & 3 & 5 & 4 & 4 & 5 & 4 & 3 & 2 & 3\\\\\n",
       "\t4 & 3 & 2 & 6 & 4 & 4 & 6 & 5 & 6 & 7 & 7 & ⋯ & 7 & 5 & 4 & 5 & 6 & 7 & 3 & 4 & 4 & 2\\\\\n",
       "\t5 & 3 & 2 & 6 & 4 & 6 & 6 & 6 & 7 & 6 & 7 & ⋯ & 7 & 6 & 6 & 6 & 7 & 7 & 5 & 5 & 5 & 4\\\\\n",
       "\t6 & 3 & 2 & 3 & 4 & 4 & 6 & 7 & 7 & 7 & 7 & ⋯ & 6 & 5 & 6 & 3 & 4 & 6 & 5 & 2 & 4 & 4\\\\\n",
       "\\end{tabular}\n"
      ],
      "text/markdown": [
       "\n",
       "A data.frame: 6 × 41\n",
       "\n",
       "| <!--/--> | serviceprovider &lt;int&gt; | servicetype &lt;int&gt; | comp_1 &lt;int&gt; | comp_2 &lt;int&gt; | comp_3 &lt;int&gt; | like_1 &lt;int&gt; | like_2 &lt;int&gt; | like_3 &lt;int&gt; | cusl_1 &lt;int&gt; | cusl_2 &lt;int&gt; | ⋯ ⋯ | qual_4 &lt;int&gt; | qual_5 &lt;int&gt; | qual_6 &lt;int&gt; | qual_7 &lt;int&gt; | qual_8 &lt;int&gt; | qual_global &lt;int&gt; | switch_1 &lt;int&gt; | switch_2 &lt;int&gt; | switch_3 &lt;int&gt; | switch_4 &lt;int&gt; |\n",
       "|---|---|---|---|---|---|---|---|---|---|---|---|---|---|---|---|---|---|---|---|---|---|\n",
       "| 1 | 3 | 2 | 4 | 5 | 5 | 3 | 1 | 2 | 5 | 3 | ⋯ | 2 | 4 | 4 | 2 | 5 | 6 | 3 | 1 | 3 | 2 |\n",
       "| 2 | 3 | 2 | 6 | 7 | 6 | 6 | 6 | 6 | 7 | 7 | ⋯ | 6 | 5 | 6 | 6 | 5 | 6 | 5 | 5 | 4 | 4 |\n",
       "| 3 | 3 | 2 | 4 | 5 | 2 | 5 | 5 | 5 | 7 | 7 | ⋯ | 4 | 3 | 5 | 4 | 4 | 5 | 4 | 3 | 2 | 3 |\n",
       "| 4 | 3 | 2 | 6 | 4 | 4 | 6 | 5 | 6 | 7 | 7 | ⋯ | 7 | 5 | 4 | 5 | 6 | 7 | 3 | 4 | 4 | 2 |\n",
       "| 5 | 3 | 2 | 6 | 4 | 6 | 6 | 6 | 7 | 6 | 7 | ⋯ | 7 | 6 | 6 | 6 | 7 | 7 | 5 | 5 | 5 | 4 |\n",
       "| 6 | 3 | 2 | 3 | 4 | 4 | 6 | 7 | 7 | 7 | 7 | ⋯ | 6 | 5 | 6 | 3 | 4 | 6 | 5 | 2 | 4 | 4 |\n",
       "\n"
      ],
      "text/plain": [
       "  serviceprovider servicetype comp_1 comp_2 comp_3 like_1 like_2 like_3 cusl_1\n",
       "1 3               2           4      5      5      3      1      2      5     \n",
       "2 3               2           6      7      6      6      6      6      7     \n",
       "3 3               2           4      5      2      5      5      5      7     \n",
       "4 3               2           6      4      4      6      5      6      7     \n",
       "5 3               2           6      4      6      6      6      7      6     \n",
       "6 3               2           3      4      4      6      7      7      7     \n",
       "  cusl_2 <U+22EF>        qual_4 qual_5 qual_6 qual_7 qual_8 qual_global switch_1\n",
       "1 3      <U+22EF> 2      4      4      2      5      6           3       \n",
       "2 7      <U+22EF> 6      5      6      6      5      6           5       \n",
       "3 7      <U+22EF> 4      3      5      4      4      5           4       \n",
       "4 7      <U+22EF> 7      5      4      5      6      7           3       \n",
       "5 7      <U+22EF> 7      6      6      6      7      7           5       \n",
       "6 7      <U+22EF> 6      5      6      3      4      6           5       \n",
       "  switch_2 switch_3 switch_4\n",
       "1 1        3        2       \n",
       "2 5        4        4       \n",
       "3 3        2        3       \n",
       "4 4        4        2       \n",
       "5 5        5        4       \n",
       "6 2        4        4       "
      ]
     },
     "metadata": {},
     "output_type": "display_data"
    }
   ],
   "source": [
    "# Show the first several rows of the corporate reputation data\n",
    "head(corp_rep_data)"
   ]
  },
  {
   "cell_type": "code",
   "execution_count": 13,
   "metadata": {
    "vscode": {
     "languageId": "r"
    }
   },
   "outputs": [],
   "source": [
    "# Create measurement model \n",
    "simple_mm <- constructs(\n",
    "    composite('COMP', multi_items('comp_', 1:3)), \n",
    "    composite('LIKE', multi_items('like_', 1:3)), \n",
    "    composite('CUSA', single_item('cusa')), \n",
    "    composite('CUSL', multi_items('cusl_', 1:3)))"
   ]
  },
  {
   "cell_type": "code",
   "execution_count": 14,
   "metadata": {
    "vscode": {
     "languageId": "r"
    }
   },
   "outputs": [],
   "source": [
    "# Create structural model \n",
    "simple_sm <- relationships(\n",
    "    paths(from = c('COMP', 'LIKE'), to = c('CUSA', 'CUSL')), \n",
    "    paths(from = c('CUSA'), to = c('CUSL')))"
   ]
  },
  {
   "cell_type": "code",
   "execution_count": 16,
   "metadata": {
    "vscode": {
     "languageId": "r"
    }
   },
   "outputs": [
    {
     "name": "stderr",
     "output_type": "stream",
     "text": [
      "Generating the seminr model\n",
      "\n",
      "All 344 observations are valid.\n",
      "\n"
     ]
    }
   ],
   "source": [
    "# Estimate the model\n",
    "corp_rep_simple_model <- estimate_pls(\n",
    "    data = corp_rep_data, \n",
    "    measurement_model = simple_mm, \n",
    "    structural_model = simple_sm, \n",
    "    inner_weights = path_weighting, \n",
    "    missing = mean_replacement, \n",
    "    missing_value = '-99')"
   ]
  },
  {
   "cell_type": "code",
   "execution_count": 18,
   "metadata": {
    "vscode": {
     "languageId": "r"
    }
   },
   "outputs": [
    {
     "name": "stderr",
     "output_type": "stream",
     "text": [
      "Generating the seminr model\n",
      "\n",
      "All 344 observations are valid.\n",
      "\n"
     ]
    }
   ],
   "source": [
    "# Estimate the model with default settings\n",
    "corp_rep_simple_model <- estimate_pls(\n",
    "    data = corp_rep_data, \n",
    "    measurement_model = simple_mm,\n",
    "    structural_model = simple_sm,\n",
    "    missing_value = '-99')"
   ]
  },
  {
   "cell_type": "code",
   "execution_count": 19,
   "metadata": {
    "vscode": {
     "languageId": "r"
    }
   },
   "outputs": [],
   "source": [
    "# Summarize the model results\n",
    "summary_simple_corp_rep <- summary(corp_rep_simple_model)"
   ]
  },
  {
   "cell_type": "code",
   "execution_count": 20,
   "metadata": {
    "vscode": {
     "languageId": "r"
    }
   },
   "outputs": [
    {
     "data": {
      "text/html": [
       "<table class=\"dataframe\">\n",
       "<caption>A matrix: 5 × 2 of type dbl</caption>\n",
       "<thead>\n",
       "\t<tr><th></th><th scope=col>CUSA</th><th scope=col>CUSL</th></tr>\n",
       "</thead>\n",
       "<tbody>\n",
       "\t<tr><th scope=row>R^2</th><td>0.2945679</td><td>0.562038760</td></tr>\n",
       "\t<tr><th scope=row>AdjR^2</th><td>0.2904304</td><td>0.558174396</td></tr>\n",
       "\t<tr><th scope=row>COMP</th><td>0.1620512</td><td>0.009174543</td></tr>\n",
       "\t<tr><th scope=row>LIKE</th><td>0.4238696</td><td>0.342069437</td></tr>\n",
       "\t<tr><th scope=row>CUSA</th><td>       NA</td><td>0.504466308</td></tr>\n",
       "</tbody>\n",
       "</table>\n"
      ],
      "text/latex": [
       "A matrix: 5 × 2 of type dbl\n",
       "\\begin{tabular}{r|ll}\n",
       "  & CUSA & CUSL\\\\\n",
       "\\hline\n",
       "\tR\\textasciicircum{}2 & 0.2945679 & 0.562038760\\\\\n",
       "\tAdjR\\textasciicircum{}2 & 0.2904304 & 0.558174396\\\\\n",
       "\tCOMP & 0.1620512 & 0.009174543\\\\\n",
       "\tLIKE & 0.4238696 & 0.342069437\\\\\n",
       "\tCUSA &        NA & 0.504466308\\\\\n",
       "\\end{tabular}\n"
      ],
      "text/markdown": [
       "\n",
       "A matrix: 5 × 2 of type dbl\n",
       "\n",
       "| <!--/--> | CUSA | CUSL |\n",
       "|---|---|---|\n",
       "| R^2 | 0.2945679 | 0.562038760 |\n",
       "| AdjR^2 | 0.2904304 | 0.558174396 |\n",
       "| COMP | 0.1620512 | 0.009174543 |\n",
       "| LIKE | 0.4238696 | 0.342069437 |\n",
       "| CUSA |        NA | 0.504466308 |\n",
       "\n"
      ],
      "text/plain": [
       "       CUSA      CUSL       \n",
       "R^2    0.2945679 0.562038760\n",
       "AdjR^2 0.2904304 0.558174396\n",
       "COMP   0.1620512 0.009174543\n",
       "LIKE   0.4238696 0.342069437\n",
       "CUSA          NA 0.504466308"
      ]
     },
     "metadata": {},
     "output_type": "display_data"
    }
   ],
   "source": [
    "# Inspect the model’s path coefficients and the R^2 values\n",
    "summary_simple_corp_rep$paths"
   ]
  },
  {
   "cell_type": "code",
   "execution_count": 21,
   "metadata": {
    "vscode": {
     "languageId": "r"
    }
   },
   "outputs": [
    {
     "data": {
      "text/html": [
       "<table class=\"dataframe\">\n",
       "<caption>A matrix: 4 × 4 of type dbl</caption>\n",
       "<thead>\n",
       "\t<tr><th></th><th scope=col>alpha</th><th scope=col>rhoC</th><th scope=col>AVE</th><th scope=col>rhoA</th></tr>\n",
       "</thead>\n",
       "<tbody>\n",
       "\t<tr><th scope=row>COMP</th><td>0.7760283</td><td>0.8646151</td><td>0.6805816</td><td>0.8318793</td></tr>\n",
       "\t<tr><th scope=row>LIKE</th><td>0.8309866</td><td>0.8985664</td><td>0.7470805</td><td>0.8360573</td></tr>\n",
       "\t<tr><th scope=row>CUSA</th><td>1.0000000</td><td>1.0000000</td><td>1.0000000</td><td>1.0000000</td></tr>\n",
       "\t<tr><th scope=row>CUSL</th><td>0.8309882</td><td>0.8990671</td><td>0.7484172</td><td>0.8390415</td></tr>\n",
       "</tbody>\n",
       "</table>\n"
      ],
      "text/latex": [
       "A matrix: 4 × 4 of type dbl\n",
       "\\begin{tabular}{r|llll}\n",
       "  & alpha & rhoC & AVE & rhoA\\\\\n",
       "\\hline\n",
       "\tCOMP & 0.7760283 & 0.8646151 & 0.6805816 & 0.8318793\\\\\n",
       "\tLIKE & 0.8309866 & 0.8985664 & 0.7470805 & 0.8360573\\\\\n",
       "\tCUSA & 1.0000000 & 1.0000000 & 1.0000000 & 1.0000000\\\\\n",
       "\tCUSL & 0.8309882 & 0.8990671 & 0.7484172 & 0.8390415\\\\\n",
       "\\end{tabular}\n"
      ],
      "text/markdown": [
       "\n",
       "A matrix: 4 × 4 of type dbl\n",
       "\n",
       "| <!--/--> | alpha | rhoC | AVE | rhoA |\n",
       "|---|---|---|---|---|\n",
       "| COMP | 0.7760283 | 0.8646151 | 0.6805816 | 0.8318793 |\n",
       "| LIKE | 0.8309866 | 0.8985664 | 0.7470805 | 0.8360573 |\n",
       "| CUSA | 1.0000000 | 1.0000000 | 1.0000000 | 1.0000000 |\n",
       "| CUSL | 0.8309882 | 0.8990671 | 0.7484172 | 0.8390415 |\n",
       "\n"
      ],
      "text/plain": [
       "     alpha     rhoC      AVE       rhoA     \n",
       "COMP 0.7760283 0.8646151 0.6805816 0.8318793\n",
       "LIKE 0.8309866 0.8985664 0.7470805 0.8360573\n",
       "CUSA 1.0000000 1.0000000 1.0000000 1.0000000\n",
       "CUSL 0.8309882 0.8990671 0.7484172 0.8390415"
      ]
     },
     "metadata": {},
     "output_type": "display_data"
    }
   ],
   "source": [
    "# Inspect the construct reliability metrics \n",
    "summary_simple_corp_rep$reliability"
   ]
  },
  {
   "cell_type": "code",
   "execution_count": 23,
   "metadata": {
    "vscode": {
     "languageId": "r"
    }
   },
   "outputs": [
    {
     "name": "stderr",
     "output_type": "stream",
     "text": [
      "Bootstrapping model using seminr...\n",
      "\n",
      "SEMinR Model successfully bootstrapped\n",
      "\n"
     ]
    }
   ],
   "source": [
    "# Bootstrap the model\n",
    "boot_simple_corp_rep <- bootstrap_model(\n",
    "    seminr_model = corp_rep_simple_model,\n",
    "    nboot = 1000, \n",
    "    cores = NULL, \n",
    "    seed = 123)"
   ]
  },
  {
   "cell_type": "code",
   "execution_count": 24,
   "metadata": {
    "vscode": {
     "languageId": "r"
    }
   },
   "outputs": [],
   "source": [
    "# Store the summary of the bootstrapped model\n",
    "sum_boot_simple_corp_rep <- summary(boot_simple_corp_rep)"
   ]
  },
  {
   "cell_type": "code",
   "execution_count": 25,
   "metadata": {
    "vscode": {
     "languageId": "r"
    }
   },
   "outputs": [
    {
     "data": {
      "text/html": [
       "<table class=\"dataframe\">\n",
       "<caption>A matrix: 5 × 6 of type dbl</caption>\n",
       "<thead>\n",
       "\t<tr><th></th><th scope=col>Original Est.</th><th scope=col>Bootstrap Mean</th><th scope=col>Bootstrap SD</th><th scope=col>T Stat.</th><th scope=col>2.5% CI</th><th scope=col>97.5% CI</th></tr>\n",
       "</thead>\n",
       "<tbody>\n",
       "\t<tr><th scope=row><span style=white-space:pre-wrap>COMP  -&gt;  CUSA</span></th><td>0.162051225</td><td>0.16606946</td><td>0.06825057</td><td> 2.374357</td><td> 0.03765878</td><td>0.2984737</td></tr>\n",
       "\t<tr><th scope=row><span style=white-space:pre-wrap>COMP  -&gt;  CUSL</span></th><td>0.009174543</td><td>0.01100749</td><td>0.05565154</td><td> 0.164857</td><td>-0.09778233</td><td>0.1260371</td></tr>\n",
       "\t<tr><th scope=row><span style=white-space:pre-wrap>LIKE  -&gt;  CUSA</span></th><td>0.423869606</td><td>0.42236783</td><td>0.06180983</td><td> 6.857641</td><td> 0.29945525</td><td>0.5420963</td></tr>\n",
       "\t<tr><th scope=row><span style=white-space:pre-wrap>LIKE  -&gt;  CUSL</span></th><td>0.342069437</td><td>0.34042290</td><td>0.05646014</td><td> 6.058601</td><td> 0.22686838</td><td>0.4498754</td></tr>\n",
       "\t<tr><th scope=row><span style=white-space:pre-wrap>CUSA  -&gt;  CUSL</span></th><td>0.504466308</td><td>0.50419317</td><td>0.04211729</td><td>11.977654</td><td> 0.41871043</td><td>0.5850431</td></tr>\n",
       "</tbody>\n",
       "</table>\n"
      ],
      "text/latex": [
       "A matrix: 5 × 6 of type dbl\n",
       "\\begin{tabular}{r|llllll}\n",
       "  & Original Est. & Bootstrap Mean & Bootstrap SD & T Stat. & 2.5\\% CI & 97.5\\% CI\\\\\n",
       "\\hline\n",
       "\tCOMP  ->  CUSA & 0.162051225 & 0.16606946 & 0.06825057 &  2.374357 &  0.03765878 & 0.2984737\\\\\n",
       "\tCOMP  ->  CUSL & 0.009174543 & 0.01100749 & 0.05565154 &  0.164857 & -0.09778233 & 0.1260371\\\\\n",
       "\tLIKE  ->  CUSA & 0.423869606 & 0.42236783 & 0.06180983 &  6.857641 &  0.29945525 & 0.5420963\\\\\n",
       "\tLIKE  ->  CUSL & 0.342069437 & 0.34042290 & 0.05646014 &  6.058601 &  0.22686838 & 0.4498754\\\\\n",
       "\tCUSA  ->  CUSL & 0.504466308 & 0.50419317 & 0.04211729 & 11.977654 &  0.41871043 & 0.5850431\\\\\n",
       "\\end{tabular}\n"
      ],
      "text/markdown": [
       "\n",
       "A matrix: 5 × 6 of type dbl\n",
       "\n",
       "| <!--/--> | Original Est. | Bootstrap Mean | Bootstrap SD | T Stat. | 2.5% CI | 97.5% CI |\n",
       "|---|---|---|---|---|---|---|\n",
       "| COMP  -&gt;  CUSA | 0.162051225 | 0.16606946 | 0.06825057 |  2.374357 |  0.03765878 | 0.2984737 |\n",
       "| COMP  -&gt;  CUSL | 0.009174543 | 0.01100749 | 0.05565154 |  0.164857 | -0.09778233 | 0.1260371 |\n",
       "| LIKE  -&gt;  CUSA | 0.423869606 | 0.42236783 | 0.06180983 |  6.857641 |  0.29945525 | 0.5420963 |\n",
       "| LIKE  -&gt;  CUSL | 0.342069437 | 0.34042290 | 0.05646014 |  6.058601 |  0.22686838 | 0.4498754 |\n",
       "| CUSA  -&gt;  CUSL | 0.504466308 | 0.50419317 | 0.04211729 | 11.977654 |  0.41871043 | 0.5850431 |\n",
       "\n"
      ],
      "text/plain": [
       "               Original Est. Bootstrap Mean Bootstrap SD T Stat.   2.5% CI    \n",
       "COMP  ->  CUSA 0.162051225   0.16606946     0.06825057    2.374357  0.03765878\n",
       "COMP  ->  CUSL 0.009174543   0.01100749     0.05565154    0.164857 -0.09778233\n",
       "LIKE  ->  CUSA 0.423869606   0.42236783     0.06180983    6.857641  0.29945525\n",
       "LIKE  ->  CUSL 0.342069437   0.34042290     0.05646014    6.058601  0.22686838\n",
       "CUSA  ->  CUSL 0.504466308   0.50419317     0.04211729   11.977654  0.41871043\n",
       "               97.5% CI \n",
       "COMP  ->  CUSA 0.2984737\n",
       "COMP  ->  CUSL 0.1260371\n",
       "LIKE  ->  CUSA 0.5420963\n",
       "LIKE  ->  CUSL 0.4498754\n",
       "CUSA  ->  CUSL 0.5850431"
      ]
     },
     "metadata": {},
     "output_type": "display_data"
    }
   ],
   "source": [
    "# Inspect the bootstrapped structural paths \n",
    "sum_boot_simple_corp_rep$bootstrapped_paths"
   ]
  },
  {
   "cell_type": "code",
   "execution_count": 26,
   "metadata": {
    "vscode": {
     "languageId": "r"
    }
   },
   "outputs": [
    {
     "data": {
      "text/html": [
       "<table class=\"dataframe\">\n",
       "<caption>A matrix: 10 × 6 of type dbl</caption>\n",
       "<thead>\n",
       "\t<tr><th></th><th scope=col>Original Est.</th><th scope=col>Bootstrap Mean</th><th scope=col>Bootstrap SD</th><th scope=col>T Stat.</th><th scope=col>2.5% CI</th><th scope=col>97.5% CI</th></tr>\n",
       "</thead>\n",
       "<tbody>\n",
       "\t<tr><th scope=row><span style=white-space:pre-wrap>comp_1  -&gt;  COMP</span></th><td>0.8577188</td><td>0.8576521</td><td>2.073469e-02</td><td>41.36636</td><td>0.8125353</td><td>0.8950192</td></tr>\n",
       "\t<tr><th scope=row><span style=white-space:pre-wrap>comp_2  -&gt;  COMP</span></th><td>0.7984526</td><td>0.7968225</td><td>2.881530e-02</td><td>27.70933</td><td>0.7300102</td><td>0.8428669</td></tr>\n",
       "\t<tr><th scope=row><span style=white-space:pre-wrap>comp_3  -&gt;  COMP</span></th><td>0.8176411</td><td>0.8140940</td><td>3.115288e-02</td><td>26.24609</td><td>0.7462230</td><td>0.8655297</td></tr>\n",
       "\t<tr><th scope=row><span style=white-space:pre-wrap>like_1  -&gt;  LIKE</span></th><td>0.8793263</td><td>0.8796771</td><td>1.721186e-02</td><td>51.08839</td><td>0.8425527</td><td>0.9096542</td></tr>\n",
       "\t<tr><th scope=row><span style=white-space:pre-wrap>like_2  -&gt;  LIKE</span></th><td>0.8702393</td><td>0.8685666</td><td>1.834869e-02</td><td>47.42787</td><td>0.8300191</td><td>0.9002398</td></tr>\n",
       "\t<tr><th scope=row><span style=white-space:pre-wrap>like_3  -&gt;  LIKE</span></th><td>0.8430364</td><td>0.8418949</td><td>2.035482e-02</td><td>41.41704</td><td>0.7985460</td><td>0.8787622</td></tr>\n",
       "\t<tr><th scope=row><span style=white-space:pre-wrap>cusa  -&gt;  CUSA</span></th><td>1.0000000</td><td>1.0000000</td><td>2.798047e-15</td><td>      NA</td><td>1.0000000</td><td>1.0000000</td></tr>\n",
       "\t<tr><th scope=row><span style=white-space:pre-wrap>cusl_1  -&gt;  CUSL</span></th><td>0.8328272</td><td>0.8316624</td><td>2.357204e-02</td><td>35.33115</td><td>0.7802457</td><td>0.8736887</td></tr>\n",
       "\t<tr><th scope=row><span style=white-space:pre-wrap>cusl_2  -&gt;  CUSL</span></th><td>0.9172732</td><td>0.9170540</td><td>1.032111e-02</td><td>88.87353</td><td>0.8941109</td><td>0.9354416</td></tr>\n",
       "\t<tr><th scope=row><span style=white-space:pre-wrap>cusl_3  -&gt;  CUSL</span></th><td>0.8427695</td><td>0.8417575</td><td>2.269544e-02</td><td>37.13388</td><td>0.7928199</td><td>0.8810509</td></tr>\n",
       "</tbody>\n",
       "</table>\n"
      ],
      "text/latex": [
       "A matrix: 10 × 6 of type dbl\n",
       "\\begin{tabular}{r|llllll}\n",
       "  & Original Est. & Bootstrap Mean & Bootstrap SD & T Stat. & 2.5\\% CI & 97.5\\% CI\\\\\n",
       "\\hline\n",
       "\tcomp\\_1  ->  COMP & 0.8577188 & 0.8576521 & 2.073469e-02 & 41.36636 & 0.8125353 & 0.8950192\\\\\n",
       "\tcomp\\_2  ->  COMP & 0.7984526 & 0.7968225 & 2.881530e-02 & 27.70933 & 0.7300102 & 0.8428669\\\\\n",
       "\tcomp\\_3  ->  COMP & 0.8176411 & 0.8140940 & 3.115288e-02 & 26.24609 & 0.7462230 & 0.8655297\\\\\n",
       "\tlike\\_1  ->  LIKE & 0.8793263 & 0.8796771 & 1.721186e-02 & 51.08839 & 0.8425527 & 0.9096542\\\\\n",
       "\tlike\\_2  ->  LIKE & 0.8702393 & 0.8685666 & 1.834869e-02 & 47.42787 & 0.8300191 & 0.9002398\\\\\n",
       "\tlike\\_3  ->  LIKE & 0.8430364 & 0.8418949 & 2.035482e-02 & 41.41704 & 0.7985460 & 0.8787622\\\\\n",
       "\tcusa  ->  CUSA & 1.0000000 & 1.0000000 & 2.798047e-15 &       NA & 1.0000000 & 1.0000000\\\\\n",
       "\tcusl\\_1  ->  CUSL & 0.8328272 & 0.8316624 & 2.357204e-02 & 35.33115 & 0.7802457 & 0.8736887\\\\\n",
       "\tcusl\\_2  ->  CUSL & 0.9172732 & 0.9170540 & 1.032111e-02 & 88.87353 & 0.8941109 & 0.9354416\\\\\n",
       "\tcusl\\_3  ->  CUSL & 0.8427695 & 0.8417575 & 2.269544e-02 & 37.13388 & 0.7928199 & 0.8810509\\\\\n",
       "\\end{tabular}\n"
      ],
      "text/markdown": [
       "\n",
       "A matrix: 10 × 6 of type dbl\n",
       "\n",
       "| <!--/--> | Original Est. | Bootstrap Mean | Bootstrap SD | T Stat. | 2.5% CI | 97.5% CI |\n",
       "|---|---|---|---|---|---|---|\n",
       "| comp_1  -&gt;  COMP | 0.8577188 | 0.8576521 | 2.073469e-02 | 41.36636 | 0.8125353 | 0.8950192 |\n",
       "| comp_2  -&gt;  COMP | 0.7984526 | 0.7968225 | 2.881530e-02 | 27.70933 | 0.7300102 | 0.8428669 |\n",
       "| comp_3  -&gt;  COMP | 0.8176411 | 0.8140940 | 3.115288e-02 | 26.24609 | 0.7462230 | 0.8655297 |\n",
       "| like_1  -&gt;  LIKE | 0.8793263 | 0.8796771 | 1.721186e-02 | 51.08839 | 0.8425527 | 0.9096542 |\n",
       "| like_2  -&gt;  LIKE | 0.8702393 | 0.8685666 | 1.834869e-02 | 47.42787 | 0.8300191 | 0.9002398 |\n",
       "| like_3  -&gt;  LIKE | 0.8430364 | 0.8418949 | 2.035482e-02 | 41.41704 | 0.7985460 | 0.8787622 |\n",
       "| cusa  -&gt;  CUSA | 1.0000000 | 1.0000000 | 2.798047e-15 |       NA | 1.0000000 | 1.0000000 |\n",
       "| cusl_1  -&gt;  CUSL | 0.8328272 | 0.8316624 | 2.357204e-02 | 35.33115 | 0.7802457 | 0.8736887 |\n",
       "| cusl_2  -&gt;  CUSL | 0.9172732 | 0.9170540 | 1.032111e-02 | 88.87353 | 0.8941109 | 0.9354416 |\n",
       "| cusl_3  -&gt;  CUSL | 0.8427695 | 0.8417575 | 2.269544e-02 | 37.13388 | 0.7928199 | 0.8810509 |\n",
       "\n"
      ],
      "text/plain": [
       "                 Original Est. Bootstrap Mean Bootstrap SD T Stat.  2.5% CI  \n",
       "comp_1  ->  COMP 0.8577188     0.8576521      2.073469e-02 41.36636 0.8125353\n",
       "comp_2  ->  COMP 0.7984526     0.7968225      2.881530e-02 27.70933 0.7300102\n",
       "comp_3  ->  COMP 0.8176411     0.8140940      3.115288e-02 26.24609 0.7462230\n",
       "like_1  ->  LIKE 0.8793263     0.8796771      1.721186e-02 51.08839 0.8425527\n",
       "like_2  ->  LIKE 0.8702393     0.8685666      1.834869e-02 47.42787 0.8300191\n",
       "like_3  ->  LIKE 0.8430364     0.8418949      2.035482e-02 41.41704 0.7985460\n",
       "cusa  ->  CUSA   1.0000000     1.0000000      2.798047e-15       NA 1.0000000\n",
       "cusl_1  ->  CUSL 0.8328272     0.8316624      2.357204e-02 35.33115 0.7802457\n",
       "cusl_2  ->  CUSL 0.9172732     0.9170540      1.032111e-02 88.87353 0.8941109\n",
       "cusl_3  ->  CUSL 0.8427695     0.8417575      2.269544e-02 37.13388 0.7928199\n",
       "                 97.5% CI \n",
       "comp_1  ->  COMP 0.8950192\n",
       "comp_2  ->  COMP 0.8428669\n",
       "comp_3  ->  COMP 0.8655297\n",
       "like_1  ->  LIKE 0.9096542\n",
       "like_2  ->  LIKE 0.9002398\n",
       "like_3  ->  LIKE 0.8787622\n",
       "cusa  ->  CUSA   1.0000000\n",
       "cusl_1  ->  CUSL 0.8736887\n",
       "cusl_2  ->  CUSL 0.9354416\n",
       "cusl_3  ->  CUSL 0.8810509"
      ]
     },
     "metadata": {},
     "output_type": "display_data"
    }
   ],
   "source": [
    "# Inspect the bootstrapped indicator loadings \n",
    "sum_boot_simple_corp_rep$bootstrapped_loadings"
   ]
  },
  {
   "cell_type": "code",
   "execution_count": 28,
   "metadata": {
    "vscode": {
     "languageId": "r"
    }
   },
   "outputs": [],
   "source": [
    "# Write the bootstrapped paths object to csv file\n",
    "write.csv(\n",
    "    x = sum_boot_simple_corp_rep$bootstrapped_loadings, \n",
    "    file = 'boot_loadings.csv')"
   ]
  },
  {
   "cell_type": "markdown",
   "metadata": {},
   "source": [
    "<h1>How to do a PLS-SEM write up</h1>\n",
    "\n",
    "- PLS-SEM write up \n",
    "\t- Determine rather a construct is formative or reflective  \n",
    "\t\t- Determined using theoretical constructs  \n",
    "\t\t\tconstruct is reflective when items forming a latent constructs are interchangeable and theoretically points to a single dimension, while formative constructs are theoretically distinct and thus the items are not interchangeable {Diamantopoulos, 2001 #1185}\n",
    "\n",
    "\t\t- Determined convergent and discriminant validity of constructs  \n",
    "\t\t\tSince model fits are covariance based, they are less applicable to PLS model estimations {Hair, 2019 #1439}. Instead, factorial validity is estavblished through finding statistical support for convergent and discriminant validities {Straub, 2004 #1912}, which are assessed through comparing the respective indicators to their respective thresholds.\n",
    "\n",
    "\t- Establishing factorial validities of Reflective Constructs  \n",
    "\t\t- Indicator loadings  \n",
    "\t\t\titem loadings for a latent variable is significant {Moody, 2014 #1022}, with a loading of .708 or higher {Hair, 2019 #1439}\n",
    "\n",
    "\t\t- internal consistency reliability  \n",
    "\t\t\tCronbach’s alpha and composite reliability that is higher than .70 (or .60) and below .90 is considered acceptable {Hair, 2019 #1439}, \n",
    "\n",
    "\t\t- Convergent validity  \n",
    "\t\t\tConvergent validity, which refers to “the extent to which the converges to explain the variance of its items,” {Hair, 2019 #1439@9} is evaluated by average variance extracted (AVE) which should be larger than .50 {Hair, 2019 #1439}, \n",
    "\n",
    "\t\t- Discriminant validity  \n",
    "\t\t\tDiscriminant validity is the extent to which a construct is empirically distinct from other constructs in the structural model {Hair, 2019 #1439@9}.\n",
    "\t\t\t\n",
    "\t\t\tFornell-Larcker criterion {Fornell, 1981 #1299}, which is assessed by comparing square roots of AVE and find if they are larger than correlations between constructs {Moody, 2014 #1022}{Hair, 2019 #1439}\n",
    "\t\t\t\n",
    "\t\t\tor\n",
    "\t\t\t\n",
    "\t\t\tHeterotrait-monotrait ratio (HTMT) is smaller than .90 (for similar constructs) or .80 (for different constructs) {Hair, 2019 #1439}, \n",
    "\n",
    "\t- Establishing factorial validities of Formative Constructs  \n",
    "\t\t- Convergent validity  \n",
    "\t\t\tcomparing alternative single item measure. correlation should be higher than 0.70.\n",
    "\t\t\t\n",
    "\t\t\tOften omitted\n",
    "\n",
    "\t\t- Theoretical support for factorial validity  \n",
    "\t\t\t{Diamantopoulos, 2001 #1185}\n",
    "\n",
    "\t\t- Checking for multicollinearity issues   \n",
    "\t\t\tMulticollinearity issues were assessed by observing variance inflation factor (VIF) whcich were within ideal/acceptible range (<3/<3.5) and VIF of >5 is potentially problematic.\n",
    "\n",
    "\t\t- Indicator weights’ statistical significance and relevance  \n",
    "\t\t\tcheck if the indicator weights are statistically significant. An indicator should be deleted if its weight is insignificant and loadings are below 0.50 and significant.\n",
    "\n",
    "\t- Assessing the structural model  \n",
    "\t\t- Collinearity assessment  \n",
    "\t\t\tCollinearity should be examinde to make sure the regression results were not biased (VIF<5/3).\n",
    "\n",
    "\t\t- R2  \n",
    "\t\t\ta measure of the model’s explanatory power, i.e., in-sample predictive power\n",
    "\t\t\t\n",
    "\t\t\t.75, .50, .25 is substantial, moderate, weak\n",
    "\n",
    "\t\t- f2 (optional)  \n",
    "\t\t\treported if editors are reviewers request\n",
    "\t\t\t\n",
    "\t\t\treport to the presence of partial or full mediation\n",
    "\t\t\t\n",
    "\t\t\t.02, .15, .35 is small, medium, and large\n",
    "\n",
    "\t\t- Q2  \n",
    "\t\t\tmodel’s predictive accuracy for an endogenous construct\n",
    "\t\t\t\n",
    "\t\t\t0, .25, .50 depict small,  medium, and large predictive relevance\n",
    "\t\t\t\n",
    "\t\t\tuse blindfolding from smartPLS\n",
    "\n",
    "\t\t- Q2predict  \n",
    "\t\t\tQ2predict of the key target construct is higher than the most naïve benchmark (>0)\n",
    "\n",
    "\t\t- PLSpredict  \n",
    "\t\t\tcomparison of root mean squared error (RMSE) between PLS-SEM analysis and linear regression model (LM) benchmark\n",
    "\t\t\t\n",
    "\t\t\tin “MV Prediction Summary” in PLS predict of smartPLS\n",
    "\t\t\t\n",
    "\t\t\tif RMSE of\n",
    "\t\t\t\n",
    "\t\t\tall indicators of LM<PLS, then no predictive power\n",
    "\t\t\t\n",
    "\t\t\tLM≤PLS, then low predictive power\n",
    "\t\t\t\n",
    "\t\t\tLM≥PLS, then medium predictive power\n",
    "\t\t\t\n",
    "\t\t\tnone is LM<PLS, then high predictive power\n",
    "\n",
    "\t\t- bootstrapping  \n",
    "\t\t\tsignificance and relevance of the path coeficients. mediation analysis is optional\n",
    "\t\t\t\n",
    "\n",
    "\t\t- IPMA (optional)  \n",
    "\t\t\timportance-performance map analysis.\n",
    "\t\t\toptional\n",
    "\t\t\t\n",
    "\n",
    "\t\t- BIC and GM (optional)  \n",
    "\t\t\tcomparing models\n",
    "\n",
    "\t- Robustness Check  \n",
    "\t\t- CTA-PLS (optional)  \n",
    "\t\t\tif CI lower and upper are\n",
    "\t\t\t-, - then formative\n",
    "\t\t\t+, - then formative\n",
    "\t\t\t-, + then reflective\n",
    "\t\t\t\n",
    "\t\t\tthis is optional as theoretical reasoning is primary approach\n",
    "\n",
    "\t\t- Nonlinear effects (optional)  \n",
    "\t\t\ta significant test statistic in any of the partial regreassions indicates a potential nonlinear effect\n",
    "\n",
    "\t\t- Endogeneity (optional)  \n",
    "\t\t\ttest for endogeneity when a construct is omitted for any reason\n",
    "\n",
    "\t\t- Unobserved heterogeneity  \n",
    "\t\t\trather a part of data is different than others\n",
    "\t\t\t\n",
    "\t\t\t1. run FIMIX (finite mixture) segmentation for  1, 2, 3, … n segments\n",
    "\t\t\t2. compare the Segment Sizes and see if they are too small; omit segment numberst that are too small\n",
    "\t\t\t3. put together the Fit Indicies for each test together in one table\n",
    "\t\t\t4. Identify the smallest number from each row:\n",
    "\t\t\tAIC: Choose fewer clusterst than this one\n",
    "\t\t\tMDL5: Choose more clusters than this one\n",
    "\t\t\tAIC3 & CAIC: Choose that number of cluster if they are the same\n",
    "\t\t\tAIC4 & BIC: Choose that cluster number if the minimum is in the same column\n",
    "\t\t\tEN should be>.5\n",
    "\t\t\t\n",
    "\t\t\t5. if they are in cluster 1, then there is no segmentation in the data."
   ]
  },
  {
   "cell_type": "markdown",
   "metadata": {},
   "source": [
    "<h1>Simpler Description</h1>\n",
    "with SmartPLS directions\n",
    "\n",
    "see page 73 of the Hair et al. book for the figure from https://www.smartpls.com/documentation/functionalities/thresholds/\n",
    "\n",
    "**PLS-SEM algorithm results report including consistent PLS (PLSc)**\n",
    "\n",
    "--> Final results --> Outer loadings: green if >= 0.7 and red if < 0.7\n",
    "\n",
    "--> Quality criteria --> f-square: green if >= 0.15 (moderate), black if >= 0.02 (small), and red if < 0.02 (negligible)\n",
    "\n",
    "--> Quality criteria --> Construct reliability and validity --> Cronbach's alpha: green if >= 0.7 and red if < 0.7\n",
    "\n",
    "--> Quality criteria --> Construct reliability and validity --> composite reliability rho_a: green if >= 0.7 and red if < 0.7\n",
    "\n",
    "--> Quality criteria --> Construct reliability and validity --> composite reliability rho_c: green if >= 0.7 and red if < 0.7\n",
    "\n",
    "--> Quality criteria --> Construct reliability and validity --> average variance extracted (AVE): green if >= 0.5 and red if < 0.5\n",
    "\n",
    "--> Quality criteria --> Discriminant validity --> heterotrait-monotrait ratio (HTMT): green if <= 0.85, black if <= 0.9, and red > 0.9\n",
    "\n",
    "--> Quality criteria --> Discriminant validity --> Variance inflation factor (VIF): green if <= 3, black if <= 5, and red if >  5"
   ]
  }
 ],
 "metadata": {
  "kernelspec": {
   "display_name": "R",
   "language": "R",
   "name": "ir"
  },
  "language_info": {
   "codemirror_mode": "r",
   "file_extension": ".r",
   "mimetype": "text/x-r-source",
   "name": "R",
   "pygments_lexer": "r",
   "version": "4.2.1"
  }
 },
 "nbformat": 4,
 "nbformat_minor": 2
}
