{
 "cells": [
  {
   "cell_type": "code",
   "execution_count": 1,
   "metadata": {
    "vscode": {
     "languageId": "r"
    }
   },
   "outputs": [
    {
     "name": "stdout",
     "output_type": "stream",
     "text": [
      "\n",
      "The downloaded binary packages are in\n",
      "\t/var/folders/p9/s35_kx491l3f1qcxx11y7p280000gn/T//RtmpDcQ5fE/downloaded_packages\n"
     ]
    },
    {
     "name": "stderr",
     "output_type": "stream",
     "text": [
      "also installing the dependency 'snakecase'\n",
      "\n",
      "\n"
     ]
    },
    {
     "name": "stdout",
     "output_type": "stream",
     "text": [
      "\n",
      "The downloaded binary packages are in\n",
      "\t/var/folders/p9/s35_kx491l3f1qcxx11y7p280000gn/T//RtmpDcQ5fE/downloaded_packages\n"
     ]
    },
    {
     "name": "stderr",
     "output_type": "stream",
     "text": [
      "\n",
      "Attaching package: 'seminr'\n",
      "\n",
      "\n",
      "The following objects are masked _by_ '.GlobalEnv':\n",
      "\n",
      "    corp_rep_data, corp_rep_data2\n",
      "\n",
      "\n",
      "\n",
      "Attaching package: 'janitor'\n",
      "\n",
      "\n",
      "The following objects are masked from 'package:stats':\n",
      "\n",
      "    chisq.test, fisher.test\n",
      "\n",
      "\n"
     ]
    }
   ],
   "source": [
    "#install packages\n",
    "install.packages(\"seminr\")\n",
    "install.packages(\"janitor\")\n",
    "\n",
    "#load packages\n",
    "library(seminr)\n",
    "library(janitor)"
   ]
  },
  {
   "cell_type": "code",
   "execution_count": 3,
   "metadata": {
    "vscode": {
     "languageId": "r"
    }
   },
   "outputs": [
    {
     "data": {
      "text/html": [
       "<style>\n",
       ".list-inline {list-style: none; margin:0; padding: 0}\n",
       ".list-inline>li {display: inline-block}\n",
       ".list-inline>li:not(:last-child)::after {content: \"\\00b7\"; padding: 0 .5ex}\n",
       "</style>\n",
       "<ol class=list-inline><li>'x_lwligmanstp'</li><li>'lwligmanflk'</li><li>'lwlighmanflw'</li><li>'lwintrange1'</li><li>'lwintrange2'</li><li>'lwintrange3'</li><li>'lwintrange4'</li><li>'lwintmaping1'</li><li>'lwintmaping2'</li><li>'lwintmaping3'</li><li>'lwintmaping4'</li><li>'lwmemory_bp'</li><li>'lwmemoty_etc'</li><li>'lwflw1'</li><li>'lwflw2'</li><li>'lwflw3'</li><li>'lwflw4'</li><li>'lwflw5'</li><li>'lwflw6'</li><li>'lwation1'</li><li>'lwation2'</li><li>'lwation3'</li><li>'lwation4'</li><li>'lwvvd1'</li><li>'lwvvd2'</li><li>'lwvvd3'</li><li>'lwvvd4'</li><li>'lwvvd5'</li><li>'lwvvd6'</li><li>'lwvvd7'</li><li>'lwatd_all1'</li><li>'lwatd_all2'</li><li>'lwatd_all3'</li><li>'lwatd_all4'</li><li>'lwatd_all5'</li><li>'lwatd_int1'</li><li>'lwatd_int2'</li><li>'lwatd_int3'</li><li>'lwatd_int4'</li><li>'lwatd_int5'</li><li>'lwatd_lig1'</li><li>'lwatd_lig2'</li><li>'lwatd_lig3'</li><li>'lwatd_lig4'</li><li>'lwatd_lig5'</li><li>'lwprint1'</li><li>'lwprint2'</li><li>'lwprint3'</li><li>'lwprint4'</li><li>'lwavod1'</li><li>'lwavod2'</li><li>'lwavod3'</li><li>'lwsatis1'</li><li>'lwsatis2'</li><li>'lwsatis3'</li><li>'lwsatis4'</li><li>'hiligmanstp'</li><li>'hiligmanflk'</li><li>'hilighmanflw'</li><li>'hiintrange1'</li><li>'hiintrange2'</li><li>'hiintrange3'</li><li>'hiintrange4'</li><li>'hiintmaping1'</li><li>'hiintmaping2'</li><li>'hiintmaping3'</li><li>'hiintmaping4'</li><li>'himemory_bp'</li><li>'himemoty_etc'</li><li>'hiflw1'</li><li>'hiflw2'</li><li>'hiflw3'</li><li>'hiflw4'</li><li>'hiflw5'</li><li>'hiflw6'</li><li>'hiation1'</li><li>'hiation2'</li><li>'hiation3'</li><li>'hiation4'</li><li>'hivvd1'</li><li>'hivvd2'</li><li>'hivvd3'</li><li>'hivvd4'</li><li>'hivvd5'</li><li>'hivvd6'</li><li>'hivvd7'</li><li>'hiatd_all1'</li><li>'hiatd_all2'</li><li>'hiatd_all3'</li><li>'hiatd_all4'</li><li>'hiatd_all5'</li><li>'hiatd_int1'</li><li>'hiatd_int2'</li><li>'hiatd_int3'</li><li>'hiatd_int4'</li><li>'hiatd_int5'</li><li>'hiatd_lig1'</li><li>'hiatd_lig2'</li><li>'hiatd_lig3'</li><li>'hiatd_lig4'</li><li>'hiatd_lig5'</li><li>'hiprint1'</li><li>'hiprint2'</li><li>'hiprint3'</li><li>'hiprint4'</li><li>'hiavod1'</li><li>'hiavod2'</li><li>'hiavod3'</li><li>'hisatis1'</li><li>'hisatis2'</li><li>'hisatis3'</li><li>'hisatis4'</li><li>'liggroup'</li></ol>\n"
      ],
      "text/latex": [
       "\\begin{enumerate*}\n",
       "\\item 'x\\_lwligmanstp'\n",
       "\\item 'lwligmanflk'\n",
       "\\item 'lwlighmanflw'\n",
       "\\item 'lwintrange1'\n",
       "\\item 'lwintrange2'\n",
       "\\item 'lwintrange3'\n",
       "\\item 'lwintrange4'\n",
       "\\item 'lwintmaping1'\n",
       "\\item 'lwintmaping2'\n",
       "\\item 'lwintmaping3'\n",
       "\\item 'lwintmaping4'\n",
       "\\item 'lwmemory\\_bp'\n",
       "\\item 'lwmemoty\\_etc'\n",
       "\\item 'lwflw1'\n",
       "\\item 'lwflw2'\n",
       "\\item 'lwflw3'\n",
       "\\item 'lwflw4'\n",
       "\\item 'lwflw5'\n",
       "\\item 'lwflw6'\n",
       "\\item 'lwation1'\n",
       "\\item 'lwation2'\n",
       "\\item 'lwation3'\n",
       "\\item 'lwation4'\n",
       "\\item 'lwvvd1'\n",
       "\\item 'lwvvd2'\n",
       "\\item 'lwvvd3'\n",
       "\\item 'lwvvd4'\n",
       "\\item 'lwvvd5'\n",
       "\\item 'lwvvd6'\n",
       "\\item 'lwvvd7'\n",
       "\\item 'lwatd\\_all1'\n",
       "\\item 'lwatd\\_all2'\n",
       "\\item 'lwatd\\_all3'\n",
       "\\item 'lwatd\\_all4'\n",
       "\\item 'lwatd\\_all5'\n",
       "\\item 'lwatd\\_int1'\n",
       "\\item 'lwatd\\_int2'\n",
       "\\item 'lwatd\\_int3'\n",
       "\\item 'lwatd\\_int4'\n",
       "\\item 'lwatd\\_int5'\n",
       "\\item 'lwatd\\_lig1'\n",
       "\\item 'lwatd\\_lig2'\n",
       "\\item 'lwatd\\_lig3'\n",
       "\\item 'lwatd\\_lig4'\n",
       "\\item 'lwatd\\_lig5'\n",
       "\\item 'lwprint1'\n",
       "\\item 'lwprint2'\n",
       "\\item 'lwprint3'\n",
       "\\item 'lwprint4'\n",
       "\\item 'lwavod1'\n",
       "\\item 'lwavod2'\n",
       "\\item 'lwavod3'\n",
       "\\item 'lwsatis1'\n",
       "\\item 'lwsatis2'\n",
       "\\item 'lwsatis3'\n",
       "\\item 'lwsatis4'\n",
       "\\item 'hiligmanstp'\n",
       "\\item 'hiligmanflk'\n",
       "\\item 'hilighmanflw'\n",
       "\\item 'hiintrange1'\n",
       "\\item 'hiintrange2'\n",
       "\\item 'hiintrange3'\n",
       "\\item 'hiintrange4'\n",
       "\\item 'hiintmaping1'\n",
       "\\item 'hiintmaping2'\n",
       "\\item 'hiintmaping3'\n",
       "\\item 'hiintmaping4'\n",
       "\\item 'himemory\\_bp'\n",
       "\\item 'himemoty\\_etc'\n",
       "\\item 'hiflw1'\n",
       "\\item 'hiflw2'\n",
       "\\item 'hiflw3'\n",
       "\\item 'hiflw4'\n",
       "\\item 'hiflw5'\n",
       "\\item 'hiflw6'\n",
       "\\item 'hiation1'\n",
       "\\item 'hiation2'\n",
       "\\item 'hiation3'\n",
       "\\item 'hiation4'\n",
       "\\item 'hivvd1'\n",
       "\\item 'hivvd2'\n",
       "\\item 'hivvd3'\n",
       "\\item 'hivvd4'\n",
       "\\item 'hivvd5'\n",
       "\\item 'hivvd6'\n",
       "\\item 'hivvd7'\n",
       "\\item 'hiatd\\_all1'\n",
       "\\item 'hiatd\\_all2'\n",
       "\\item 'hiatd\\_all3'\n",
       "\\item 'hiatd\\_all4'\n",
       "\\item 'hiatd\\_all5'\n",
       "\\item 'hiatd\\_int1'\n",
       "\\item 'hiatd\\_int2'\n",
       "\\item 'hiatd\\_int3'\n",
       "\\item 'hiatd\\_int4'\n",
       "\\item 'hiatd\\_int5'\n",
       "\\item 'hiatd\\_lig1'\n",
       "\\item 'hiatd\\_lig2'\n",
       "\\item 'hiatd\\_lig3'\n",
       "\\item 'hiatd\\_lig4'\n",
       "\\item 'hiatd\\_lig5'\n",
       "\\item 'hiprint1'\n",
       "\\item 'hiprint2'\n",
       "\\item 'hiprint3'\n",
       "\\item 'hiprint4'\n",
       "\\item 'hiavod1'\n",
       "\\item 'hiavod2'\n",
       "\\item 'hiavod3'\n",
       "\\item 'hisatis1'\n",
       "\\item 'hisatis2'\n",
       "\\item 'hisatis3'\n",
       "\\item 'hisatis4'\n",
       "\\item 'liggroup'\n",
       "\\end{enumerate*}\n"
      ],
      "text/markdown": [
       "1. 'x_lwligmanstp'\n",
       "2. 'lwligmanflk'\n",
       "3. 'lwlighmanflw'\n",
       "4. 'lwintrange1'\n",
       "5. 'lwintrange2'\n",
       "6. 'lwintrange3'\n",
       "7. 'lwintrange4'\n",
       "8. 'lwintmaping1'\n",
       "9. 'lwintmaping2'\n",
       "10. 'lwintmaping3'\n",
       "11. 'lwintmaping4'\n",
       "12. 'lwmemory_bp'\n",
       "13. 'lwmemoty_etc'\n",
       "14. 'lwflw1'\n",
       "15. 'lwflw2'\n",
       "16. 'lwflw3'\n",
       "17. 'lwflw4'\n",
       "18. 'lwflw5'\n",
       "19. 'lwflw6'\n",
       "20. 'lwation1'\n",
       "21. 'lwation2'\n",
       "22. 'lwation3'\n",
       "23. 'lwation4'\n",
       "24. 'lwvvd1'\n",
       "25. 'lwvvd2'\n",
       "26. 'lwvvd3'\n",
       "27. 'lwvvd4'\n",
       "28. 'lwvvd5'\n",
       "29. 'lwvvd6'\n",
       "30. 'lwvvd7'\n",
       "31. 'lwatd_all1'\n",
       "32. 'lwatd_all2'\n",
       "33. 'lwatd_all3'\n",
       "34. 'lwatd_all4'\n",
       "35. 'lwatd_all5'\n",
       "36. 'lwatd_int1'\n",
       "37. 'lwatd_int2'\n",
       "38. 'lwatd_int3'\n",
       "39. 'lwatd_int4'\n",
       "40. 'lwatd_int5'\n",
       "41. 'lwatd_lig1'\n",
       "42. 'lwatd_lig2'\n",
       "43. 'lwatd_lig3'\n",
       "44. 'lwatd_lig4'\n",
       "45. 'lwatd_lig5'\n",
       "46. 'lwprint1'\n",
       "47. 'lwprint2'\n",
       "48. 'lwprint3'\n",
       "49. 'lwprint4'\n",
       "50. 'lwavod1'\n",
       "51. 'lwavod2'\n",
       "52. 'lwavod3'\n",
       "53. 'lwsatis1'\n",
       "54. 'lwsatis2'\n",
       "55. 'lwsatis3'\n",
       "56. 'lwsatis4'\n",
       "57. 'hiligmanstp'\n",
       "58. 'hiligmanflk'\n",
       "59. 'hilighmanflw'\n",
       "60. 'hiintrange1'\n",
       "61. 'hiintrange2'\n",
       "62. 'hiintrange3'\n",
       "63. 'hiintrange4'\n",
       "64. 'hiintmaping1'\n",
       "65. 'hiintmaping2'\n",
       "66. 'hiintmaping3'\n",
       "67. 'hiintmaping4'\n",
       "68. 'himemory_bp'\n",
       "69. 'himemoty_etc'\n",
       "70. 'hiflw1'\n",
       "71. 'hiflw2'\n",
       "72. 'hiflw3'\n",
       "73. 'hiflw4'\n",
       "74. 'hiflw5'\n",
       "75. 'hiflw6'\n",
       "76. 'hiation1'\n",
       "77. 'hiation2'\n",
       "78. 'hiation3'\n",
       "79. 'hiation4'\n",
       "80. 'hivvd1'\n",
       "81. 'hivvd2'\n",
       "82. 'hivvd3'\n",
       "83. 'hivvd4'\n",
       "84. 'hivvd5'\n",
       "85. 'hivvd6'\n",
       "86. 'hivvd7'\n",
       "87. 'hiatd_all1'\n",
       "88. 'hiatd_all2'\n",
       "89. 'hiatd_all3'\n",
       "90. 'hiatd_all4'\n",
       "91. 'hiatd_all5'\n",
       "92. 'hiatd_int1'\n",
       "93. 'hiatd_int2'\n",
       "94. 'hiatd_int3'\n",
       "95. 'hiatd_int4'\n",
       "96. 'hiatd_int5'\n",
       "97. 'hiatd_lig1'\n",
       "98. 'hiatd_lig2'\n",
       "99. 'hiatd_lig3'\n",
       "100. 'hiatd_lig4'\n",
       "101. 'hiatd_lig5'\n",
       "102. 'hiprint1'\n",
       "103. 'hiprint2'\n",
       "104. 'hiprint3'\n",
       "105. 'hiprint4'\n",
       "106. 'hiavod1'\n",
       "107. 'hiavod2'\n",
       "108. 'hiavod3'\n",
       "109. 'hisatis1'\n",
       "110. 'hisatis2'\n",
       "111. 'hisatis3'\n",
       "112. 'hisatis4'\n",
       "113. 'liggroup'\n",
       "\n",
       "\n"
      ],
      "text/plain": [
       "  [1] \"x_lwligmanstp\" \"lwligmanflk\"   \"lwlighmanflw\"  \"lwintrange1\"  \n",
       "  [5] \"lwintrange2\"   \"lwintrange3\"   \"lwintrange4\"   \"lwintmaping1\" \n",
       "  [9] \"lwintmaping2\"  \"lwintmaping3\"  \"lwintmaping4\"  \"lwmemory_bp\"  \n",
       " [13] \"lwmemoty_etc\"  \"lwflw1\"        \"lwflw2\"        \"lwflw3\"       \n",
       " [17] \"lwflw4\"        \"lwflw5\"        \"lwflw6\"        \"lwation1\"     \n",
       " [21] \"lwation2\"      \"lwation3\"      \"lwation4\"      \"lwvvd1\"       \n",
       " [25] \"lwvvd2\"        \"lwvvd3\"        \"lwvvd4\"        \"lwvvd5\"       \n",
       " [29] \"lwvvd6\"        \"lwvvd7\"        \"lwatd_all1\"    \"lwatd_all2\"   \n",
       " [33] \"lwatd_all3\"    \"lwatd_all4\"    \"lwatd_all5\"    \"lwatd_int1\"   \n",
       " [37] \"lwatd_int2\"    \"lwatd_int3\"    \"lwatd_int4\"    \"lwatd_int5\"   \n",
       " [41] \"lwatd_lig1\"    \"lwatd_lig2\"    \"lwatd_lig3\"    \"lwatd_lig4\"   \n",
       " [45] \"lwatd_lig5\"    \"lwprint1\"      \"lwprint2\"      \"lwprint3\"     \n",
       " [49] \"lwprint4\"      \"lwavod1\"       \"lwavod2\"       \"lwavod3\"      \n",
       " [53] \"lwsatis1\"      \"lwsatis2\"      \"lwsatis3\"      \"lwsatis4\"     \n",
       " [57] \"hiligmanstp\"   \"hiligmanflk\"   \"hilighmanflw\"  \"hiintrange1\"  \n",
       " [61] \"hiintrange2\"   \"hiintrange3\"   \"hiintrange4\"   \"hiintmaping1\" \n",
       " [65] \"hiintmaping2\"  \"hiintmaping3\"  \"hiintmaping4\"  \"himemory_bp\"  \n",
       " [69] \"himemoty_etc\"  \"hiflw1\"        \"hiflw2\"        \"hiflw3\"       \n",
       " [73] \"hiflw4\"        \"hiflw5\"        \"hiflw6\"        \"hiation1\"     \n",
       " [77] \"hiation2\"      \"hiation3\"      \"hiation4\"      \"hivvd1\"       \n",
       " [81] \"hivvd2\"        \"hivvd3\"        \"hivvd4\"        \"hivvd5\"       \n",
       " [85] \"hivvd6\"        \"hivvd7\"        \"hiatd_all1\"    \"hiatd_all2\"   \n",
       " [89] \"hiatd_all3\"    \"hiatd_all4\"    \"hiatd_all5\"    \"hiatd_int1\"   \n",
       " [93] \"hiatd_int2\"    \"hiatd_int3\"    \"hiatd_int4\"    \"hiatd_int5\"   \n",
       " [97] \"hiatd_lig1\"    \"hiatd_lig2\"    \"hiatd_lig3\"    \"hiatd_lig4\"   \n",
       "[101] \"hiatd_lig5\"    \"hiprint1\"      \"hiprint2\"      \"hiprint3\"     \n",
       "[105] \"hiprint4\"      \"hiavod1\"       \"hiavod2\"       \"hiavod3\"      \n",
       "[109] \"hisatis1\"      \"hisatis2\"      \"hisatis3\"      \"hisatis4\"     \n",
       "[113] \"liggroup\"     "
      ]
     },
     "metadata": {},
     "output_type": "display_data"
    },
    {
     "data": {
      "text/html": [
       "<table class=\"dataframe\">\n",
       "<caption>A data.frame: 6 x 113</caption>\n",
       "<thead>\n",
       "\t<tr><th></th><th scope=col>x_lwligmanstp</th><th scope=col>lwligmanflk</th><th scope=col>lwlighmanflw</th><th scope=col>lwintrange1</th><th scope=col>lwintrange2</th><th scope=col>lwintrange3</th><th scope=col>lwintrange4</th><th scope=col>lwintmaping1</th><th scope=col>lwintmaping2</th><th scope=col>lwintmaping3</th><th scope=col>...</th><th scope=col>hiprint3</th><th scope=col>hiprint4</th><th scope=col>hiavod1</th><th scope=col>hiavod2</th><th scope=col>hiavod3</th><th scope=col>hisatis1</th><th scope=col>hisatis2</th><th scope=col>hisatis3</th><th scope=col>hisatis4</th><th scope=col>liggroup</th></tr>\n",
       "\t<tr><th></th><th scope=col>&lt;int&gt;</th><th scope=col>&lt;int&gt;</th><th scope=col>&lt;int&gt;</th><th scope=col>&lt;int&gt;</th><th scope=col>&lt;int&gt;</th><th scope=col>&lt;int&gt;</th><th scope=col>&lt;int&gt;</th><th scope=col>&lt;int&gt;</th><th scope=col>&lt;int&gt;</th><th scope=col>&lt;int&gt;</th><th scope=col>...</th><th scope=col>&lt;int&gt;</th><th scope=col>&lt;int&gt;</th><th scope=col>&lt;int&gt;</th><th scope=col>&lt;int&gt;</th><th scope=col>&lt;int&gt;</th><th scope=col>&lt;int&gt;</th><th scope=col>&lt;int&gt;</th><th scope=col>&lt;int&gt;</th><th scope=col>&lt;int&gt;</th><th scope=col>&lt;int&gt;</th></tr>\n",
       "</thead>\n",
       "<tbody>\n",
       "\t<tr><th scope=row>1</th><td>1</td><td>1</td><td>1</td><td>2</td><td>2</td><td>3</td><td>2</td><td>4</td><td>4</td><td>3</td><td>...</td><td>4</td><td>3</td><td>4</td><td>4</td><td>2</td><td>4</td><td>2</td><td>2</td><td>4</td><td>1</td></tr>\n",
       "\t<tr><th scope=row>2</th><td>4</td><td>4</td><td>3</td><td>3</td><td>4</td><td>4</td><td>4</td><td>4</td><td>4</td><td>4</td><td>...</td><td>2</td><td>2</td><td>3</td><td>3</td><td>4</td><td>4</td><td>4</td><td>4</td><td>4</td><td>2</td></tr>\n",
       "\t<tr><th scope=row>3</th><td>5</td><td>5</td><td>5</td><td>1</td><td>1</td><td>1</td><td>1</td><td>1</td><td>4</td><td>3</td><td>...</td><td>4</td><td>2</td><td>2</td><td>2</td><td>4</td><td>3</td><td>4</td><td>4</td><td>4</td><td>3</td></tr>\n",
       "\t<tr><th scope=row>4</th><td>3</td><td>3</td><td>3</td><td>4</td><td>4</td><td>5</td><td>4</td><td>5</td><td>3</td><td>3</td><td>...</td><td>1</td><td>2</td><td>2</td><td>1</td><td>4</td><td>5</td><td>4</td><td>4</td><td>5</td><td>1</td></tr>\n",
       "\t<tr><th scope=row>5</th><td>5</td><td>5</td><td>1</td><td>4</td><td>3</td><td>4</td><td>4</td><td>4</td><td>4</td><td>4</td><td>...</td><td>5</td><td>5</td><td>2</td><td>2</td><td>2</td><td>4</td><td>4</td><td>4</td><td>4</td><td>2</td></tr>\n",
       "\t<tr><th scope=row>6</th><td>5</td><td>5</td><td>5</td><td>3</td><td>4</td><td>3</td><td>4</td><td>4</td><td>4</td><td>4</td><td>...</td><td>4</td><td>2</td><td>2</td><td>2</td><td>2</td><td>4</td><td>4</td><td>3</td><td>4</td><td>3</td></tr>\n",
       "</tbody>\n",
       "</table>\n"
      ],
      "text/latex": [
       "A data.frame: 6 x 113\n",
       "\\begin{tabular}{r|lllllllllllllllllllll}\n",
       "  & x\\_lwligmanstp & lwligmanflk & lwlighmanflw & lwintrange1 & lwintrange2 & lwintrange3 & lwintrange4 & lwintmaping1 & lwintmaping2 & lwintmaping3 & ... & hiprint3 & hiprint4 & hiavod1 & hiavod2 & hiavod3 & hisatis1 & hisatis2 & hisatis3 & hisatis4 & liggroup\\\\\n",
       "  & <int> & <int> & <int> & <int> & <int> & <int> & <int> & <int> & <int> & <int> & ... & <int> & <int> & <int> & <int> & <int> & <int> & <int> & <int> & <int> & <int>\\\\\n",
       "\\hline\n",
       "\t1 & 1 & 1 & 1 & 2 & 2 & 3 & 2 & 4 & 4 & 3 & ... & 4 & 3 & 4 & 4 & 2 & 4 & 2 & 2 & 4 & 1\\\\\n",
       "\t2 & 4 & 4 & 3 & 3 & 4 & 4 & 4 & 4 & 4 & 4 & ... & 2 & 2 & 3 & 3 & 4 & 4 & 4 & 4 & 4 & 2\\\\\n",
       "\t3 & 5 & 5 & 5 & 1 & 1 & 1 & 1 & 1 & 4 & 3 & ... & 4 & 2 & 2 & 2 & 4 & 3 & 4 & 4 & 4 & 3\\\\\n",
       "\t4 & 3 & 3 & 3 & 4 & 4 & 5 & 4 & 5 & 3 & 3 & ... & 1 & 2 & 2 & 1 & 4 & 5 & 4 & 4 & 5 & 1\\\\\n",
       "\t5 & 5 & 5 & 1 & 4 & 3 & 4 & 4 & 4 & 4 & 4 & ... & 5 & 5 & 2 & 2 & 2 & 4 & 4 & 4 & 4 & 2\\\\\n",
       "\t6 & 5 & 5 & 5 & 3 & 4 & 3 & 4 & 4 & 4 & 4 & ... & 4 & 2 & 2 & 2 & 2 & 4 & 4 & 3 & 4 & 3\\\\\n",
       "\\end{tabular}\n"
      ],
      "text/markdown": [
       "\n",
       "A data.frame: 6 x 113\n",
       "\n",
       "| <!--/--> | x_lwligmanstp &lt;int&gt; | lwligmanflk &lt;int&gt; | lwlighmanflw &lt;int&gt; | lwintrange1 &lt;int&gt; | lwintrange2 &lt;int&gt; | lwintrange3 &lt;int&gt; | lwintrange4 &lt;int&gt; | lwintmaping1 &lt;int&gt; | lwintmaping2 &lt;int&gt; | lwintmaping3 &lt;int&gt; | ... ... | hiprint3 &lt;int&gt; | hiprint4 &lt;int&gt; | hiavod1 &lt;int&gt; | hiavod2 &lt;int&gt; | hiavod3 &lt;int&gt; | hisatis1 &lt;int&gt; | hisatis2 &lt;int&gt; | hisatis3 &lt;int&gt; | hisatis4 &lt;int&gt; | liggroup &lt;int&gt; |\n",
       "|---|---|---|---|---|---|---|---|---|---|---|---|---|---|---|---|---|---|---|---|---|---|\n",
       "| 1 | 1 | 1 | 1 | 2 | 2 | 3 | 2 | 4 | 4 | 3 | ... | 4 | 3 | 4 | 4 | 2 | 4 | 2 | 2 | 4 | 1 |\n",
       "| 2 | 4 | 4 | 3 | 3 | 4 | 4 | 4 | 4 | 4 | 4 | ... | 2 | 2 | 3 | 3 | 4 | 4 | 4 | 4 | 4 | 2 |\n",
       "| 3 | 5 | 5 | 5 | 1 | 1 | 1 | 1 | 1 | 4 | 3 | ... | 4 | 2 | 2 | 2 | 4 | 3 | 4 | 4 | 4 | 3 |\n",
       "| 4 | 3 | 3 | 3 | 4 | 4 | 5 | 4 | 5 | 3 | 3 | ... | 1 | 2 | 2 | 1 | 4 | 5 | 4 | 4 | 5 | 1 |\n",
       "| 5 | 5 | 5 | 1 | 4 | 3 | 4 | 4 | 4 | 4 | 4 | ... | 5 | 5 | 2 | 2 | 2 | 4 | 4 | 4 | 4 | 2 |\n",
       "| 6 | 5 | 5 | 5 | 3 | 4 | 3 | 4 | 4 | 4 | 4 | ... | 4 | 2 | 2 | 2 | 2 | 4 | 4 | 3 | 4 | 3 |\n",
       "\n"
      ],
      "text/plain": [
       "  x_lwligmanstp lwligmanflk lwlighmanflw lwintrange1 lwintrange2 lwintrange3\n",
       "1 1             1           1            2           2           3          \n",
       "2 4             4           3            3           4           4          \n",
       "3 5             5           5            1           1           1          \n",
       "4 3             3           3            4           4           5          \n",
       "5 5             5           1            4           3           4          \n",
       "6 5             5           5            3           4           3          \n",
       "  lwintrange4 lwintmaping1 lwintmaping2 lwintmaping3 ... hiprint3 hiprint4\n",
       "1 2           4            4            3            ... 4        3       \n",
       "2 4           4            4            4            ... 2        2       \n",
       "3 1           1            4            3            ... 4        2       \n",
       "4 4           5            3            3            ... 1        2       \n",
       "5 4           4            4            4            ... 5        5       \n",
       "6 4           4            4            4            ... 4        2       \n",
       "  hiavod1 hiavod2 hiavod3 hisatis1 hisatis2 hisatis3 hisatis4 liggroup\n",
       "1 4       4       2       4        2        2        4        1       \n",
       "2 3       3       4       4        4        4        4        2       \n",
       "3 2       2       4       3        4        4        4        3       \n",
       "4 2       1       4       5        4        4        5        1       \n",
       "5 2       2       2       4        4        4        4        2       \n",
       "6 2       2       2       4        4        3        4        3       "
      ]
     },
     "metadata": {},
     "output_type": "display_data"
    }
   ],
   "source": [
    "\n",
    "# Load the corporate reputation data\n",
    "corp_rep_data<-read.csv(file = 'DATASET.csv', header = TRUE, sep = ',')\n",
    "corp_rep_data2<-clean_names(corp_rep_data)\n",
    "names(corp_rep_data2)\n",
    "\n",
    "# Show the first several rows of the corporate reputation data\n",
    "head(corp_rep_data2)"
   ]
  },
  {
   "cell_type": "code",
   "execution_count": 5,
   "metadata": {
    "vscode": {
     "languageId": "r"
    }
   },
   "outputs": [],
   "source": [
    "simple_mm <- constructs(\n",
    "  composite('Light_Group', single_item('liggroup')),\n",
    "  composite('Memory_BP_Recognition', single_item('lwmemory_bp')),\n",
    "  composite('Memory_BP_Recognition', single_item('himemory_bp')),\n",
    "  # composite('Memory_ETC_Recall', single_item('lwmemory_etc')),\n",
    "  # composite('Memory_ETC_Recall', single_item('himemory_etc')),\n",
    "  composite('Interactivity_Level',multi_items('lwintrange',1:4)),\n",
    "  composite('Interactivity_Level',multi_items('hiintrange',1:4)),\n",
    "  composite('Interactivity_Level',multi_items('lwintmaping',1:4)),\n",
    "  composite('Interactivity_Level',multi_items('hiintmaping',1:4)),\n",
    "  composite('Flow',multi_items('lwflw',1:6)),\n",
    "  composite('Flow',multi_items('hiflw',1:6)),\n",
    "  composite('Attention', multi_items('lwation',1:4)),\n",
    "  composite('Attention', multi_items('hiation',1:4)),\n",
    "  composite('Vividness', multi_items('lwvvd',1:7)),\n",
    "  composite('Vividness', multi_items('hivvd',1:7)),\n",
    "  composite('Attitude_All', multi_items('lwatd_all',1:5)),\n",
    "  composite('Attitude_All', multi_items('hiatd_all',1:5)),\n",
    "  composite('Attitude_Interactivity', multi_items('lwatd_int',1:5)),\n",
    "  composite('Attitude_Interactivity', multi_items('hiatd_int',1:5)),\n",
    "  composite('Attitude_Light', multi_items('lwatd_lig',1:5)),\n",
    "  composite('Attitude_Light', multi_items('hiatd_lig',1:5)),\n",
    "  composite('Perceived_Intrusiveness',multi_items('lwprint',1:4)),\n",
    "  composite('Perceived_Intrusiveness',multi_items('hiprint',1:4)),\n",
    "  composite('Avoidance', multi_items('lwavod',1:3)),\n",
    "  composite('Avoidance', multi_items('hiavod',1:3)),\n",
    "  composite('Satisfaction',multi_items('lwsatis',1:4)),\n",
    "  composite('Satisfaction',multi_items('hisatis',1:4)))"
   ]
  },
  {
   "cell_type": "code",
   "execution_count": 6,
   "metadata": {
    "vscode": {
     "languageId": "r"
    }
   },
   "outputs": [],
   "source": [
    "# Create structural model \n",
    "simple_sm <- relationships(\n",
    "  paths(from = c('Light_Group','Interactivity_Level'), to = c('Memory_BP_Recognition','Flow','Attention','Vividness',\n",
    "                                                               'Attitude_All','Attitude_Interactivity','Attitude_Light','Perceived_Intrusiveness',\n",
    "                                                               'Avoidance','Satisfaction')),\n",
    "  paths(from = c('Attention'), to = c('Memory_BP_Recognition','Perceived_Intrusiveness','Avoidance')),\n",
    "  paths(from = c('Vividness'), to = c('Memory_BP_Recognition','Flow','Attitude_All','Attitude_Interactivity','Attitude_Light','Satisfaction')),\n",
    "  paths(from = c('Perceived_Intrusiveness'), to = c('Avoidance','Attitude_All','Attitude_Interactivity','Attitude_Light')),\n",
    "  paths(from = c('Avoidance'), to = c('Memory_BP_Recognition')),\n",
    "  paths(from = c('Attitude_All'), to = c('Avoidance','Satisfaction','Flow','Memory_BP_Recognition')),\n",
    "  paths(from = c('Attitude_Interactivity'), to = c('Avoidance','Satisfaction','Flow','Memory_BP_Recognition')),\n",
    "  paths(from = c('Attitude_Light'), to = c('Avoidance','Satisfaction','Flow','Memory_BP_Recognition')),\n",
    "  paths(from = c('Flow'), to = c('Satisfaction','Memory_BP_Recognition','Attitude_All','Attitude_Interactivity','Attitude_Light')))"
   ]
  },
  {
   "cell_type": "code",
   "execution_count": 7,
   "metadata": {
    "vscode": {
     "languageId": "r"
    }
   },
   "outputs": [
    {
     "name": "stderr",
     "output_type": "stream",
     "text": [
      "Generating the seminr model\n",
      "\n",
      "All 74 observations are valid.\n",
      "\n"
     ]
    }
   ],
   "source": [
    "# Estimate the model\n",
    "corp_rep_simple_model <- estimate_pls(\n",
    "  data = corp_rep_data2, \n",
    "  measurement_model = simple_mm, \n",
    "  structural_model = simple_sm, \n",
    "  inner_weights = path_weighting, \n",
    "  missing = mean_replacement, \n",
    "  missing_value = '-99')"
   ]
  },
  {
   "cell_type": "code",
   "execution_count": 8,
   "metadata": {
    "vscode": {
     "languageId": "r"
    }
   },
   "outputs": [
    {
     "name": "stderr",
     "output_type": "stream",
     "text": [
      "Generating the seminr model\n",
      "\n",
      "All 74 observations are valid.\n",
      "\n"
     ]
    }
   ],
   "source": [
    "# Estimate the model with default settings\n",
    "corp_rep_simple_model <- estimate_pls(\n",
    "  data = corp_rep_data2, \n",
    "  measurement_model = simple_mm,\n",
    "  structural_model = simple_sm,\n",
    "  missing_value = '-99')"
   ]
  },
  {
   "cell_type": "code",
   "execution_count": 9,
   "metadata": {
    "vscode": {
     "languageId": "r"
    }
   },
   "outputs": [
    {
     "data": {
      "text/html": [
       "<table class=\"dataframe\">\n",
       "<caption>A matrix: 12 x 10 of type dbl</caption>\n",
       "<thead>\n",
       "\t<tr><th></th><th scope=col>Memory_BP_Recognition</th><th scope=col>Flow</th><th scope=col>Attention</th><th scope=col>Vividness</th><th scope=col>Attitude_All</th><th scope=col>Attitude_Interactivity</th><th scope=col>Attitude_Light</th><th scope=col>Perceived_Intrusiveness</th><th scope=col>Avoidance</th><th scope=col>Satisfaction</th></tr>\n",
       "</thead>\n",
       "<tbody>\n",
       "\t<tr><th scope=row>R^2</th><td> 0.19174089</td><td> 0.75762753</td><td>0.38219065</td><td>0.40534980</td><td> 0.61844366</td><td> 0.46143090</td><td> 0.40983277</td><td> 0.0408827333</td><td> 0.23237050</td><td> 0.78566334</td></tr>\n",
       "\t<tr><th scope=row>AdjR^2</th><td> 0.07807946</td><td> 0.73592253</td><td>0.36478757</td><td>0.38859909</td><td> 0.59038805</td><td> 0.42183023</td><td> 0.36643812</td><td>-0.0002222924</td><td> 0.15095525</td><td> 0.76293066</td></tr>\n",
       "\t<tr><th scope=row>Light_Group</th><td>-0.13077870</td><td>-0.01589076</td><td>0.05141168</td><td>0.09271826</td><td>-0.08023862</td><td>-0.04651326</td><td> 0.08824197</td><td>-0.1396920702</td><td> 0.10857467</td><td> 0.03500692</td></tr>\n",
       "\t<tr><th scope=row>Interactivity_Level</th><td>-0.11562377</td><td> 0.24311739</td><td>0.61279231</td><td>0.62397671</td><td>-0.21162082</td><td>-0.09785346</td><td> 0.11146328</td><td>-0.0643130371</td><td> 0.20694091</td><td>-0.17368447</td></tr>\n",
       "\t<tr><th scope=row>Attention</th><td>-0.29133931</td><td>         NA</td><td>        NA</td><td>        NA</td><td>         NA</td><td>         NA</td><td>         NA</td><td>-0.0848887382</td><td>-0.48118859</td><td>         NA</td></tr>\n",
       "\t<tr><th scope=row>Vividness</th><td> 0.18430214</td><td> 0.47497345</td><td>        NA</td><td>        NA</td><td> 0.53377225</td><td> 0.58348856</td><td> 0.21579693</td><td>           NA</td><td>         NA</td><td> 0.17835955</td></tr>\n",
       "\t<tr><th scope=row>Perceived_Intrusiveness</th><td>         NA</td><td>         NA</td><td>        NA</td><td>        NA</td><td>-0.13107885</td><td> 0.01018921</td><td>-0.06976804</td><td>           NA</td><td> 0.12530703</td><td>         NA</td></tr>\n",
       "\t<tr><th scope=row>Avoidance</th><td>-0.40761147</td><td>         NA</td><td>        NA</td><td>        NA</td><td>         NA</td><td>         NA</td><td>         NA</td><td>           NA</td><td>         NA</td><td>         NA</td></tr>\n",
       "\t<tr><th scope=row>Attitude_All</th><td>-0.06373566</td><td> 0.35200249</td><td>        NA</td><td>        NA</td><td>         NA</td><td>         NA</td><td>         NA</td><td>           NA</td><td> 0.10688744</td><td> 0.45077773</td></tr>\n",
       "\t<tr><th scope=row>Attitude_Interactivity</th><td> 0.08773076</td><td>-0.18733336</td><td>        NA</td><td>        NA</td><td>         NA</td><td>         NA</td><td>         NA</td><td>           NA</td><td> 0.05277093</td><td> 0.02131528</td></tr>\n",
       "\t<tr><th scope=row>Attitude_Light</th><td>-0.15088185</td><td> 0.11521694</td><td>        NA</td><td>        NA</td><td>         NA</td><td>         NA</td><td>         NA</td><td>           NA</td><td>-0.24657752</td><td> 0.01608112</td></tr>\n",
       "\t<tr><th scope=row>Flow</th><td> 0.23688935</td><td>         NA</td><td>        NA</td><td>        NA</td><td> 0.38426237</td><td> 0.18744661</td><td> 0.33159458</td><td>           NA</td><td>         NA</td><td> 0.40550636</td></tr>\n",
       "</tbody>\n",
       "</table>\n"
      ],
      "text/latex": [
       "A matrix: 12 x 10 of type dbl\n",
       "\\begin{tabular}{r|llllllllll}\n",
       "  & Memory\\_BP\\_Recognition & Flow & Attention & Vividness & Attitude\\_All & Attitude\\_Interactivity & Attitude\\_Light & Perceived\\_Intrusiveness & Avoidance & Satisfaction\\\\\n",
       "\\hline\n",
       "\tR\\textasciicircum{}2 &  0.19174089 &  0.75762753 & 0.38219065 & 0.40534980 &  0.61844366 &  0.46143090 &  0.40983277 &  0.0408827333 &  0.23237050 &  0.78566334\\\\\n",
       "\tAdjR\\textasciicircum{}2 &  0.07807946 &  0.73592253 & 0.36478757 & 0.38859909 &  0.59038805 &  0.42183023 &  0.36643812 & -0.0002222924 &  0.15095525 &  0.76293066\\\\\n",
       "\tLight\\_Group & -0.13077870 & -0.01589076 & 0.05141168 & 0.09271826 & -0.08023862 & -0.04651326 &  0.08824197 & -0.1396920702 &  0.10857467 &  0.03500692\\\\\n",
       "\tInteractivity\\_Level & -0.11562377 &  0.24311739 & 0.61279231 & 0.62397671 & -0.21162082 & -0.09785346 &  0.11146328 & -0.0643130371 &  0.20694091 & -0.17368447\\\\\n",
       "\tAttention & -0.29133931 &          NA &         NA &         NA &          NA &          NA &          NA & -0.0848887382 & -0.48118859 &          NA\\\\\n",
       "\tVividness &  0.18430214 &  0.47497345 &         NA &         NA &  0.53377225 &  0.58348856 &  0.21579693 &            NA &          NA &  0.17835955\\\\\n",
       "\tPerceived\\_Intrusiveness &          NA &          NA &         NA &         NA & -0.13107885 &  0.01018921 & -0.06976804 &            NA &  0.12530703 &          NA\\\\\n",
       "\tAvoidance & -0.40761147 &          NA &         NA &         NA &          NA &          NA &          NA &            NA &          NA &          NA\\\\\n",
       "\tAttitude\\_All & -0.06373566 &  0.35200249 &         NA &         NA &          NA &          NA &          NA &            NA &  0.10688744 &  0.45077773\\\\\n",
       "\tAttitude\\_Interactivity &  0.08773076 & -0.18733336 &         NA &         NA &          NA &          NA &          NA &            NA &  0.05277093 &  0.02131528\\\\\n",
       "\tAttitude\\_Light & -0.15088185 &  0.11521694 &         NA &         NA &          NA &          NA &          NA &            NA & -0.24657752 &  0.01608112\\\\\n",
       "\tFlow &  0.23688935 &          NA &         NA &         NA &  0.38426237 &  0.18744661 &  0.33159458 &            NA &          NA &  0.40550636\\\\\n",
       "\\end{tabular}\n"
      ],
      "text/markdown": [
       "\n",
       "A matrix: 12 x 10 of type dbl\n",
       "\n",
       "| <!--/--> | Memory_BP_Recognition | Flow | Attention | Vividness | Attitude_All | Attitude_Interactivity | Attitude_Light | Perceived_Intrusiveness | Avoidance | Satisfaction |\n",
       "|---|---|---|---|---|---|---|---|---|---|---|\n",
       "| R^2 |  0.19174089 |  0.75762753 | 0.38219065 | 0.40534980 |  0.61844366 |  0.46143090 |  0.40983277 |  0.0408827333 |  0.23237050 |  0.78566334 |\n",
       "| AdjR^2 |  0.07807946 |  0.73592253 | 0.36478757 | 0.38859909 |  0.59038805 |  0.42183023 |  0.36643812 | -0.0002222924 |  0.15095525 |  0.76293066 |\n",
       "| Light_Group | -0.13077870 | -0.01589076 | 0.05141168 | 0.09271826 | -0.08023862 | -0.04651326 |  0.08824197 | -0.1396920702 |  0.10857467 |  0.03500692 |\n",
       "| Interactivity_Level | -0.11562377 |  0.24311739 | 0.61279231 | 0.62397671 | -0.21162082 | -0.09785346 |  0.11146328 | -0.0643130371 |  0.20694091 | -0.17368447 |\n",
       "| Attention | -0.29133931 |          NA |         NA |         NA |          NA |          NA |          NA | -0.0848887382 | -0.48118859 |          NA |\n",
       "| Vividness |  0.18430214 |  0.47497345 |         NA |         NA |  0.53377225 |  0.58348856 |  0.21579693 |            NA |          NA |  0.17835955 |\n",
       "| Perceived_Intrusiveness |          NA |          NA |         NA |         NA | -0.13107885 |  0.01018921 | -0.06976804 |            NA |  0.12530703 |          NA |\n",
       "| Avoidance | -0.40761147 |          NA |         NA |         NA |          NA |          NA |          NA |            NA |          NA |          NA |\n",
       "| Attitude_All | -0.06373566 |  0.35200249 |         NA |         NA |          NA |          NA |          NA |            NA |  0.10688744 |  0.45077773 |\n",
       "| Attitude_Interactivity |  0.08773076 | -0.18733336 |         NA |         NA |          NA |          NA |          NA |            NA |  0.05277093 |  0.02131528 |\n",
       "| Attitude_Light | -0.15088185 |  0.11521694 |         NA |         NA |          NA |          NA |          NA |            NA | -0.24657752 |  0.01608112 |\n",
       "| Flow |  0.23688935 |          NA |         NA |         NA |  0.38426237 |  0.18744661 |  0.33159458 |            NA |          NA |  0.40550636 |\n",
       "\n"
      ],
      "text/plain": [
       "                        Memory_BP_Recognition Flow        Attention  Vividness \n",
       "R^2                      0.19174089            0.75762753 0.38219065 0.40534980\n",
       "AdjR^2                   0.07807946            0.73592253 0.36478757 0.38859909\n",
       "Light_Group             -0.13077870           -0.01589076 0.05141168 0.09271826\n",
       "Interactivity_Level     -0.11562377            0.24311739 0.61279231 0.62397671\n",
       "Attention               -0.29133931                    NA         NA         NA\n",
       "Vividness                0.18430214            0.47497345         NA         NA\n",
       "Perceived_Intrusiveness          NA                    NA         NA         NA\n",
       "Avoidance               -0.40761147                    NA         NA         NA\n",
       "Attitude_All            -0.06373566            0.35200249         NA         NA\n",
       "Attitude_Interactivity   0.08773076           -0.18733336         NA         NA\n",
       "Attitude_Light          -0.15088185            0.11521694         NA         NA\n",
       "Flow                     0.23688935                    NA         NA         NA\n",
       "                        Attitude_All Attitude_Interactivity Attitude_Light\n",
       "R^2                      0.61844366   0.46143090             0.40983277   \n",
       "AdjR^2                   0.59038805   0.42183023             0.36643812   \n",
       "Light_Group             -0.08023862  -0.04651326             0.08824197   \n",
       "Interactivity_Level     -0.21162082  -0.09785346             0.11146328   \n",
       "Attention                        NA           NA                     NA   \n",
       "Vividness                0.53377225   0.58348856             0.21579693   \n",
       "Perceived_Intrusiveness -0.13107885   0.01018921            -0.06976804   \n",
       "Avoidance                        NA           NA                     NA   \n",
       "Attitude_All                     NA           NA                     NA   \n",
       "Attitude_Interactivity           NA           NA                     NA   \n",
       "Attitude_Light                   NA           NA                     NA   \n",
       "Flow                     0.38426237   0.18744661             0.33159458   \n",
       "                        Perceived_Intrusiveness Avoidance   Satisfaction\n",
       "R^2                      0.0408827333            0.23237050  0.78566334 \n",
       "AdjR^2                  -0.0002222924            0.15095525  0.76293066 \n",
       "Light_Group             -0.1396920702            0.10857467  0.03500692 \n",
       "Interactivity_Level     -0.0643130371            0.20694091 -0.17368447 \n",
       "Attention               -0.0848887382           -0.48118859          NA \n",
       "Vividness                          NA                    NA  0.17835955 \n",
       "Perceived_Intrusiveness            NA            0.12530703          NA \n",
       "Avoidance                          NA                    NA          NA \n",
       "Attitude_All                       NA            0.10688744  0.45077773 \n",
       "Attitude_Interactivity             NA            0.05277093  0.02131528 \n",
       "Attitude_Light                     NA           -0.24657752  0.01608112 \n",
       "Flow                               NA                    NA  0.40550636 "
      ]
     },
     "metadata": {},
     "output_type": "display_data"
    },
    {
     "data": {
      "text/html": [
       "<table class=\"dataframe\">\n",
       "<caption>A matrix: 12 x 4 of type dbl</caption>\n",
       "<thead>\n",
       "\t<tr><th></th><th scope=col>alpha</th><th scope=col>rhoC</th><th scope=col>AVE</th><th scope=col>rhoA</th></tr>\n",
       "</thead>\n",
       "<tbody>\n",
       "\t<tr><th scope=row>Light_Group</th><td>1.0000000</td><td>1.0000000</td><td>1.0000000</td><td>1.0000000</td></tr>\n",
       "\t<tr><th scope=row>Interactivity_Level</th><td>0.8574235</td><td>0.8809812</td><td>0.3213820</td><td>0.8664070</td></tr>\n",
       "\t<tr><th scope=row>Attention</th><td>0.8238629</td><td>0.8652154</td><td>0.4466828</td><td>0.8270664</td></tr>\n",
       "\t<tr><th scope=row>Vividness</th><td>0.8816402</td><td>0.9026072</td><td>0.4124237</td><td>0.9007126</td></tr>\n",
       "\t<tr><th scope=row>Perceived_Intrusiveness</th><td>0.8868381</td><td>0.9063950</td><td>0.5498942</td><td>0.9021874</td></tr>\n",
       "\t<tr><th scope=row>Avoidance</th><td>0.8353495</td><td>0.8789181</td><td>0.5505531</td><td>0.8639595</td></tr>\n",
       "\t<tr><th scope=row>Attitude_All</th><td>0.9256968</td><td>0.9377136</td><td>0.6022086</td><td>0.9289418</td></tr>\n",
       "\t<tr><th scope=row>Attitude_Interactivity</th><td>0.8836734</td><td>0.9043218</td><td>0.4901041</td><td>0.8935397</td></tr>\n",
       "\t<tr><th scope=row>Attitude_Light</th><td>0.9468730</td><td>0.9543801</td><td>0.6767804</td><td>0.9484576</td></tr>\n",
       "\t<tr><th scope=row>Flow</th><td>0.8951674</td><td>0.9134218</td><td>0.4750663</td><td>0.9091317</td></tr>\n",
       "\t<tr><th scope=row>Memory_BP_Recognition</th><td>0.2740241</td><td>0.7334051</td><td>0.5792190</td><td>0.2749096</td></tr>\n",
       "\t<tr><th scope=row>Satisfaction</th><td>0.8637687</td><td>0.8979153</td><td>0.5425223</td><td>0.8989353</td></tr>\n",
       "</tbody>\n",
       "</table>\n"
      ],
      "text/latex": [
       "A matrix: 12 x 4 of type dbl\n",
       "\\begin{tabular}{r|llll}\n",
       "  & alpha & rhoC & AVE & rhoA\\\\\n",
       "\\hline\n",
       "\tLight\\_Group & 1.0000000 & 1.0000000 & 1.0000000 & 1.0000000\\\\\n",
       "\tInteractivity\\_Level & 0.8574235 & 0.8809812 & 0.3213820 & 0.8664070\\\\\n",
       "\tAttention & 0.8238629 & 0.8652154 & 0.4466828 & 0.8270664\\\\\n",
       "\tVividness & 0.8816402 & 0.9026072 & 0.4124237 & 0.9007126\\\\\n",
       "\tPerceived\\_Intrusiveness & 0.8868381 & 0.9063950 & 0.5498942 & 0.9021874\\\\\n",
       "\tAvoidance & 0.8353495 & 0.8789181 & 0.5505531 & 0.8639595\\\\\n",
       "\tAttitude\\_All & 0.9256968 & 0.9377136 & 0.6022086 & 0.9289418\\\\\n",
       "\tAttitude\\_Interactivity & 0.8836734 & 0.9043218 & 0.4901041 & 0.8935397\\\\\n",
       "\tAttitude\\_Light & 0.9468730 & 0.9543801 & 0.6767804 & 0.9484576\\\\\n",
       "\tFlow & 0.8951674 & 0.9134218 & 0.4750663 & 0.9091317\\\\\n",
       "\tMemory\\_BP\\_Recognition & 0.2740241 & 0.7334051 & 0.5792190 & 0.2749096\\\\\n",
       "\tSatisfaction & 0.8637687 & 0.8979153 & 0.5425223 & 0.8989353\\\\\n",
       "\\end{tabular}\n"
      ],
      "text/markdown": [
       "\n",
       "A matrix: 12 x 4 of type dbl\n",
       "\n",
       "| <!--/--> | alpha | rhoC | AVE | rhoA |\n",
       "|---|---|---|---|---|\n",
       "| Light_Group | 1.0000000 | 1.0000000 | 1.0000000 | 1.0000000 |\n",
       "| Interactivity_Level | 0.8574235 | 0.8809812 | 0.3213820 | 0.8664070 |\n",
       "| Attention | 0.8238629 | 0.8652154 | 0.4466828 | 0.8270664 |\n",
       "| Vividness | 0.8816402 | 0.9026072 | 0.4124237 | 0.9007126 |\n",
       "| Perceived_Intrusiveness | 0.8868381 | 0.9063950 | 0.5498942 | 0.9021874 |\n",
       "| Avoidance | 0.8353495 | 0.8789181 | 0.5505531 | 0.8639595 |\n",
       "| Attitude_All | 0.9256968 | 0.9377136 | 0.6022086 | 0.9289418 |\n",
       "| Attitude_Interactivity | 0.8836734 | 0.9043218 | 0.4901041 | 0.8935397 |\n",
       "| Attitude_Light | 0.9468730 | 0.9543801 | 0.6767804 | 0.9484576 |\n",
       "| Flow | 0.8951674 | 0.9134218 | 0.4750663 | 0.9091317 |\n",
       "| Memory_BP_Recognition | 0.2740241 | 0.7334051 | 0.5792190 | 0.2749096 |\n",
       "| Satisfaction | 0.8637687 | 0.8979153 | 0.5425223 | 0.8989353 |\n",
       "\n"
      ],
      "text/plain": [
       "                        alpha     rhoC      AVE       rhoA     \n",
       "Light_Group             1.0000000 1.0000000 1.0000000 1.0000000\n",
       "Interactivity_Level     0.8574235 0.8809812 0.3213820 0.8664070\n",
       "Attention               0.8238629 0.8652154 0.4466828 0.8270664\n",
       "Vividness               0.8816402 0.9026072 0.4124237 0.9007126\n",
       "Perceived_Intrusiveness 0.8868381 0.9063950 0.5498942 0.9021874\n",
       "Avoidance               0.8353495 0.8789181 0.5505531 0.8639595\n",
       "Attitude_All            0.9256968 0.9377136 0.6022086 0.9289418\n",
       "Attitude_Interactivity  0.8836734 0.9043218 0.4901041 0.8935397\n",
       "Attitude_Light          0.9468730 0.9543801 0.6767804 0.9484576\n",
       "Flow                    0.8951674 0.9134218 0.4750663 0.9091317\n",
       "Memory_BP_Recognition   0.2740241 0.7334051 0.5792190 0.2749096\n",
       "Satisfaction            0.8637687 0.8979153 0.5425223 0.8989353"
      ]
     },
     "metadata": {},
     "output_type": "display_data"
    }
   ],
   "source": [
    "# Summarize the model results\n",
    "summary_simple_corp_rep <- summary(corp_rep_simple_model)\n",
    "\n",
    "# Inspect the model’s path coefficients and the R^2 values\n",
    "summary_simple_corp_rep$paths\n",
    "\n",
    "# Inspect the construct reliability metrics \n",
    "summary_simple_corp_rep$reliability\n"
   ]
  },
  {
   "cell_type": "code",
   "execution_count": 10,
   "metadata": {
    "vscode": {
     "languageId": "r"
    }
   },
   "outputs": [
    {
     "name": "stderr",
     "output_type": "stream",
     "text": [
      "Bootstrapping model using seminr...\n",
      "\n"
     ]
    }
   ],
   "source": [
    "# Bootstrap the model\n",
    "boot_simple_corp_rep <- bootstrap_model(\n",
    "  seminr_model = corp_rep_simple_model,\n",
    "  nboot = 1000, \n",
    "  cores = NULL, \n",
    "  seed = NULL)"
   ]
  },
  {
   "cell_type": "code",
   "execution_count": null,
   "metadata": {
    "vscode": {
     "languageId": "r"
    }
   },
   "outputs": [],
   "source": [
    "# Store the summary of the bootstrapped model\n",
    "sum_boot_simple_corp_rep <- summary(boot_simple_corp_rep)\n",
    "\n",
    "\n",
    "# Inspect the bootstrapped structural paths \n",
    "sum_boot_simple_corp_rep$bootstrapped_paths\n",
    "\n",
    "# Inspect the bootstrapped indicator loadings \n",
    "sum_boot_simple_corp_rep$bootstrapped_loadings\n",
    "\n",
    "# Write the bootstrapped paths object to csv file\n",
    "write.csv(\n",
    "  x = sum_boot_simple_corp_rep$bootstrapped_loadings, \n",
    "  file = 'boot_loadings.csv')"
   ]
  },
  {
   "cell_type": "code",
   "execution_count": null,
   "metadata": {
    "vscode": {
     "languageId": "r"
    }
   },
   "outputs": [],
   "source": []
  }
 ],
 "metadata": {
  "kernelspec": {
   "display_name": "R",
   "language": "R",
   "name": "ir"
  },
  "language_info": {
   "codemirror_mode": "r",
   "file_extension": ".r",
   "mimetype": "text/x-r-source",
   "name": "R",
   "pygments_lexer": "r",
   "version": "4.3.1"
  }
 },
 "nbformat": 4,
 "nbformat_minor": 2
}
