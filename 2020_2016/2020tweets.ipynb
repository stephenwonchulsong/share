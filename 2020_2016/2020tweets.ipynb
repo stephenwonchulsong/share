{
 "cells": [
  {
   "cell_type": "code",
   "execution_count": 20,
   "metadata": {},
   "outputs": [],
   "source": [
    " #using mystats env\n",
    "import pandas as pd\n",
    "import pingouin as pg\n",
    "import association_metrics as am\n",
    "from scipy.stats import chisquare\n",
    "import pyreadstat\n",
    "import statsmodels.api as sm"
   ]
  },
  {
   "cell_type": "code",
   "execution_count": 21,
   "metadata": {},
   "outputs": [
    {
     "data": {
      "text/plain": [
       "Index(['STORYNUMBER', 'CODER', 'YEAR', 'PUBLICATIONDATE', 'URL', 'PUBLISHER',\n",
       "       'STORYTYPE', 'STORYTOPIC', 'STORYGENERICFRAMESDOMINANT',\n",
       "       'STORYGENERICFRAMESSECONDARY', 'STORYEMOTIONALFRAMES',\n",
       "       'STORYCONTAINSFALSESTATEMENT', 'STORYCLAIMSANOTHERSOURCEISFALSE',\n",
       "       'STORYFACTCHECKSTWEET', 'SENSATIONALISM', 'src_expert', 'src_opponent',\n",
       "       'src_otherpolitician', 'src_privatecitizen', 'src_media', 'src_other',\n",
       "       'NUMBEROFTWEETSBYCANDIDATES', 'NUMBEROFTWEETSFROMOTHERS', 'TWEETBY',\n",
       "       'TWEETPRESENTATION', 'TWEETGENERICFRAMESDOMINANT',\n",
       "       'TWEETGENERICFRAMESSECONDARY', 'TWEETEMOTIONALFRAMES',\n",
       "       'TWEETCONTAINSFALSESTATEMENT', 'TWEETCLAIMSSOMETHINGELSEISFALSE',\n",
       "       'TWEETTOPIC', 'TWEETROLETOTHESTORY', 'STORYROLETOTWEET', 'filter_$',\n",
       "       'SRC_TOTAL'],\n",
       "      dtype='object')"
      ]
     },
     "execution_count": 21,
     "metadata": {},
     "output_type": "execute_result"
    }
   ],
   "source": [
    "#open file\n",
    "df=pd.read_spss(\"2020_2016_cnn_fox_tweets_coverage.sav\")\n",
    "#check column names\n",
    "df.columns"
   ]
  },
  {
   "cell_type": "code",
   "execution_count": 22,
   "metadata": {},
   "outputs": [],
   "source": [
    "#create a new column with the publisher and year\n",
    "df[\"PUBLISHERYEAR\"]=df.PUBLISHER.astype(str)+df.YEAR.astype(str)\n",
    "df.to_csv(\"2020_2016_cnn_fox_tweets_coverage.csv\")"
   ]
  },
  {
   "cell_type": "code",
   "execution_count": 23,
   "metadata": {},
   "outputs": [
    {
     "name": "stderr",
     "output_type": "stream",
     "text": [
      "/var/folders/p9/s35_kx491l3f1qcxx11y7p280000gn/T/ipykernel_56105/4248754915.py:9: SettingWithCopyWarning: \n",
      "A value is trying to be set on a copy of a slice from a DataFrame\n",
      "\n",
      "See the caveats in the documentation: https://pandas.pydata.org/pandas-docs/stable/user_guide/indexing.html#returning-a-view-versus-a-copy\n",
      "  dfstory.drop_duplicates(subset=['STORYNUMBER'], keep='first', inplace=True)\n"
     ]
    }
   ],
   "source": [
    "#unit of analysis is story\n",
    "dfstory=df[['STORYNUMBER', 'CODER', 'YEAR', 'PUBLICATIONDATE', 'URL', 'PUBLISHER', \"PUBLISHERYEAR\",\n",
    "       'STORYTYPE', 'STORYTOPIC', 'STORYGENERICFRAMESDOMINANT',\n",
    "       'STORYGENERICFRAMESSECONDARY', 'STORYEMOTIONALFRAMES',\n",
    "       'STORYCONTAINSFALSESTATEMENT', 'STORYCLAIMSANOTHERSOURCEISFALSE',\n",
    "       'STORYFACTCHECKSTWEET', 'SENSATIONALISM', 'src_expert', 'src_opponent',\n",
    "       'src_otherpolitician', 'src_privatecitizen', 'src_media', 'src_other']]\n",
    "#remove duplicates\n",
    "dfstory.drop_duplicates(subset=['STORYNUMBER'], keep='first', inplace=True)\n",
    "dfstory\n",
    "#dv list for stories\n",
    "DVstory=['STORYTYPE', 'STORYTOPIC', 'STORYGENERICFRAMESDOMINANT',\n",
    "       'STORYGENERICFRAMESSECONDARY', 'STORYEMOTIONALFRAMES',\n",
    "       'STORYCONTAINSFALSESTATEMENT', 'STORYCLAIMSANOTHERSOURCEISFALSE',\n",
    "       'STORYFACTCHECKSTWEET', 'SENSATIONALISM', 'src_expert', 'src_opponent',\n",
    "       'src_otherpolitician', 'src_privatecitizen', 'src_media', 'src_other']\n",
    "dfstory\n",
    "dfstory2020=dfstory.loc[dfstory['YEAR'] == \"2020\"]\n",
    "dfstory2016=dfstory.loc[dfstory['YEAR'] == \"2016\"]\n",
    "dfstoryFOX=dfstory.loc[dfstory['PUBLISHER'] == \"fox\"]\n",
    "dfstoryCNN=dfstory.loc[dfstory['PUBLISHER'] == \"cnn\"]"
   ]
  },
  {
   "cell_type": "code",
   "execution_count": 24,
   "metadata": {},
   "outputs": [],
   "source": [
    "#unit of analysis is tweet\n",
    "dftweet=df[['STORYNUMBER', 'CODER', 'YEAR', 'PUBLICATIONDATE', 'URL', 'PUBLISHER', \"PUBLISHERYEAR\",\n",
    "       'NUMBEROFTWEETSBYCANDIDATES', 'NUMBEROFTWEETSFROMOTHERS', 'TWEETBY',\n",
    "       'TWEETPRESENTATION', 'TWEETGENERICFRAMESDOMINANT',\n",
    "       'TWEETGENERICFRAMESSECONDARY', 'TWEETEMOTIONALFRAMES',\n",
    "       'TWEETCONTAINSFALSESTATEMENT', 'TWEETCLAIMSSOMETHINGELSEISFALSE',\n",
    "       'TWEETTOPIC', 'TWEETROLETOTHESTORY', 'STORYROLETOTWEET']]\n",
    "DVtweet=['NUMBEROFTWEETSBYCANDIDATES', 'NUMBEROFTWEETSFROMOTHERS', 'TWEETBY',\n",
    "       'TWEETPRESENTATION', 'TWEETGENERICFRAMESDOMINANT',\n",
    "       'TWEETGENERICFRAMESSECONDARY', 'TWEETEMOTIONALFRAMES',\n",
    "       'TWEETCONTAINSFALSESTATEMENT', 'TWEETCLAIMSSOMETHINGELSEISFALSE',\n",
    "       'TWEETTOPIC', 'TWEETROLETOTHESTORY', 'STORYROLETOTWEET']\n",
    "dftweet\n",
    "dftweet2020=dftweet.loc[dftweet['YEAR'] == \"2020\"]\n",
    "dftweet2016=dftweet.loc[dftweet['YEAR'] == \"2016\"]\n",
    "dftweetFOX=dftweet.loc[dftweet['PUBLISHER'] == \"fox\"]\n",
    "dftweetCNN=dftweet.loc[dftweet['PUBLISHER'] == \"cnn\"]\n",
    "dftweetFOX2016=dftweetFOX.loc[dftweetFOX['YEAR'] == \"2016\"]\n",
    "dftweetCNN2016=dftweetCNN.loc[dftweetCNN['YEAR'] == \"2016\"]\n",
    "dftweetFOX2020=dftweetFOX.loc[dftweetFOX['YEAR'] == \"2020\"]\n",
    "dftweetCNN2020=dftweetCNN.loc[dftweetCNN['YEAR'] == \"2020\"]"
   ]
  },
  {
   "cell_type": "code",
   "execution_count": 25,
   "metadata": {},
   "outputs": [],
   "source": [
    "df2016=df.loc[df['YEAR'] == \"2016\"]\n",
    "dfFOX2016=df2016.loc[df2016['PUBLISHER'] == \"fox\"]\n",
    "dfCNN2016=df2016.loc[df2016['PUBLISHER'] == \"cnn\"]"
   ]
  },
  {
   "cell_type": "code",
   "execution_count": 26,
   "metadata": {},
   "outputs": [],
   "source": [
    "pyreadstat.write_sav(df, \"df.sav\")\n",
    "pyreadstat.write_sav(dfstory, \"dfstory.sav\")\n",
    "pyreadstat.write_sav(dftweet, \"dftweet.sav\")\n",
    "pyreadstat.write_sav(dfstoryFOX, \"dfstoryFOX.sav\")\n",
    "pyreadstat.write_sav(dfstoryCNN, \"dfstoryCNN.sav\")\n",
    "pyreadstat.write_sav(dftweetFOX, \"dftweetFOX.sav\")\n",
    "pyreadstat.write_sav(dftweetCNN, \"dftweetCNN.sav\")\n",
    "pyreadstat.write_sav(dfstory2020, \"dfstory2020.sav\")\n",
    "pyreadstat.write_sav(dftweet2020, \"dftweet2020.sav\")\n",
    "pyreadstat.write_sav(dfstory2016, \"dfstory2016.sav\")\n",
    "pyreadstat.write_sav(dftweet2016, \"dftweet2016.sav\")\n",
    "pyreadstat.write_sav(dftweetFOX2016, \"dftweetFOX2016.sav\")\n",
    "pyreadstat.write_sav(dftweetCNN2016, \"dftweetCNN2016.sav\")\n",
    "pyreadstat.write_sav(dfFOX2016, \"dfFOX2016.sav\")\n",
    "pyreadstat.write_sav(dfCNN2016, \"dfCNN2016.sav\")\n"
   ]
  },
  {
   "cell_type": "code",
   "execution_count": 27,
   "metadata": {},
   "outputs": [],
   "source": [
    "dfx=pd.crosstab(dfstory2020.STORYFACTCHECKSTWEET, dfstory2020.PUBLISHER, margins=False)"
   ]
  },
  {
   "cell_type": "code",
   "execution_count": 28,
   "metadata": {},
   "outputs": [
    {
     "data": {
      "text/html": [
       "<div>\n",
       "<style scoped>\n",
       "    .dataframe tbody tr th:only-of-type {\n",
       "        vertical-align: middle;\n",
       "    }\n",
       "\n",
       "    .dataframe tbody tr th {\n",
       "        vertical-align: top;\n",
       "    }\n",
       "\n",
       "    .dataframe thead th {\n",
       "        text-align: right;\n",
       "    }\n",
       "</style>\n",
       "<table border=\"1\" class=\"dataframe\">\n",
       "  <thead>\n",
       "    <tr style=\"text-align: right;\">\n",
       "      <th>PUBLISHER</th>\n",
       "      <th>cnn</th>\n",
       "      <th>fox</th>\n",
       "    </tr>\n",
       "    <tr>\n",
       "      <th>STORYFACTCHECKSTWEET</th>\n",
       "      <th></th>\n",
       "      <th></th>\n",
       "    </tr>\n",
       "  </thead>\n",
       "  <tbody>\n",
       "    <tr>\n",
       "      <th>no</th>\n",
       "      <td>80</td>\n",
       "      <td>68</td>\n",
       "    </tr>\n",
       "    <tr>\n",
       "      <th>yes</th>\n",
       "      <td>39</td>\n",
       "      <td>8</td>\n",
       "    </tr>\n",
       "  </tbody>\n",
       "</table>\n",
       "</div>"
      ],
      "text/plain": [
       "PUBLISHER             cnn  fox\n",
       "STORYFACTCHECKSTWEET          \n",
       "no                     80   68\n",
       "yes                    39    8"
      ]
     },
     "execution_count": 28,
     "metadata": {},
     "output_type": "execute_result"
    }
   ],
   "source": [
    "dfx"
   ]
  },
  {
   "cell_type": "code",
   "execution_count": 29,
   "metadata": {},
   "outputs": [],
   "source": [
    "# chisquare(f_obs=dfx.cnn, f_exp=dfx.fox)\n",
    "\n",
    "# # Initialize a CamresV object using you pandas.DataFrame\n",
    "# cramersv = am.CramersV(df)\n",
    "# # will return a pairwise matrix filled with Cramer's V, where columns and index are \n",
    "# # the categorical variables of the passed pandas.DataFrame\n",
    "# cramersv.fit()"
   ]
  },
  {
   "cell_type": "code",
   "execution_count": 30,
   "metadata": {},
   "outputs": [
    {
     "name": "stdout",
     "output_type": "stream",
     "text": [
      "PUBLISHER             cnn  fox\n",
      "STORYFACTCHECKSTWEET          \n",
      "no                     80   68\n",
      "yes                    39    8\n",
      "p = 0.0\n",
      "very significant\n"
     ]
    }
   ],
   "source": [
    "#creating a contingency table for x2\n",
    "data = dfstory2020[[\"STORYFACTCHECKSTWEET\", \"PUBLISHER\"]]\n",
    "table = sm.stats.Table.from_data(data)\n",
    "print(table.table_orig)\n",
    "#calculating the p value\n",
    "rslt = table.test_nominal_association()\n",
    "print('p = ' + rslt.pvalue.round(3).astype(str))\n",
    "#conditional p value report\n",
    "if rslt.pvalue < 0.05 and rslt.pvalue > 0.01:\n",
    "    print(\"significant\")\n",
    "elif rslt.pvalue < 0.01:\n",
    "    print(\"very significant\")\n",
    "else:\n",
    "    print(\"not significant\")"
   ]
  },
  {
   "cell_type": "code",
   "execution_count": 31,
   "metadata": {},
   "outputs": [],
   "source": [
    "# pd.crosstab(df.team, df.position, normalize='columns')"
   ]
  },
  {
   "cell_type": "code",
   "execution_count": 32,
   "metadata": {},
   "outputs": [
    {
     "data": {
      "text/plain": [
       "NUMBEROFTWEETSBYCANDIDATES\n",
       "1.0     209\n",
       "2.0      49\n",
       "3.0       9\n",
       "4.0       5\n",
       "6.0       3\n",
       "5.0       2\n",
       "13.0      1\n",
       "8.0       1\n",
       "9.0       1\n",
       "15.0      1\n",
       "Name: count, dtype: int64"
      ]
     },
     "execution_count": 32,
     "metadata": {},
     "output_type": "execute_result"
    }
   ],
   "source": [
    "df.NUMBEROFTWEETSBYCANDIDATES.value_counts()"
   ]
  },
  {
   "cell_type": "code",
   "execution_count": 33,
   "metadata": {},
   "outputs": [
    {
     "data": {
      "text/plain": [
       "TWEETPRESENTATION\n",
       "embedded_cited          142\n",
       "cited                    97\n",
       "cited_linked             47\n",
       "embedded                 46\n",
       "paraphrased              43\n",
       "cited_paraphrased        18\n",
       "paraphrased_linked       15\n",
       "embedded_paraphrased      8\n",
       "linked                    3\n",
       "Name: count, dtype: int64"
      ]
     },
     "execution_count": 33,
     "metadata": {},
     "output_type": "execute_result"
    }
   ],
   "source": [
    "df.TWEETPRESENTATION.value_counts()"
   ]
  },
  {
   "cell_type": "code",
   "execution_count": 34,
   "metadata": {},
   "outputs": [
    {
     "data": {
      "text/html": [
       "<div>\n",
       "<style scoped>\n",
       "    .dataframe tbody tr th:only-of-type {\n",
       "        vertical-align: middle;\n",
       "    }\n",
       "\n",
       "    .dataframe tbody tr th {\n",
       "        vertical-align: top;\n",
       "    }\n",
       "\n",
       "    .dataframe thead th {\n",
       "        text-align: right;\n",
       "    }\n",
       "</style>\n",
       "<table border=\"1\" class=\"dataframe\">\n",
       "  <thead>\n",
       "    <tr style=\"text-align: right;\">\n",
       "      <th></th>\n",
       "      <th>T</th>\n",
       "      <th>dof</th>\n",
       "      <th>alternative</th>\n",
       "      <th>p-val</th>\n",
       "      <th>CI95%</th>\n",
       "      <th>cohen-d</th>\n",
       "      <th>BF10</th>\n",
       "      <th>power</th>\n",
       "    </tr>\n",
       "  </thead>\n",
       "  <tbody>\n",
       "    <tr>\n",
       "      <th>T-test</th>\n",
       "      <td>0.658</td>\n",
       "      <td>60.803</td>\n",
       "      <td>two-sided</td>\n",
       "      <td>0.513</td>\n",
       "      <td>[-0.55, 1.08]</td>\n",
       "      <td>0.126</td>\n",
       "      <td>0.313</td>\n",
       "      <td>0.077</td>\n",
       "    </tr>\n",
       "  </tbody>\n",
       "</table>\n",
       "</div>"
      ],
      "text/plain": [
       "            T     dof alternative  p-val          CI95%  cohen-d   BF10  power\n",
       "T-test  0.658  60.803   two-sided  0.513  [-0.55, 1.08]    0.126  0.313  0.077"
      ]
     },
     "execution_count": 34,
     "metadata": {},
     "output_type": "execute_result"
    }
   ],
   "source": [
    "pg.ttest(dftweetCNN2016.NUMBEROFTWEETSBYCANDIDATES, dftweetFOX2016.NUMBEROFTWEETSBYCANDIDATES).round(3)"
   ]
  },
  {
   "cell_type": "code",
   "execution_count": 35,
   "metadata": {},
   "outputs": [
    {
     "data": {
      "text/html": [
       "<div>\n",
       "<style scoped>\n",
       "    .dataframe tbody tr th:only-of-type {\n",
       "        vertical-align: middle;\n",
       "    }\n",
       "\n",
       "    .dataframe tbody tr th {\n",
       "        vertical-align: top;\n",
       "    }\n",
       "\n",
       "    .dataframe thead th {\n",
       "        text-align: right;\n",
       "    }\n",
       "</style>\n",
       "<table border=\"1\" class=\"dataframe\">\n",
       "  <thead>\n",
       "    <tr style=\"text-align: right;\">\n",
       "      <th></th>\n",
       "      <th>T</th>\n",
       "      <th>dof</th>\n",
       "      <th>alternative</th>\n",
       "      <th>p-val</th>\n",
       "      <th>CI95%</th>\n",
       "      <th>cohen-d</th>\n",
       "      <th>BF10</th>\n",
       "      <th>power</th>\n",
       "    </tr>\n",
       "  </thead>\n",
       "  <tbody>\n",
       "    <tr>\n",
       "      <th>T-test</th>\n",
       "      <td>2.55</td>\n",
       "      <td>65.05</td>\n",
       "      <td>two-sided</td>\n",
       "      <td>0.01</td>\n",
       "      <td>[0.16, 1.35]</td>\n",
       "      <td>0.53</td>\n",
       "      <td>3.273</td>\n",
       "      <td>0.92</td>\n",
       "    </tr>\n",
       "  </tbody>\n",
       "</table>\n",
       "</div>"
      ],
      "text/plain": [
       "           T    dof alternative  p-val         CI95%  cohen-d   BF10  power\n",
       "T-test  2.55  65.05   two-sided   0.01  [0.16, 1.35]     0.53  3.273   0.92"
      ]
     },
     "execution_count": 35,
     "metadata": {},
     "output_type": "execute_result"
    }
   ],
   "source": [
    "pg.ttest(dftweetCNN2016.NUMBEROFTWEETSBYCANDIDATES, dftweetCNN2020.NUMBEROFTWEETSBYCANDIDATES).round(2)"
   ]
  },
  {
   "cell_type": "code",
   "execution_count": 36,
   "metadata": {},
   "outputs": [
    {
     "data": {
      "text/plain": [
       "count    63.00\n",
       "mean      1.97\n",
       "std       2.33\n",
       "min       1.00\n",
       "25%       1.00\n",
       "50%       1.00\n",
       "75%       2.00\n",
       "max      15.00\n",
       "Name: NUMBEROFTWEETSBYCANDIDATES, dtype: float64"
      ]
     },
     "execution_count": 36,
     "metadata": {},
     "output_type": "execute_result"
    }
   ],
   "source": [
    "dftweetCNN2016.NUMBEROFTWEETSBYCANDIDATES.describe().round(2)"
   ]
  },
  {
   "cell_type": "code",
   "execution_count": 37,
   "metadata": {},
   "outputs": [
    {
     "data": {
      "text/plain": [
       "count    119.00\n",
       "mean       1.21\n",
       "std        0.50\n",
       "min        1.00\n",
       "25%        1.00\n",
       "50%        1.00\n",
       "75%        1.00\n",
       "max        3.00\n",
       "Name: NUMBEROFTWEETSBYCANDIDATES, dtype: float64"
      ]
     },
     "execution_count": 37,
     "metadata": {},
     "output_type": "execute_result"
    }
   ],
   "source": [
    "dftweetCNN2020.NUMBEROFTWEETSBYCANDIDATES.describe().round(2)"
   ]
  },
  {
   "cell_type": "code",
   "execution_count": 38,
   "metadata": {},
   "outputs": [
    {
     "data": {
      "text/html": [
       "<div>\n",
       "<style scoped>\n",
       "    .dataframe tbody tr th:only-of-type {\n",
       "        vertical-align: middle;\n",
       "    }\n",
       "\n",
       "    .dataframe tbody tr th {\n",
       "        vertical-align: top;\n",
       "    }\n",
       "\n",
       "    .dataframe thead th {\n",
       "        text-align: right;\n",
       "    }\n",
       "</style>\n",
       "<table border=\"1\" class=\"dataframe\">\n",
       "  <thead>\n",
       "    <tr style=\"text-align: right;\">\n",
       "      <th></th>\n",
       "      <th>T</th>\n",
       "      <th>dof</th>\n",
       "      <th>alternative</th>\n",
       "      <th>p-val</th>\n",
       "      <th>CI95%</th>\n",
       "      <th>cohen-d</th>\n",
       "      <th>BF10</th>\n",
       "      <th>power</th>\n",
       "    </tr>\n",
       "  </thead>\n",
       "  <tbody>\n",
       "    <tr>\n",
       "      <th>T-test</th>\n",
       "      <td>0.354</td>\n",
       "      <td>35.419</td>\n",
       "      <td>two-sided</td>\n",
       "      <td>0.725</td>\n",
       "      <td>[-0.56, 0.79]</td>\n",
       "      <td>0.078</td>\n",
       "      <td>0.27</td>\n",
       "      <td>0.061</td>\n",
       "    </tr>\n",
       "  </tbody>\n",
       "</table>\n",
       "</div>"
      ],
      "text/plain": [
       "            T     dof alternative  p-val          CI95%  cohen-d  BF10  power\n",
       "T-test  0.354  35.419   two-sided  0.725  [-0.56, 0.79]    0.078  0.27  0.061"
      ]
     },
     "execution_count": 38,
     "metadata": {},
     "output_type": "execute_result"
    }
   ],
   "source": [
    "pg.ttest(dftweetFOX2016.NUMBEROFTWEETSBYCANDIDATES, dftweetFOX2020.NUMBEROFTWEETSBYCANDIDATES).round(3)"
   ]
  },
  {
   "cell_type": "code",
   "execution_count": 39,
   "metadata": {},
   "outputs": [
    {
     "data": {
      "text/plain": [
       "TWEETBY\n",
       "trump     229\n",
       "biden      23\n",
       "harris      7\n",
       "pence       5\n",
       "Name: count, dtype: int64"
      ]
     },
     "execution_count": 39,
     "metadata": {},
     "output_type": "execute_result"
    }
   ],
   "source": [
    "dftweetCNN.TWEETBY.value_counts()"
   ]
  },
  {
   "cell_type": "code",
   "execution_count": 44,
   "metadata": {},
   "outputs": [
    {
     "data": {
      "text/html": [
       "<div>\n",
       "<style scoped>\n",
       "    .dataframe tbody tr th:only-of-type {\n",
       "        vertical-align: middle;\n",
       "    }\n",
       "\n",
       "    .dataframe tbody tr th {\n",
       "        vertical-align: top;\n",
       "    }\n",
       "\n",
       "    .dataframe thead th {\n",
       "        text-align: right;\n",
       "    }\n",
       "</style>\n",
       "<table border=\"1\" class=\"dataframe\">\n",
       "  <thead>\n",
       "    <tr style=\"text-align: right;\">\n",
       "      <th>YEAR</th>\n",
       "      <th>2016</th>\n",
       "      <th>2020</th>\n",
       "      <th>All</th>\n",
       "    </tr>\n",
       "    <tr>\n",
       "      <th>PUBLISHER</th>\n",
       "      <th></th>\n",
       "      <th></th>\n",
       "      <th></th>\n",
       "    </tr>\n",
       "  </thead>\n",
       "  <tbody>\n",
       "    <tr>\n",
       "      <th>cnn</th>\n",
       "      <td>64</td>\n",
       "      <td>121</td>\n",
       "      <td>185</td>\n",
       "    </tr>\n",
       "    <tr>\n",
       "      <th>fox</th>\n",
       "      <td>19</td>\n",
       "      <td>76</td>\n",
       "      <td>95</td>\n",
       "    </tr>\n",
       "    <tr>\n",
       "      <th>All</th>\n",
       "      <td>83</td>\n",
       "      <td>197</td>\n",
       "      <td>280</td>\n",
       "    </tr>\n",
       "  </tbody>\n",
       "</table>\n",
       "</div>"
      ],
      "text/plain": [
       "YEAR       2016  2020  All\n",
       "PUBLISHER                 \n",
       "cnn          64   121  185\n",
       "fox          19    76   95\n",
       "All          83   197  280"
      ]
     },
     "execution_count": 44,
     "metadata": {},
     "output_type": "execute_result"
    }
   ],
   "source": [
    "pd.crosstab(dfstory.PUBLISHER, dfstory.YEAR, margins=True)"
   ]
  },
  {
   "cell_type": "code",
   "execution_count": 46,
   "metadata": {},
   "outputs": [],
   "source": [
    "pd.crosstab(dfstory.PUBLISHER, dfstory.YEAR, margins=True).to_csv(\"table1.csv\")\n",
    "pd.crosstab(dftweet.PUBLISHER, dftweet.YEAR, margins=True).to_csv(\"table2.csv\")"
   ]
  },
  {
   "cell_type": "code",
   "execution_count": 50,
   "metadata": {},
   "outputs": [
    {
     "data": {
      "text/html": [
       "<div>\n",
       "<style scoped>\n",
       "    .dataframe tbody tr th:only-of-type {\n",
       "        vertical-align: middle;\n",
       "    }\n",
       "\n",
       "    .dataframe tbody tr th {\n",
       "        vertical-align: top;\n",
       "    }\n",
       "\n",
       "    .dataframe thead th {\n",
       "        text-align: right;\n",
       "    }\n",
       "</style>\n",
       "<table border=\"1\" class=\"dataframe\">\n",
       "  <thead>\n",
       "    <tr style=\"text-align: right;\">\n",
       "      <th>PUBLISHER</th>\n",
       "      <th>cnn</th>\n",
       "      <th>fox</th>\n",
       "    </tr>\n",
       "    <tr>\n",
       "      <th>STORYFACTCHECKSTWEET</th>\n",
       "      <th></th>\n",
       "      <th></th>\n",
       "    </tr>\n",
       "  </thead>\n",
       "  <tbody>\n",
       "    <tr>\n",
       "      <th>no</th>\n",
       "      <td>67.0</td>\n",
       "      <td>95.0</td>\n",
       "    </tr>\n",
       "    <tr>\n",
       "      <th>yes</th>\n",
       "      <td>33.0</td>\n",
       "      <td>5.0</td>\n",
       "    </tr>\n",
       "  </tbody>\n",
       "</table>\n",
       "</div>"
      ],
      "text/plain": [
       "PUBLISHER              cnn   fox\n",
       "STORYFACTCHECKSTWEET            \n",
       "no                    67.0  95.0\n",
       "yes                   33.0   5.0"
      ]
     },
     "execution_count": 50,
     "metadata": {},
     "output_type": "execute_result"
    }
   ],
   "source": [
    "pd.crosstab(dfstory2016.STORYFACTCHECKSTWEET, dfstory2016.PUBLISHER, normalize='columns').round(2)*100"
   ]
  },
  {
   "cell_type": "code",
   "execution_count": 51,
   "metadata": {},
   "outputs": [
    {
     "data": {
      "text/html": [
       "<div>\n",
       "<style scoped>\n",
       "    .dataframe tbody tr th:only-of-type {\n",
       "        vertical-align: middle;\n",
       "    }\n",
       "\n",
       "    .dataframe tbody tr th {\n",
       "        vertical-align: top;\n",
       "    }\n",
       "\n",
       "    .dataframe thead th {\n",
       "        text-align: right;\n",
       "    }\n",
       "</style>\n",
       "<table border=\"1\" class=\"dataframe\">\n",
       "  <thead>\n",
       "    <tr style=\"text-align: right;\">\n",
       "      <th>YEAR</th>\n",
       "      <th>2016</th>\n",
       "      <th>2020</th>\n",
       "    </tr>\n",
       "    <tr>\n",
       "      <th>STORYTYPE</th>\n",
       "      <th></th>\n",
       "      <th></th>\n",
       "    </tr>\n",
       "  </thead>\n",
       "  <tbody>\n",
       "    <tr>\n",
       "      <th>4.0</th>\n",
       "      <td>0.0</td>\n",
       "      <td>1.0</td>\n",
       "    </tr>\n",
       "    <tr>\n",
       "      <th>9.0</th>\n",
       "      <td>0.0</td>\n",
       "      <td>2.0</td>\n",
       "    </tr>\n",
       "    <tr>\n",
       "      <th>editorial</th>\n",
       "      <td>14.0</td>\n",
       "      <td>44.0</td>\n",
       "    </tr>\n",
       "    <tr>\n",
       "      <th>hard news</th>\n",
       "      <td>8.0</td>\n",
       "      <td>8.0</td>\n",
       "    </tr>\n",
       "    <tr>\n",
       "      <th>soft news</th>\n",
       "      <td>78.0</td>\n",
       "      <td>45.0</td>\n",
       "    </tr>\n",
       "  </tbody>\n",
       "</table>\n",
       "</div>"
      ],
      "text/plain": [
       "YEAR       2016  2020\n",
       "STORYTYPE            \n",
       "4.0         0.0   1.0\n",
       "9.0         0.0   2.0\n",
       "editorial  14.0  44.0\n",
       "hard news   8.0   8.0\n",
       "soft news  78.0  45.0"
      ]
     },
     "execution_count": 51,
     "metadata": {},
     "output_type": "execute_result"
    }
   ],
   "source": [
    "pd.crosstab(dfstoryCNN.STORYTYPE, dfstoryCNN.YEAR, normalize='columns').round(2)*100"
   ]
  },
  {
   "cell_type": "code",
   "execution_count": 52,
   "metadata": {},
   "outputs": [
    {
     "data": {
      "text/html": [
       "<div>\n",
       "<style scoped>\n",
       "    .dataframe tbody tr th:only-of-type {\n",
       "        vertical-align: middle;\n",
       "    }\n",
       "\n",
       "    .dataframe tbody tr th {\n",
       "        vertical-align: top;\n",
       "    }\n",
       "\n",
       "    .dataframe thead th {\n",
       "        text-align: right;\n",
       "    }\n",
       "</style>\n",
       "<table border=\"1\" class=\"dataframe\">\n",
       "  <thead>\n",
       "    <tr style=\"text-align: right;\">\n",
       "      <th>YEAR</th>\n",
       "      <th>2016</th>\n",
       "      <th>2020</th>\n",
       "    </tr>\n",
       "    <tr>\n",
       "      <th>STORYTOPIC</th>\n",
       "      <th></th>\n",
       "      <th></th>\n",
       "    </tr>\n",
       "  </thead>\n",
       "  <tbody>\n",
       "    <tr>\n",
       "      <th>attack</th>\n",
       "      <td>27.0</td>\n",
       "      <td>19.0</td>\n",
       "    </tr>\n",
       "    <tr>\n",
       "      <th>campaign event or info</th>\n",
       "      <td>10.0</td>\n",
       "      <td>5.0</td>\n",
       "    </tr>\n",
       "    <tr>\n",
       "      <th>character traits</th>\n",
       "      <td>8.0</td>\n",
       "      <td>3.0</td>\n",
       "    </tr>\n",
       "    <tr>\n",
       "      <th>covid</th>\n",
       "      <td>0.0</td>\n",
       "      <td>28.0</td>\n",
       "    </tr>\n",
       "    <tr>\n",
       "      <th>endorsement</th>\n",
       "      <td>3.0</td>\n",
       "      <td>1.0</td>\n",
       "    </tr>\n",
       "    <tr>\n",
       "      <th>horserace</th>\n",
       "      <td>5.0</td>\n",
       "      <td>8.0</td>\n",
       "    </tr>\n",
       "    <tr>\n",
       "      <th>media</th>\n",
       "      <td>11.0</td>\n",
       "      <td>5.0</td>\n",
       "    </tr>\n",
       "    <tr>\n",
       "      <th>other</th>\n",
       "      <td>8.0</td>\n",
       "      <td>3.0</td>\n",
       "    </tr>\n",
       "    <tr>\n",
       "      <th>policy issue</th>\n",
       "      <td>19.0</td>\n",
       "      <td>24.0</td>\n",
       "    </tr>\n",
       "    <tr>\n",
       "      <th>scandal</th>\n",
       "      <td>10.0</td>\n",
       "      <td>3.0</td>\n",
       "    </tr>\n",
       "  </tbody>\n",
       "</table>\n",
       "</div>"
      ],
      "text/plain": [
       "YEAR                    2016  2020\n",
       "STORYTOPIC                        \n",
       "attack                  27.0  19.0\n",
       "campaign event or info  10.0   5.0\n",
       "character traits         8.0   3.0\n",
       "covid                    0.0  28.0\n",
       "endorsement              3.0   1.0\n",
       "horserace                5.0   8.0\n",
       "media                   11.0   5.0\n",
       "other                    8.0   3.0\n",
       "policy issue            19.0  24.0\n",
       "scandal                 10.0   3.0"
      ]
     },
     "execution_count": 52,
     "metadata": {},
     "output_type": "execute_result"
    }
   ],
   "source": [
    "pd.crosstab(dfstoryCNN.STORYTOPIC, dfstoryCNN.YEAR, normalize='columns').round(2)*100"
   ]
  },
  {
   "cell_type": "code",
   "execution_count": 53,
   "metadata": {},
   "outputs": [
    {
     "data": {
      "text/html": [
       "<div>\n",
       "<style scoped>\n",
       "    .dataframe tbody tr th:only-of-type {\n",
       "        vertical-align: middle;\n",
       "    }\n",
       "\n",
       "    .dataframe tbody tr th {\n",
       "        vertical-align: top;\n",
       "    }\n",
       "\n",
       "    .dataframe thead th {\n",
       "        text-align: right;\n",
       "    }\n",
       "</style>\n",
       "<table border=\"1\" class=\"dataframe\">\n",
       "  <thead>\n",
       "    <tr style=\"text-align: right;\">\n",
       "      <th>YEAR</th>\n",
       "      <th>2016</th>\n",
       "      <th>2020</th>\n",
       "    </tr>\n",
       "    <tr>\n",
       "      <th>STORYEMOTIONALFRAMES</th>\n",
       "      <th></th>\n",
       "      <th></th>\n",
       "    </tr>\n",
       "  </thead>\n",
       "  <tbody>\n",
       "    <tr>\n",
       "      <th>3.0</th>\n",
       "      <td>5.0</td>\n",
       "      <td>0.0</td>\n",
       "    </tr>\n",
       "    <tr>\n",
       "      <th>negative</th>\n",
       "      <td>94.0</td>\n",
       "      <td>91.0</td>\n",
       "    </tr>\n",
       "    <tr>\n",
       "      <th>positive</th>\n",
       "      <td>2.0</td>\n",
       "      <td>9.0</td>\n",
       "    </tr>\n",
       "  </tbody>\n",
       "</table>\n",
       "</div>"
      ],
      "text/plain": [
       "YEAR                  2016  2020\n",
       "STORYEMOTIONALFRAMES            \n",
       "3.0                    5.0   0.0\n",
       "negative              94.0  91.0\n",
       "positive               2.0   9.0"
      ]
     },
     "execution_count": 53,
     "metadata": {},
     "output_type": "execute_result"
    }
   ],
   "source": [
    "pd.crosstab(dfstoryCNN.STORYEMOTIONALFRAMES, dfstoryCNN.YEAR, normalize='columns').round(2)*100"
   ]
  },
  {
   "cell_type": "code",
   "execution_count": 54,
   "metadata": {},
   "outputs": [
    {
     "data": {
      "text/html": [
       "<div>\n",
       "<style scoped>\n",
       "    .dataframe tbody tr th:only-of-type {\n",
       "        vertical-align: middle;\n",
       "    }\n",
       "\n",
       "    .dataframe tbody tr th {\n",
       "        vertical-align: top;\n",
       "    }\n",
       "\n",
       "    .dataframe thead th {\n",
       "        text-align: right;\n",
       "    }\n",
       "</style>\n",
       "<table border=\"1\" class=\"dataframe\">\n",
       "  <thead>\n",
       "    <tr style=\"text-align: right;\">\n",
       "      <th>YEAR</th>\n",
       "      <th>2016</th>\n",
       "      <th>2020</th>\n",
       "    </tr>\n",
       "    <tr>\n",
       "      <th>SENSATIONALISM</th>\n",
       "      <th></th>\n",
       "      <th></th>\n",
       "    </tr>\n",
       "  </thead>\n",
       "  <tbody>\n",
       "    <tr>\n",
       "      <th>no</th>\n",
       "      <td>79.0</td>\n",
       "      <td>98.0</td>\n",
       "    </tr>\n",
       "    <tr>\n",
       "      <th>yes</th>\n",
       "      <td>21.0</td>\n",
       "      <td>2.0</td>\n",
       "    </tr>\n",
       "  </tbody>\n",
       "</table>\n",
       "</div>"
      ],
      "text/plain": [
       "YEAR            2016  2020\n",
       "SENSATIONALISM            \n",
       "no              79.0  98.0\n",
       "yes             21.0   2.0"
      ]
     },
     "execution_count": 54,
     "metadata": {},
     "output_type": "execute_result"
    }
   ],
   "source": [
    "pd.crosstab(dfstoryCNN.SENSATIONALISM, dfstoryCNN.YEAR, normalize='columns').round(2)*100"
   ]
  },
  {
   "cell_type": "code",
   "execution_count": 58,
   "metadata": {},
   "outputs": [],
   "source": [
    "T3_0=pd.crosstab(dfstoryCNN.STORYTYPE, dfstoryCNN.YEAR, normalize='columns').round(2)*100\n",
    "T3_1=pd.crosstab(dfstoryCNN.STORYTOPIC, dfstoryCNN.YEAR, normalize='columns').round(2)*100 \n",
    "T3_2=pd.crosstab(dfstoryCNN.STORYEMOTIONALFRAMES, dfstoryCNN.YEAR, normalize='columns').round(2)*100\n",
    "T3_3=pd.crosstab(dfstoryCNN.SENSATIONALISM, dfstoryCNN.YEAR, normalize='columns').round(2)*100\n",
    "pd.concat([T3_0, T3_1, T3_2, T3_3]).to_csv(\"table3.csv\")\n"
   ]
  },
  {
   "cell_type": "code",
   "execution_count": 59,
   "metadata": {},
   "outputs": [],
   "source": [
    "T4_0=pd.crosstab(dfstoryFOX.STORYTOPIC, dfstoryFOX.YEAR, normalize='columns').round(2)*100\n",
    "T4_1=pd.crosstab(dfstoryFOX.STORYGENERICFRAMESDOMINANT, dfstoryFOX.YEAR, normalize='columns').round(2)*100\n",
    "T4_2=pd.crosstab(dfstoryFOX.STORYEMOTIONALFRAMES, dfstoryFOX.YEAR, normalize='columns').round(2)*100\n",
    "pd.concat([T4_0, T4_1, T4_2]).to_csv(\"table4.csv\")"
   ]
  },
  {
   "cell_type": "code",
   "execution_count": 60,
   "metadata": {},
   "outputs": [
    {
     "data": {
      "text/plain": [
       "YEAR\n",
       "2020    121\n",
       "2016     64\n",
       "Name: count, dtype: int64"
      ]
     },
     "execution_count": 60,
     "metadata": {},
     "output_type": "execute_result"
    }
   ],
   "source": [
    "dfstoryCNN.YEAR.value_counts()"
   ]
  },
  {
   "cell_type": "code",
   "execution_count": 61,
   "metadata": {},
   "outputs": [
    {
     "data": {
      "text/plain": [
       "YEAR\n",
       "2020    76\n",
       "2016    19\n",
       "Name: count, dtype: int64"
      ]
     },
     "execution_count": 61,
     "metadata": {},
     "output_type": "execute_result"
    }
   ],
   "source": [
    "dfstoryFOX.YEAR.value_counts()"
   ]
  },
  {
   "cell_type": "code",
   "execution_count": 62,
   "metadata": {},
   "outputs": [],
   "source": [
    "T5_0=pd.crosstab(dftweet2016.TWEETTOPIC, dftweet2016.PUBLISHER, normalize='columns').round(2)*100\n",
    "T5_1=pd.crosstab(dftweet2016.TWEETPRESENTATION, dftweet2016.PUBLISHER, normalize='columns').round(2)*100\n",
    "T5_2=pd.crosstab(dftweet2016.TWEETROLETOTHESTORY, dftweet2016.PUBLISHER, normalize='columns').round(2)*100\n",
    "T5_3=pd.crosstab(dftweet2016.STORYROLETOTWEET, dftweet2016.PUBLISHER, normalize='columns').round(2)*100\n",
    "T5_4=pd.crosstab(dftweet2016.TWEETGENERICFRAMESDOMINANT, dftweet2016.PUBLISHER, normalize='columns').round(2)*100\n",
    "T5_5=pd.crosstab(dftweet2016.TWEETEMOTIONALFRAMES, dftweet2016.PUBLISHER, normalize='columns').round(2)*100\n",
    "pd.concat([T5_0, T5_1, T5_2, T5_3, T5_4, T5_5]).to_csv(\"table5.csv\")\n"
   ]
  },
  {
   "cell_type": "code",
   "execution_count": 67,
   "metadata": {},
   "outputs": [],
   "source": [
    "T6_0=pd.crosstab(dftweet.TWEETTOPIC, dftweet.YEAR, normalize='columns').round(2)*100\n",
    "T6_1=pd.crosstab(dftweet.TWEETPRESENTATION, dftweet.YEAR, normalize='columns').round(2)*100\n",
    "T6_2=pd.crosstab(dftweet.TWEETGENERICFRAMESDOMINANT, dftweet.YEAR, normalize='columns').round(2)*100\n",
    "T6_3=pd.crosstab(dftweet.TWEETEMOTIONALFRAMES, dftweet.YEAR, normalize='columns').round(2)*100\n",
    "T6_4=pd.crosstab(dftweet.TWEETROLETOTHESTORY, dftweet.YEAR, normalize='columns').round(2)*100\n",
    "T6_5=pd.crosstab(dftweet.STORYROLETOTWEET, dftweet.YEAR, normalize='columns').round(2)*100\n",
    "pd.concat([T6_0, T6_1, T6_2, T6_3, T6_4, T6_5]).to_csv(\"table6.csv\")"
   ]
  },
  {
   "cell_type": "code",
   "execution_count": 70,
   "metadata": {},
   "outputs": [],
   "source": [
    "T7_0=pd.crosstab(dftweetFOX.TWEETPRESENTATION, dftweetFOX.YEAR, normalize='columns').round(2)*100\n",
    "T7_1=pd.crosstab(dftweetFOX.TWEETROLETOTHESTORY, dftweetFOX.YEAR, normalize='columns').round(2)*100\n",
    "T7_2=pd.crosstab(dftweetFOX.STORYROLETOTWEET, dftweetFOX.YEAR, normalize='columns').round(2)*100\n",
    "pd.concat([T7_0, T7_1, T7_2]).to_csv(\"table7.csv\")"
   ]
  },
  {
   "cell_type": "code",
   "execution_count": null,
   "metadata": {},
   "outputs": [],
   "source": []
  }
 ],
 "metadata": {
  "kernelspec": {
   "display_name": "base",
   "language": "python",
   "name": "python3"
  },
  "language_info": {
   "codemirror_mode": {
    "name": "ipython",
    "version": 3
   },
   "file_extension": ".py",
   "mimetype": "text/x-python",
   "name": "python",
   "nbconvert_exporter": "python",
   "pygments_lexer": "ipython3",
   "version": "3.11.3"
  },
  "orig_nbformat": 4
 },
 "nbformat": 4,
 "nbformat_minor": 2
}
