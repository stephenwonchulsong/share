{
 "cells": [
  {
   "cell_type": "code",
   "execution_count": 17,
   "metadata": {},
   "outputs": [],
   "source": [
    " #using mystats env\n",
    "import pandas as pd\n",
    "import pingouin as pg\n",
    "import association_metrics as am\n",
    "from scipy.stats import chisquare\n",
    "import pyreadstat"
   ]
  },
  {
   "cell_type": "code",
   "execution_count": 18,
   "metadata": {},
   "outputs": [
    {
     "data": {
      "text/plain": [
       "Index(['STORYNUMBER', 'CODER', 'YEAR', 'PUBLICATIONDATE', 'URL', 'PUBLISHER',\n",
       "       'STORYTYPE', 'STORYTOPIC', 'STORYGENERICFRAMESDOMINANT',\n",
       "       'STORYGENERICFRAMESSECONDARY', 'STORYEMOTIONALFRAMES',\n",
       "       'STORYCONTAINSFALSESTATEMENT', 'STORYCLAIMSANOTHERSOURCEISFALSE',\n",
       "       'STORYFACTCHECKSTWEET', 'SENSATIONALISM', 'src_expert', 'src_opponent',\n",
       "       'src_otherpolitician', 'src_privatecitizen', 'src_media', 'src_other',\n",
       "       'NUMBEROFTWEETSBYCANDIDATES', 'NUMBEROFTWEETSFROMOTHERS', 'TWEETBY',\n",
       "       'TWEETPRESENTATION', 'TWEETGENERICFRAMESDOMINANT',\n",
       "       'TWEETGENERICFRAMESSECONDARY', 'TWEETEMOTIONALFRAMES',\n",
       "       'TWEETCONTAINSFALSESTATEMENT', 'TWEETCLAIMSSOMETHINGELSEISFALSE',\n",
       "       'TWEETTOPIC', 'TWEETROLETOTHESTORY', 'STORYROLETOTWEET', 'filter_$',\n",
       "       'SRC_TOTAL'],\n",
       "      dtype='object')"
      ]
     },
     "execution_count": 18,
     "metadata": {},
     "output_type": "execute_result"
    }
   ],
   "source": [
    "#open file\n",
    "df=pd.read_spss(\"2020_2016_cnn_fox_tweets_coverage.sav\")\n",
    "#check column names\n",
    "df.columns"
   ]
  },
  {
   "cell_type": "code",
   "execution_count": 19,
   "metadata": {},
   "outputs": [],
   "source": [
    "#create a new column with the publisher and year\n",
    "df[\"PUBLISHERYEAR\"]=df.PUBLISHER.astype(str)+df.YEAR.astype(str)\n",
    "df.to_csv(\"2020_2016_cnn_fox_tweets_coverage.csv\")"
   ]
  },
  {
   "cell_type": "code",
   "execution_count": 20,
   "metadata": {},
   "outputs": [
    {
     "name": "stderr",
     "output_type": "stream",
     "text": [
      "/var/folders/p9/s35_kx491l3f1qcxx11y7p280000gn/T/ipykernel_8770/4248754915.py:9: SettingWithCopyWarning: \n",
      "A value is trying to be set on a copy of a slice from a DataFrame\n",
      "\n",
      "See the caveats in the documentation: https://pandas.pydata.org/pandas-docs/stable/user_guide/indexing.html#returning-a-view-versus-a-copy\n",
      "  dfstory.drop_duplicates(subset=['STORYNUMBER'], keep='first', inplace=True)\n"
     ]
    }
   ],
   "source": [
    "#unit of analysis is story\n",
    "dfstory=df[['STORYNUMBER', 'CODER', 'YEAR', 'PUBLICATIONDATE', 'URL', 'PUBLISHER', \"PUBLISHERYEAR\",\n",
    "       'STORYTYPE', 'STORYTOPIC', 'STORYGENERICFRAMESDOMINANT',\n",
    "       'STORYGENERICFRAMESSECONDARY', 'STORYEMOTIONALFRAMES',\n",
    "       'STORYCONTAINSFALSESTATEMENT', 'STORYCLAIMSANOTHERSOURCEISFALSE',\n",
    "       'STORYFACTCHECKSTWEET', 'SENSATIONALISM', 'src_expert', 'src_opponent',\n",
    "       'src_otherpolitician', 'src_privatecitizen', 'src_media', 'src_other']]\n",
    "#remove duplicates\n",
    "dfstory.drop_duplicates(subset=['STORYNUMBER'], keep='first', inplace=True)\n",
    "dfstory\n",
    "#dv list for stories\n",
    "DVstory=['STORYTYPE', 'STORYTOPIC', 'STORYGENERICFRAMESDOMINANT',\n",
    "       'STORYGENERICFRAMESSECONDARY', 'STORYEMOTIONALFRAMES',\n",
    "       'STORYCONTAINSFALSESTATEMENT', 'STORYCLAIMSANOTHERSOURCEISFALSE',\n",
    "       'STORYFACTCHECKSTWEET', 'SENSATIONALISM', 'src_expert', 'src_opponent',\n",
    "       'src_otherpolitician', 'src_privatecitizen', 'src_media', 'src_other']\n",
    "dfstory\n",
    "dfstory2020=dfstory.loc[dfstory['YEAR'] == \"2020\"]\n",
    "dfstory2016=dfstory.loc[dfstory['YEAR'] == \"2016\"]\n",
    "dfstoryFOX=dfstory.loc[dfstory['PUBLISHER'] == \"fox\"]\n",
    "dfstoryCNN=dfstory.loc[dfstory['PUBLISHER'] == \"cnn\"]"
   ]
  },
  {
   "cell_type": "code",
   "execution_count": 21,
   "metadata": {},
   "outputs": [],
   "source": [
    "#unit of analysis is tweet\n",
    "dftweet=df[['STORYNUMBER', 'CODER', 'YEAR', 'PUBLICATIONDATE', 'URL', 'PUBLISHER', \"PUBLISHERYEAR\",\n",
    "       'NUMBEROFTWEETSBYCANDIDATES', 'NUMBEROFTWEETSFROMOTHERS', 'TWEETBY',\n",
    "       'TWEETPRESENTATION', 'TWEETGENERICFRAMESDOMINANT',\n",
    "       'TWEETGENERICFRAMESSECONDARY', 'TWEETEMOTIONALFRAMES',\n",
    "       'TWEETCONTAINSFALSESTATEMENT', 'TWEETCLAIMSSOMETHINGELSEISFALSE',\n",
    "       'TWEETTOPIC', 'TWEETROLETOTHESTORY', 'STORYROLETOTWEET']]\n",
    "DVtweet=['NUMBEROFTWEETSBYCANDIDATES', 'NUMBEROFTWEETSFROMOTHERS', 'TWEETBY',\n",
    "       'TWEETPRESENTATION', 'TWEETGENERICFRAMESDOMINANT',\n",
    "       'TWEETGENERICFRAMESSECONDARY', 'TWEETEMOTIONALFRAMES',\n",
    "       'TWEETCONTAINSFALSESTATEMENT', 'TWEETCLAIMSSOMETHINGELSEISFALSE',\n",
    "       'TWEETTOPIC', 'TWEETROLETOTHESTORY', 'STORYROLETOTWEET']\n",
    "dftweet\n",
    "dftweet2020=dftweet.loc[dftweet['YEAR'] == \"2020\"]\n",
    "dftweet2016=dftweet.loc[dftweet['YEAR'] == \"2016\"]\n",
    "dftweetFOX=dftweet.loc[dftweet['PUBLISHER'] == \"fox\"]\n",
    "dftweetCNN=dftweet.loc[dftweet['PUBLISHER'] == \"cnn\"]"
   ]
  },
  {
   "cell_type": "code",
   "execution_count": 22,
   "metadata": {},
   "outputs": [],
   "source": [
    "pyreadstat.write_sav(df, \"df.sav\")\n",
    "pyreadstat.write_sav(dfstory, \"dfstory.sav\")\n",
    "pyreadstat.write_sav(dftweet, \"dftweet.sav\")\n",
    "pyreadstat.write_sav(dfstoryFOX, \"dfstoryFOX.sav\")\n",
    "pyreadstat.write_sav(dfstoryCNN, \"dfstoryCNN.sav\")\n",
    "pyreadstat.write_sav(dftweetFOX, \"dftweetFOX.sav\")\n",
    "pyreadstat.write_sav(dftweetCNN, \"dftweetCNN.sav\")\n",
    "pyreadstat.write_sav(dfstory2020, \"dfstory2020.sav\")\n",
    "pyreadstat.write_sav(dftweet2020, \"dftweet2020.sav\")\n"
   ]
  },
  {
   "cell_type": "code",
   "execution_count": 23,
   "metadata": {},
   "outputs": [],
   "source": [
    "\n",
    "dfx=pd.crosstab(dfstory2020.STORYFACTCHECKSTWEET, dfstory2020.PUBLISHER, margins=False)"
   ]
  },
  {
   "cell_type": "code",
   "execution_count": 24,
   "metadata": {},
   "outputs": [
    {
     "data": {
      "text/html": [
       "<div>\n",
       "<style scoped>\n",
       "    .dataframe tbody tr th:only-of-type {\n",
       "        vertical-align: middle;\n",
       "    }\n",
       "\n",
       "    .dataframe tbody tr th {\n",
       "        vertical-align: top;\n",
       "    }\n",
       "\n",
       "    .dataframe thead th {\n",
       "        text-align: right;\n",
       "    }\n",
       "</style>\n",
       "<table border=\"1\" class=\"dataframe\">\n",
       "  <thead>\n",
       "    <tr style=\"text-align: right;\">\n",
       "      <th>PUBLISHER</th>\n",
       "      <th>cnn</th>\n",
       "      <th>fox</th>\n",
       "    </tr>\n",
       "    <tr>\n",
       "      <th>STORYFACTCHECKSTWEET</th>\n",
       "      <th></th>\n",
       "      <th></th>\n",
       "    </tr>\n",
       "  </thead>\n",
       "  <tbody>\n",
       "    <tr>\n",
       "      <th>no</th>\n",
       "      <td>80</td>\n",
       "      <td>68</td>\n",
       "    </tr>\n",
       "    <tr>\n",
       "      <th>yes</th>\n",
       "      <td>39</td>\n",
       "      <td>8</td>\n",
       "    </tr>\n",
       "  </tbody>\n",
       "</table>\n",
       "</div>"
      ],
      "text/plain": [
       "PUBLISHER             cnn  fox\n",
       "STORYFACTCHECKSTWEET          \n",
       "no                     80   68\n",
       "yes                    39    8"
      ]
     },
     "execution_count": 24,
     "metadata": {},
     "output_type": "execute_result"
    }
   ],
   "source": [
    "dfx"
   ]
  },
  {
   "cell_type": "code",
   "execution_count": 25,
   "metadata": {},
   "outputs": [
    {
     "ename": "ValueError",
     "evalue": "For each axis slice, the sum of the observed frequencies must agree with the sum of the expected frequencies to a relative tolerance of 1e-08, but the percent differences are:\n0.5657894736842105",
     "output_type": "error",
     "traceback": [
      "\u001b[0;31m---------------------------------------------------------------------------\u001b[0m",
      "\u001b[0;31mValueError\u001b[0m                                Traceback (most recent call last)",
      "\u001b[0;32m/var/folders/p9/s35_kx491l3f1qcxx11y7p280000gn/T/ipykernel_8770/2467565595.py\u001b[0m in \u001b[0;36m?\u001b[0;34m()\u001b[0m\n\u001b[0;32m----> 1\u001b[0;31m \u001b[0mchisquare\u001b[0m\u001b[0;34m(\u001b[0m\u001b[0mf_obs\u001b[0m\u001b[0;34m=\u001b[0m\u001b[0mdfx\u001b[0m\u001b[0;34m.\u001b[0m\u001b[0mcnn\u001b[0m\u001b[0;34m,\u001b[0m \u001b[0mf_exp\u001b[0m\u001b[0;34m=\u001b[0m\u001b[0mdfx\u001b[0m\u001b[0;34m.\u001b[0m\u001b[0mfox\u001b[0m\u001b[0;34m)\u001b[0m\u001b[0;34m\u001b[0m\u001b[0;34m\u001b[0m\u001b[0m\n\u001b[0m",
      "\u001b[0;32m~/anaconda3/envs/mystats/lib/python3.11/site-packages/scipy/stats/_stats_py.py\u001b[0m in \u001b[0;36m?\u001b[0;34m(f_obs, f_exp, ddof, axis)\u001b[0m\n\u001b[1;32m   8250\u001b[0m     ...           axis=1)\n\u001b[1;32m   8251\u001b[0m     \u001b[0mPower_divergenceResult\u001b[0m\u001b[0;34m(\u001b[0m\u001b[0mstatistic\u001b[0m\u001b[0;34m=\u001b[0m\u001b[0marray\u001b[0m\u001b[0;34m(\u001b[0m\u001b[0;34m[\u001b[0m\u001b[0;36m3.5\u001b[0m \u001b[0;34m,\u001b[0m \u001b[0;36m9.25\u001b[0m\u001b[0;34m]\u001b[0m\u001b[0;34m)\u001b[0m\u001b[0;34m,\u001b[0m \u001b[0mpvalue\u001b[0m\u001b[0;34m=\u001b[0m\u001b[0marray\u001b[0m\u001b[0;34m(\u001b[0m\u001b[0;34m[\u001b[0m\u001b[0;36m0.62338763\u001b[0m\u001b[0;34m,\u001b[0m \u001b[0;36m0.09949846\u001b[0m\u001b[0;34m]\u001b[0m\u001b[0;34m)\u001b[0m\u001b[0;34m)\u001b[0m\u001b[0;34m\u001b[0m\u001b[0;34m\u001b[0m\u001b[0m\n\u001b[1;32m   8252\u001b[0m \u001b[0;34m\u001b[0m\u001b[0m\n\u001b[1;32m   8253\u001b[0m     \"\"\"  # noqa\n\u001b[0;32m-> 8254\u001b[0;31m     return power_divergence(f_obs, f_exp=f_exp, ddof=ddof, axis=axis,\n\u001b[0m\u001b[1;32m   8255\u001b[0m                             lambda_=\"pearson\")\n",
      "\u001b[0;32m~/anaconda3/envs/mystats/lib/python3.11/site-packages/scipy/stats/_stats_py.py\u001b[0m in \u001b[0;36m?\u001b[0;34m(f_obs, f_exp, ddof, axis, lambda_)\u001b[0m\n\u001b[1;32m   8047\u001b[0m                    \u001b[0;34mf\"frequencies must agree with the sum of the \"\u001b[0m\u001b[0;34m\u001b[0m\u001b[0;34m\u001b[0m\u001b[0m\n\u001b[1;32m   8048\u001b[0m                    \u001b[0;34mf\"expected frequencies to a relative tolerance \"\u001b[0m\u001b[0;34m\u001b[0m\u001b[0;34m\u001b[0m\u001b[0m\n\u001b[1;32m   8049\u001b[0m                    \u001b[0;34mf\"of {rtol}, but the percent differences are:\\n\"\u001b[0m\u001b[0;34m\u001b[0m\u001b[0;34m\u001b[0m\u001b[0m\n\u001b[1;32m   8050\u001b[0m                    f\"{relative_diff}\")\n\u001b[0;32m-> 8051\u001b[0;31m             \u001b[0;32mraise\u001b[0m \u001b[0mValueError\u001b[0m\u001b[0;34m(\u001b[0m\u001b[0mmsg\u001b[0m\u001b[0;34m)\u001b[0m\u001b[0;34m\u001b[0m\u001b[0;34m\u001b[0m\u001b[0m\n\u001b[0m\u001b[1;32m   8052\u001b[0m \u001b[0;34m\u001b[0m\u001b[0m\n\u001b[1;32m   8053\u001b[0m     \u001b[0;32melse\u001b[0m\u001b[0;34m:\u001b[0m\u001b[0;34m\u001b[0m\u001b[0;34m\u001b[0m\u001b[0m\n\u001b[1;32m   8054\u001b[0m         \u001b[0;31m# Ignore 'invalid' errors so the edge case of a data set with length 0\u001b[0m\u001b[0;34m\u001b[0m\u001b[0;34m\u001b[0m\u001b[0m\n",
      "\u001b[0;31mValueError\u001b[0m: For each axis slice, the sum of the observed frequencies must agree with the sum of the expected frequencies to a relative tolerance of 1e-08, but the percent differences are:\n0.5657894736842105"
     ]
    }
   ],
   "source": [
    "chisquare(f_obs=dfx.cnn, f_exp=dfx.fox)"
   ]
  },
  {
   "cell_type": "code",
   "execution_count": null,
   "metadata": {},
   "outputs": [],
   "source": []
  }
 ],
 "metadata": {
  "kernelspec": {
   "display_name": "base",
   "language": "python",
   "name": "python3"
  },
  "language_info": {
   "codemirror_mode": {
    "name": "ipython",
    "version": 3
   },
   "file_extension": ".py",
   "mimetype": "text/x-python",
   "name": "python",
   "nbconvert_exporter": "python",
   "pygments_lexer": "ipython3",
   "version": "3.11.3"
  },
  "orig_nbformat": 4
 },
 "nbformat": 4,
 "nbformat_minor": 2
}
