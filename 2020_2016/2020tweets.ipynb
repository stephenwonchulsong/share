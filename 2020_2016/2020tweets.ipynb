{
 "cells": [
  {
   "cell_type": "code",
   "execution_count": 1,
   "metadata": {},
   "outputs": [],
   "source": [
    " #using mystats env\n",
    "import pandas as pd\n",
    "import pingouin as pg\n",
    "import association_metrics as am\n",
    "from scipy.stats import chisquare\n",
    "import pyreadstat"
   ]
  },
  {
   "cell_type": "code",
   "execution_count": 2,
   "metadata": {},
   "outputs": [
    {
     "data": {
      "text/plain": [
       "Index(['STORYNUMBER', 'CODER', 'YEAR', 'PUBLICATIONDATE', 'URL', 'PUBLISHER',\n",
       "       'STORYTYPE', 'STORYTOPIC', 'STORYGENERICFRAMESDOMINANT',\n",
       "       'STORYGENERICFRAMESSECONDARY', 'STORYEMOTIONALFRAMES',\n",
       "       'STORYCONTAINSFALSESTATEMENT', 'STORYCLAIMSANOTHERSOURCEISFALSE',\n",
       "       'STORYFACTCHECKSTWEET', 'SENSATIONALISM', 'src_expert', 'src_opponent',\n",
       "       'src_otherpolitician', 'src_privatecitizen', 'src_media', 'src_other',\n",
       "       'NUMBEROFTWEETSBYCANDIDATES', 'NUMBEROFTWEETSFROMOTHERS', 'TWEETBY',\n",
       "       'TWEETPRESENTATION', 'TWEETGENERICFRAMESDOMINANT',\n",
       "       'TWEETGENERICFRAMESSECONDARY', 'TWEETEMOTIONALFRAMES',\n",
       "       'TWEETCONTAINSFALSESTATEMENT', 'TWEETCLAIMSSOMETHINGELSEISFALSE',\n",
       "       'TWEETTOPIC', 'TWEETROLETOTHESTORY', 'STORYROLETOTWEET', 'filter_$',\n",
       "       'SRC_TOTAL'],\n",
       "      dtype='object')"
      ]
     },
     "execution_count": 2,
     "metadata": {},
     "output_type": "execute_result"
    }
   ],
   "source": [
    "#open file\n",
    "df=pd.read_spss(\"2020_2016_cnn_fox_tweets_coverage.sav\")\n",
    "#check column names\n",
    "df.columns"
   ]
  },
  {
   "cell_type": "code",
   "execution_count": 3,
   "metadata": {},
   "outputs": [],
   "source": [
    "#create a new column with the publisher and year\n",
    "df[\"PUBLISHERYEAR\"]=df.PUBLISHER.astype(str)+df.YEAR.astype(str)\n",
    "df.to_csv(\"2020_2016_cnn_fox_tweets_coverage.csv\")"
   ]
  },
  {
   "cell_type": "code",
   "execution_count": 4,
   "metadata": {},
   "outputs": [
    {
     "name": "stderr",
     "output_type": "stream",
     "text": [
      "/var/folders/p9/s35_kx491l3f1qcxx11y7p280000gn/T/ipykernel_41325/4248754915.py:9: SettingWithCopyWarning: \n",
      "A value is trying to be set on a copy of a slice from a DataFrame\n",
      "\n",
      "See the caveats in the documentation: https://pandas.pydata.org/pandas-docs/stable/user_guide/indexing.html#returning-a-view-versus-a-copy\n",
      "  dfstory.drop_duplicates(subset=['STORYNUMBER'], keep='first', inplace=True)\n"
     ]
    }
   ],
   "source": [
    "#unit of analysis is story\n",
    "dfstory=df[['STORYNUMBER', 'CODER', 'YEAR', 'PUBLICATIONDATE', 'URL', 'PUBLISHER', \"PUBLISHERYEAR\",\n",
    "       'STORYTYPE', 'STORYTOPIC', 'STORYGENERICFRAMESDOMINANT',\n",
    "       'STORYGENERICFRAMESSECONDARY', 'STORYEMOTIONALFRAMES',\n",
    "       'STORYCONTAINSFALSESTATEMENT', 'STORYCLAIMSANOTHERSOURCEISFALSE',\n",
    "       'STORYFACTCHECKSTWEET', 'SENSATIONALISM', 'src_expert', 'src_opponent',\n",
    "       'src_otherpolitician', 'src_privatecitizen', 'src_media', 'src_other']]\n",
    "#remove duplicates\n",
    "dfstory.drop_duplicates(subset=['STORYNUMBER'], keep='first', inplace=True)\n",
    "dfstory\n",
    "#dv list for stories\n",
    "DVstory=['STORYTYPE', 'STORYTOPIC', 'STORYGENERICFRAMESDOMINANT',\n",
    "       'STORYGENERICFRAMESSECONDARY', 'STORYEMOTIONALFRAMES',\n",
    "       'STORYCONTAINSFALSESTATEMENT', 'STORYCLAIMSANOTHERSOURCEISFALSE',\n",
    "       'STORYFACTCHECKSTWEET', 'SENSATIONALISM', 'src_expert', 'src_opponent',\n",
    "       'src_otherpolitician', 'src_privatecitizen', 'src_media', 'src_other']\n",
    "dfstory\n",
    "dfstory2020=dfstory.loc[dfstory['YEAR'] == \"2020\"]\n",
    "dfstory2016=dfstory.loc[dfstory['YEAR'] == \"2016\"]\n",
    "dfstoryFOX=dfstory.loc[dfstory['PUBLISHER'] == \"fox\"]\n",
    "dfstoryCNN=dfstory.loc[dfstory['PUBLISHER'] == \"cnn\"]"
   ]
  },
  {
   "cell_type": "code",
   "execution_count": 5,
   "metadata": {},
   "outputs": [],
   "source": [
    "#unit of analysis is tweet\n",
    "dftweet=df[['STORYNUMBER', 'CODER', 'YEAR', 'PUBLICATIONDATE', 'URL', 'PUBLISHER', \"PUBLISHERYEAR\",\n",
    "       'NUMBEROFTWEETSBYCANDIDATES', 'NUMBEROFTWEETSFROMOTHERS', 'TWEETBY',\n",
    "       'TWEETPRESENTATION', 'TWEETGENERICFRAMESDOMINANT',\n",
    "       'TWEETGENERICFRAMESSECONDARY', 'TWEETEMOTIONALFRAMES',\n",
    "       'TWEETCONTAINSFALSESTATEMENT', 'TWEETCLAIMSSOMETHINGELSEISFALSE',\n",
    "       'TWEETTOPIC', 'TWEETROLETOTHESTORY', 'STORYROLETOTWEET']]\n",
    "DVtweet=['NUMBEROFTWEETSBYCANDIDATES', 'NUMBEROFTWEETSFROMOTHERS', 'TWEETBY',\n",
    "       'TWEETPRESENTATION', 'TWEETGENERICFRAMESDOMINANT',\n",
    "       'TWEETGENERICFRAMESSECONDARY', 'TWEETEMOTIONALFRAMES',\n",
    "       'TWEETCONTAINSFALSESTATEMENT', 'TWEETCLAIMSSOMETHINGELSEISFALSE',\n",
    "       'TWEETTOPIC', 'TWEETROLETOTHESTORY', 'STORYROLETOTWEET']\n",
    "dftweet\n",
    "dftweet2020=dftweet.loc[dftweet['YEAR'] == \"2020\"]\n",
    "dftweet2016=dftweet.loc[dftweet['YEAR'] == \"2016\"]\n",
    "dftweetFOX=dftweet.loc[dftweet['PUBLISHER'] == \"fox\"]\n",
    "dftweetCNN=dftweet.loc[dftweet['PUBLISHER'] == \"cnn\"]"
   ]
  },
  {
   "cell_type": "code",
   "execution_count": 6,
   "metadata": {},
   "outputs": [],
   "source": [
    "pyreadstat.write_sav(df, \"df.sav\")\n",
    "pyreadstat.write_sav(dfstory, \"dfstory.sav\")\n",
    "pyreadstat.write_sav(dftweet, \"dftweet.sav\")\n",
    "pyreadstat.write_sav(dfstoryFOX, \"dfstoryFOX.sav\")\n",
    "pyreadstat.write_sav(dfstoryCNN, \"dfstoryCNN.sav\")\n",
    "pyreadstat.write_sav(dftweetFOX, \"dftweetFOX.sav\")\n",
    "pyreadstat.write_sav(dftweetCNN, \"dftweetCNN.sav\")\n",
    "pyreadstat.write_sav(dfstory2020, \"dfstory2020.sav\")\n",
    "pyreadstat.write_sav(dftweet2020, \"dftweet2020.sav\")\n",
    "pyreadstat.write_sav(dfstory2016, \"dfstory2016.sav\")\n",
    "pyreadstat.write_sav(dftweet2016, \"dftweet2016.sav\")\n",
    "\n"
   ]
  },
  {
   "cell_type": "code",
   "execution_count": 7,
   "metadata": {},
   "outputs": [],
   "source": [
    "\n",
    "dfx=pd.crosstab(dfstory2020.STORYFACTCHECKSTWEET, dfstory2020.PUBLISHER, margins=False)"
   ]
  },
  {
   "cell_type": "code",
   "execution_count": 8,
   "metadata": {},
   "outputs": [
    {
     "data": {
      "text/html": [
       "<div>\n",
       "<style scoped>\n",
       "    .dataframe tbody tr th:only-of-type {\n",
       "        vertical-align: middle;\n",
       "    }\n",
       "\n",
       "    .dataframe tbody tr th {\n",
       "        vertical-align: top;\n",
       "    }\n",
       "\n",
       "    .dataframe thead th {\n",
       "        text-align: right;\n",
       "    }\n",
       "</style>\n",
       "<table border=\"1\" class=\"dataframe\">\n",
       "  <thead>\n",
       "    <tr style=\"text-align: right;\">\n",
       "      <th>PUBLISHER</th>\n",
       "      <th>cnn</th>\n",
       "      <th>fox</th>\n",
       "    </tr>\n",
       "    <tr>\n",
       "      <th>STORYFACTCHECKSTWEET</th>\n",
       "      <th></th>\n",
       "      <th></th>\n",
       "    </tr>\n",
       "  </thead>\n",
       "  <tbody>\n",
       "    <tr>\n",
       "      <th>no</th>\n",
       "      <td>80</td>\n",
       "      <td>68</td>\n",
       "    </tr>\n",
       "    <tr>\n",
       "      <th>yes</th>\n",
       "      <td>39</td>\n",
       "      <td>8</td>\n",
       "    </tr>\n",
       "  </tbody>\n",
       "</table>\n",
       "</div>"
      ],
      "text/plain": [
       "PUBLISHER             cnn  fox\n",
       "STORYFACTCHECKSTWEET          \n",
       "no                     80   68\n",
       "yes                    39    8"
      ]
     },
     "execution_count": 8,
     "metadata": {},
     "output_type": "execute_result"
    }
   ],
   "source": [
    "dfx"
   ]
  },
  {
   "cell_type": "code",
   "execution_count": 9,
   "metadata": {},
   "outputs": [],
   "source": [
    "# chisquare(f_obs=dfx.cnn, f_exp=dfx.fox)"
   ]
  },
  {
   "cell_type": "code",
   "execution_count": null,
   "metadata": {},
   "outputs": [],
   "source": []
  }
 ],
 "metadata": {
  "kernelspec": {
   "display_name": "base",
   "language": "python",
   "name": "python3"
  },
  "language_info": {
   "codemirror_mode": {
    "name": "ipython",
    "version": 3
   },
   "file_extension": ".py",
   "mimetype": "text/x-python",
   "name": "python",
   "nbconvert_exporter": "python",
   "pygments_lexer": "ipython3",
   "version": "3.11.3"
  },
  "orig_nbformat": 4
 },
 "nbformat": 4,
 "nbformat_minor": 2
}
