{
 "cells": [
  {
   "cell_type": "code",
   "execution_count": 148,
   "metadata": {},
   "outputs": [],
   "source": [
    " #using mystats env\n",
    "import pandas as pd\n",
    "import pingouin as pg\n",
    "import association_metrics as am\n",
    "from scipy.stats import chisquare\n",
    "import pyreadstat\n",
    "import statsmodels.api as sm"
   ]
  },
  {
   "cell_type": "code",
   "execution_count": 149,
   "metadata": {},
   "outputs": [
    {
     "data": {
      "text/plain": [
       "Index(['STORYNUMBER', 'CODER', 'YEAR', 'PUBLICATIONDATE', 'URL', 'PUBLISHER',\n",
       "       'STORYTYPE', 'STORYTOPIC', 'STORYGENERICFRAMESDOMINANT',\n",
       "       'STORYGENERICFRAMESSECONDARY', 'STORYEMOTIONALFRAMES',\n",
       "       'STORYCONTAINSFALSESTATEMENT', 'STORYCLAIMSANOTHERSOURCEISFALSE',\n",
       "       'STORYFACTCHECKSTWEET', 'SENSATIONALISM', 'src_expert', 'src_opponent',\n",
       "       'src_otherpolitician', 'src_privatecitizen', 'src_media', 'src_other',\n",
       "       'NUMBEROFTWEETSBYCANDIDATES', 'NUMBEROFTWEETSFROMOTHERS', 'TWEETBY',\n",
       "       'TWEETPRESENTATION', 'TWEETGENERICFRAMESDOMINANT',\n",
       "       'TWEETGENERICFRAMESSECONDARY', 'TWEETEMOTIONALFRAMES',\n",
       "       'TWEETCONTAINSFALSESTATEMENT', 'TWEETCLAIMSSOMETHINGELSEISFALSE',\n",
       "       'TWEETTOPIC', 'TWEETROLETOTHESTORY', 'STORYROLETOTWEET', 'filter_$',\n",
       "       'SRC_TOTAL'],\n",
       "      dtype='object')"
      ]
     },
     "execution_count": 149,
     "metadata": {},
     "output_type": "execute_result"
    }
   ],
   "source": [
    "#open file\n",
    "df=pd.read_spss(\"2020_2016_cnn_fox_tweets_coverage.sav\")\n",
    "#check column names\n",
    "df.columns"
   ]
  },
  {
   "cell_type": "code",
   "execution_count": null,
   "metadata": {},
   "outputs": [],
   "source": []
  },
  {
   "cell_type": "code",
   "execution_count": 150,
   "metadata": {},
   "outputs": [],
   "source": [
    "#create a new column with the publisher and year\n",
    "df[\"PUBLISHERYEAR\"]=df.PUBLISHER.astype(str)+df.YEAR.astype(str)\n",
    "df.to_csv(\"2020_2016_cnn_fox_tweets_coverage.csv\")"
   ]
  },
  {
   "cell_type": "code",
   "execution_count": 151,
   "metadata": {},
   "outputs": [
    {
     "name": "stderr",
     "output_type": "stream",
     "text": [
      "/var/folders/p9/s35_kx491l3f1qcxx11y7p280000gn/T/ipykernel_26346/4189622138.py:9: SettingWithCopyWarning: \n",
      "A value is trying to be set on a copy of a slice from a DataFrame\n",
      "\n",
      "See the caveats in the documentation: https://pandas.pydata.org/pandas-docs/stable/user_guide/indexing.html#returning-a-view-versus-a-copy\n",
      "  dfstory.drop_duplicates(subset=['STORYNUMBER'], keep='first', inplace=True)\n"
     ]
    }
   ],
   "source": [
    "#unit of analysis is story\n",
    "dfstory=df[['STORYNUMBER', 'CODER', 'YEAR', 'PUBLICATIONDATE', 'URL', 'PUBLISHER', \"PUBLISHERYEAR\",\n",
    "       'STORYTYPE', 'STORYTOPIC', 'STORYGENERICFRAMESDOMINANT',\n",
    "       'STORYGENERICFRAMESSECONDARY', 'STORYEMOTIONALFRAMES',\n",
    "       'STORYCONTAINSFALSESTATEMENT', 'STORYCLAIMSANOTHERSOURCEISFALSE',\n",
    "       'STORYFACTCHECKSTWEET', 'SENSATIONALISM', 'src_expert', 'src_opponent',\n",
    "       'src_otherpolitician', 'src_privatecitizen', 'src_media', 'src_other']]\n",
    "#remove duplicates\n",
    "dfstory.drop_duplicates(subset=['STORYNUMBER'], keep='first', inplace=True)\n",
    "#dv list for stories\n",
    "DVstory=['STORYTYPE', 'STORYTOPIC', 'STORYGENERICFRAMESDOMINANT',\n",
    "       'STORYGENERICFRAMESSECONDARY', 'STORYEMOTIONALFRAMES',\n",
    "       'STORYCONTAINSFALSESTATEMENT', 'STORYCLAIMSANOTHERSOURCEISFALSE',\n",
    "       'STORYFACTCHECKSTWEET', 'SENSATIONALISM', 'src_expert', 'src_opponent',\n",
    "       'src_otherpolitician', 'src_privatecitizen', 'src_media', 'src_other']\n",
    "dfstory\n",
    "dfstory2020=dfstory.loc[dfstory['YEAR'] == \"2020\"]\n",
    "dfstory2016=dfstory.loc[dfstory['YEAR'] == \"2016\"]\n",
    "dfstoryFOX=dfstory.loc[dfstory['PUBLISHER'] == \"fox\"]\n",
    "dfstoryCNN=dfstory.loc[dfstory['PUBLISHER'] == \"cnn\"]"
   ]
  },
  {
   "cell_type": "code",
   "execution_count": 152,
   "metadata": {},
   "outputs": [],
   "source": [
    "#unit of analysis is tweet\n",
    "dftweet=df[['STORYNUMBER', 'CODER', 'YEAR', 'PUBLICATIONDATE', 'URL', 'PUBLISHER', \"PUBLISHERYEAR\",\n",
    "       'NUMBEROFTWEETSBYCANDIDATES', 'NUMBEROFTWEETSFROMOTHERS', 'TWEETBY',\n",
    "       'TWEETPRESENTATION', 'TWEETGENERICFRAMESDOMINANT',\n",
    "       'TWEETGENERICFRAMESSECONDARY', 'TWEETEMOTIONALFRAMES',\n",
    "       'TWEETCONTAINSFALSESTATEMENT', 'TWEETCLAIMSSOMETHINGELSEISFALSE',\n",
    "       'TWEETTOPIC', 'TWEETROLETOTHESTORY', 'STORYROLETOTWEET']]\n",
    "DVtweet=['NUMBEROFTWEETSBYCANDIDATES', 'NUMBEROFTWEETSFROMOTHERS', 'TWEETBY',\n",
    "       'TWEETPRESENTATION', 'TWEETGENERICFRAMESDOMINANT',\n",
    "       'TWEETGENERICFRAMESSECONDARY', 'TWEETEMOTIONALFRAMES',\n",
    "       'TWEETCONTAINSFALSESTATEMENT', 'TWEETCLAIMSSOMETHINGELSEISFALSE',\n",
    "       'TWEETTOPIC', 'TWEETROLETOTHESTORY', 'STORYROLETOTWEET']\n",
    "dftweet\n",
    "dftweet2020=dftweet.loc[dftweet['YEAR'] == \"2020\"]\n",
    "dftweet2016=dftweet.loc[dftweet['YEAR'] == \"2016\"]\n",
    "dftweetFOX=dftweet.loc[dftweet['PUBLISHER'] == \"fox\"]\n",
    "dftweetCNN=dftweet.loc[dftweet['PUBLISHER'] == \"cnn\"]\n",
    "dftweetFOX2016=dftweetFOX.loc[dftweetFOX['YEAR'] == \"2016\"]\n",
    "dftweetCNN2016=dftweetCNN.loc[dftweetCNN['YEAR'] == \"2016\"]\n",
    "dftweetFOX2020=dftweetFOX.loc[dftweetFOX['YEAR'] == \"2020\"]\n",
    "dftweetCNN2020=dftweetCNN.loc[dftweetCNN['YEAR'] == \"2020\"]"
   ]
  },
  {
   "cell_type": "code",
   "execution_count": 153,
   "metadata": {},
   "outputs": [],
   "source": [
    "df2016=df.loc[df['YEAR'] == \"2016\"]\n",
    "dfFOX2016=df2016.loc[df2016['PUBLISHER'] == \"fox\"]\n",
    "dfCNN2016=df2016.loc[df2016['PUBLISHER'] == \"cnn\"]"
   ]
  },
  {
   "cell_type": "code",
   "execution_count": 154,
   "metadata": {},
   "outputs": [],
   "source": [
    "pyreadstat.write_sav(df, \"df.sav\")\n",
    "pyreadstat.write_sav(dfstory, \"dfstory.sav\")\n",
    "pyreadstat.write_sav(dftweet, \"dftweet.sav\")\n",
    "pyreadstat.write_sav(dfstoryFOX, \"dfstoryFOX.sav\")\n",
    "pyreadstat.write_sav(dfstoryCNN, \"dfstoryCNN.sav\")\n",
    "pyreadstat.write_sav(dftweetFOX, \"dftweetFOX.sav\")\n",
    "pyreadstat.write_sav(dftweetCNN, \"dftweetCNN.sav\")\n",
    "pyreadstat.write_sav(dfstory2020, \"dfstory2020.sav\")\n",
    "pyreadstat.write_sav(dftweet2020, \"dftweet2020.sav\")\n",
    "pyreadstat.write_sav(dfstory2016, \"dfstory2016.sav\")\n",
    "pyreadstat.write_sav(dftweet2016, \"dftweet2016.sav\")\n",
    "pyreadstat.write_sav(dftweetFOX2016, \"dftweetFOX2016.sav\")\n",
    "pyreadstat.write_sav(dftweetCNN2016, \"dftweetCNN2016.sav\")\n",
    "pyreadstat.write_sav(dfFOX2016, \"dfFOX2016.sav\")\n",
    "pyreadstat.write_sav(dfCNN2016, \"dfCNN2016.sav\")\n"
   ]
  },
  {
   "cell_type": "code",
   "execution_count": 155,
   "metadata": {},
   "outputs": [],
   "source": [
    "dfx=pd.crosstab(dfstory2020.STORYFACTCHECKSTWEET, dfstory2020.PUBLISHER, margins=False)"
   ]
  },
  {
   "cell_type": "code",
   "execution_count": 156,
   "metadata": {},
   "outputs": [
    {
     "data": {
      "text/html": [
       "<div>\n",
       "<style scoped>\n",
       "    .dataframe tbody tr th:only-of-type {\n",
       "        vertical-align: middle;\n",
       "    }\n",
       "\n",
       "    .dataframe tbody tr th {\n",
       "        vertical-align: top;\n",
       "    }\n",
       "\n",
       "    .dataframe thead th {\n",
       "        text-align: right;\n",
       "    }\n",
       "</style>\n",
       "<table border=\"1\" class=\"dataframe\">\n",
       "  <thead>\n",
       "    <tr style=\"text-align: right;\">\n",
       "      <th>PUBLISHER</th>\n",
       "      <th>cnn</th>\n",
       "      <th>fox</th>\n",
       "    </tr>\n",
       "    <tr>\n",
       "      <th>STORYFACTCHECKSTWEET</th>\n",
       "      <th></th>\n",
       "      <th></th>\n",
       "    </tr>\n",
       "  </thead>\n",
       "  <tbody>\n",
       "    <tr>\n",
       "      <th>no</th>\n",
       "      <td>80</td>\n",
       "      <td>68</td>\n",
       "    </tr>\n",
       "    <tr>\n",
       "      <th>yes</th>\n",
       "      <td>39</td>\n",
       "      <td>8</td>\n",
       "    </tr>\n",
       "  </tbody>\n",
       "</table>\n",
       "</div>"
      ],
      "text/plain": [
       "PUBLISHER             cnn  fox\n",
       "STORYFACTCHECKSTWEET          \n",
       "no                     80   68\n",
       "yes                    39    8"
      ]
     },
     "execution_count": 156,
     "metadata": {},
     "output_type": "execute_result"
    }
   ],
   "source": [
    "dfx"
   ]
  },
  {
   "cell_type": "code",
   "execution_count": 157,
   "metadata": {},
   "outputs": [],
   "source": [
    "# chisquare(f_obs=dfx.cnn, f_exp=dfx.fox)\n",
    "\n",
    "# # Initialize a CamresV object using you pandas.DataFrame\n",
    "# cramersv = am.CramersV(df)\n",
    "# # will return a pairwise matrix filled with Cramer's V, where columns and index are \n",
    "# # the categorical variables of the passed pandas.DataFrame\n",
    "# cramersv.fit()"
   ]
  },
  {
   "cell_type": "code",
   "execution_count": 158,
   "metadata": {},
   "outputs": [
    {
     "name": "stdout",
     "output_type": "stream",
     "text": [
      "PUBLISHER             cnn  fox\n",
      "STORYFACTCHECKSTWEET          \n",
      "no                     80   68\n",
      "yes                    39    8\n",
      "p = 0.0\n",
      "very significant\n"
     ]
    }
   ],
   "source": [
    "#creating a contingency table for x2\n",
    "data = dfstory2020[[\"STORYFACTCHECKSTWEET\", \"PUBLISHER\"]]\n",
    "table = sm.stats.Table.from_data(data)\n",
    "print(table.table_orig)\n",
    "#calculating the p value\n",
    "rslt = table.test_nominal_association()\n",
    "print('p = ' + rslt.pvalue.round(3).astype(str))\n",
    "#conditional p value report\n",
    "if rslt.pvalue < 0.05 and rslt.pvalue > 0.01:\n",
    "    print(\"significant\")\n",
    "elif rslt.pvalue < 0.01:\n",
    "    print(\"very significant\")\n",
    "else:\n",
    "    print(\"not significant\")"
   ]
  },
  {
   "cell_type": "code",
   "execution_count": 159,
   "metadata": {},
   "outputs": [
    {
     "data": {
      "text/html": [
       "<div>\n",
       "<style scoped>\n",
       "    .dataframe tbody tr th:only-of-type {\n",
       "        vertical-align: middle;\n",
       "    }\n",
       "\n",
       "    .dataframe tbody tr th {\n",
       "        vertical-align: top;\n",
       "    }\n",
       "\n",
       "    .dataframe thead th {\n",
       "        text-align: right;\n",
       "    }\n",
       "</style>\n",
       "<table border=\"1\" class=\"dataframe\">\n",
       "  <thead>\n",
       "    <tr style=\"text-align: right;\">\n",
       "      <th></th>\n",
       "      <th>T</th>\n",
       "      <th>dof</th>\n",
       "      <th>alternative</th>\n",
       "      <th>p-val</th>\n",
       "      <th>CI95%</th>\n",
       "      <th>cohen-d</th>\n",
       "      <th>BF10</th>\n",
       "      <th>power</th>\n",
       "    </tr>\n",
       "  </thead>\n",
       "  <tbody>\n",
       "    <tr>\n",
       "      <th>T-test</th>\n",
       "      <td>0.658</td>\n",
       "      <td>60.803</td>\n",
       "      <td>two-sided</td>\n",
       "      <td>0.513</td>\n",
       "      <td>[-0.55, 1.08]</td>\n",
       "      <td>0.126</td>\n",
       "      <td>0.313</td>\n",
       "      <td>0.077</td>\n",
       "    </tr>\n",
       "  </tbody>\n",
       "</table>\n",
       "</div>"
      ],
      "text/plain": [
       "            T     dof alternative  p-val          CI95%  cohen-d   BF10  power\n",
       "T-test  0.658  60.803   two-sided  0.513  [-0.55, 1.08]    0.126  0.313  0.077"
      ]
     },
     "execution_count": 159,
     "metadata": {},
     "output_type": "execute_result"
    }
   ],
   "source": [
    "pg.ttest(dftweetCNN2016.NUMBEROFTWEETSBYCANDIDATES, dftweetFOX2016.NUMBEROFTWEETSBYCANDIDATES).round(3)"
   ]
  },
  {
   "cell_type": "code",
   "execution_count": 160,
   "metadata": {},
   "outputs": [
    {
     "data": {
      "text/html": [
       "<div>\n",
       "<style scoped>\n",
       "    .dataframe tbody tr th:only-of-type {\n",
       "        vertical-align: middle;\n",
       "    }\n",
       "\n",
       "    .dataframe tbody tr th {\n",
       "        vertical-align: top;\n",
       "    }\n",
       "\n",
       "    .dataframe thead th {\n",
       "        text-align: right;\n",
       "    }\n",
       "</style>\n",
       "<table border=\"1\" class=\"dataframe\">\n",
       "  <thead>\n",
       "    <tr style=\"text-align: right;\">\n",
       "      <th></th>\n",
       "      <th>T</th>\n",
       "      <th>dof</th>\n",
       "      <th>alternative</th>\n",
       "      <th>p-val</th>\n",
       "      <th>CI95%</th>\n",
       "      <th>cohen-d</th>\n",
       "      <th>BF10</th>\n",
       "      <th>power</th>\n",
       "    </tr>\n",
       "  </thead>\n",
       "  <tbody>\n",
       "    <tr>\n",
       "      <th>T-test</th>\n",
       "      <td>2.55</td>\n",
       "      <td>65.05</td>\n",
       "      <td>two-sided</td>\n",
       "      <td>0.01</td>\n",
       "      <td>[0.16, 1.35]</td>\n",
       "      <td>0.53</td>\n",
       "      <td>3.273</td>\n",
       "      <td>0.92</td>\n",
       "    </tr>\n",
       "  </tbody>\n",
       "</table>\n",
       "</div>"
      ],
      "text/plain": [
       "           T    dof alternative  p-val         CI95%  cohen-d   BF10  power\n",
       "T-test  2.55  65.05   two-sided   0.01  [0.16, 1.35]     0.53  3.273   0.92"
      ]
     },
     "execution_count": 160,
     "metadata": {},
     "output_type": "execute_result"
    }
   ],
   "source": [
    "pg.ttest(dftweetCNN2016.NUMBEROFTWEETSBYCANDIDATES, dftweetCNN2020.NUMBEROFTWEETSBYCANDIDATES).round(2)"
   ]
  },
  {
   "cell_type": "code",
   "execution_count": 161,
   "metadata": {},
   "outputs": [
    {
     "data": {
      "text/plain": [
       "count    63.00\n",
       "mean      1.97\n",
       "std       2.33\n",
       "min       1.00\n",
       "25%       1.00\n",
       "50%       1.00\n",
       "75%       2.00\n",
       "max      15.00\n",
       "Name: NUMBEROFTWEETSBYCANDIDATES, dtype: float64"
      ]
     },
     "execution_count": 161,
     "metadata": {},
     "output_type": "execute_result"
    }
   ],
   "source": [
    "dftweetCNN2016.NUMBEROFTWEETSBYCANDIDATES.describe().round(2)"
   ]
  },
  {
   "cell_type": "code",
   "execution_count": 162,
   "metadata": {},
   "outputs": [
    {
     "data": {
      "text/plain": [
       "count    119.00\n",
       "mean       1.21\n",
       "std        0.50\n",
       "min        1.00\n",
       "25%        1.00\n",
       "50%        1.00\n",
       "75%        1.00\n",
       "max        3.00\n",
       "Name: NUMBEROFTWEETSBYCANDIDATES, dtype: float64"
      ]
     },
     "execution_count": 162,
     "metadata": {},
     "output_type": "execute_result"
    }
   ],
   "source": [
    "dftweetCNN2020.NUMBEROFTWEETSBYCANDIDATES.describe().round(2)"
   ]
  },
  {
   "cell_type": "code",
   "execution_count": 163,
   "metadata": {},
   "outputs": [
    {
     "data": {
      "text/html": [
       "<div>\n",
       "<style scoped>\n",
       "    .dataframe tbody tr th:only-of-type {\n",
       "        vertical-align: middle;\n",
       "    }\n",
       "\n",
       "    .dataframe tbody tr th {\n",
       "        vertical-align: top;\n",
       "    }\n",
       "\n",
       "    .dataframe thead th {\n",
       "        text-align: right;\n",
       "    }\n",
       "</style>\n",
       "<table border=\"1\" class=\"dataframe\">\n",
       "  <thead>\n",
       "    <tr style=\"text-align: right;\">\n",
       "      <th></th>\n",
       "      <th>T</th>\n",
       "      <th>dof</th>\n",
       "      <th>alternative</th>\n",
       "      <th>p-val</th>\n",
       "      <th>CI95%</th>\n",
       "      <th>cohen-d</th>\n",
       "      <th>BF10</th>\n",
       "      <th>power</th>\n",
       "    </tr>\n",
       "  </thead>\n",
       "  <tbody>\n",
       "    <tr>\n",
       "      <th>T-test</th>\n",
       "      <td>0.354</td>\n",
       "      <td>35.419</td>\n",
       "      <td>two-sided</td>\n",
       "      <td>0.725</td>\n",
       "      <td>[-0.56, 0.79]</td>\n",
       "      <td>0.078</td>\n",
       "      <td>0.27</td>\n",
       "      <td>0.061</td>\n",
       "    </tr>\n",
       "  </tbody>\n",
       "</table>\n",
       "</div>"
      ],
      "text/plain": [
       "            T     dof alternative  p-val          CI95%  cohen-d  BF10  power\n",
       "T-test  0.354  35.419   two-sided  0.725  [-0.56, 0.79]    0.078  0.27  0.061"
      ]
     },
     "execution_count": 163,
     "metadata": {},
     "output_type": "execute_result"
    }
   ],
   "source": [
    "pg.ttest(dftweetFOX2016.NUMBEROFTWEETSBYCANDIDATES, dftweetFOX2020.NUMBEROFTWEETSBYCANDIDATES).round(3)"
   ]
  },
  {
   "cell_type": "code",
   "execution_count": 164,
   "metadata": {},
   "outputs": [
    {
     "data": {
      "text/plain": [
       "TWEETBY\n",
       "trump     229\n",
       "biden      23\n",
       "harris      7\n",
       "pence       5\n",
       "Name: count, dtype: int64"
      ]
     },
     "execution_count": 164,
     "metadata": {},
     "output_type": "execute_result"
    }
   ],
   "source": [
    "dftweetCNN.TWEETBY.value_counts()"
   ]
  },
  {
   "cell_type": "code",
   "execution_count": 165,
   "metadata": {},
   "outputs": [
    {
     "data": {
      "text/html": [
       "<div>\n",
       "<style scoped>\n",
       "    .dataframe tbody tr th:only-of-type {\n",
       "        vertical-align: middle;\n",
       "    }\n",
       "\n",
       "    .dataframe tbody tr th {\n",
       "        vertical-align: top;\n",
       "    }\n",
       "\n",
       "    .dataframe thead th {\n",
       "        text-align: right;\n",
       "    }\n",
       "</style>\n",
       "<table border=\"1\" class=\"dataframe\">\n",
       "  <thead>\n",
       "    <tr style=\"text-align: right;\">\n",
       "      <th>YEAR</th>\n",
       "      <th>2016</th>\n",
       "      <th>2020</th>\n",
       "      <th>All</th>\n",
       "    </tr>\n",
       "    <tr>\n",
       "      <th>PUBLISHER</th>\n",
       "      <th></th>\n",
       "      <th></th>\n",
       "      <th></th>\n",
       "    </tr>\n",
       "  </thead>\n",
       "  <tbody>\n",
       "    <tr>\n",
       "      <th>cnn</th>\n",
       "      <td>64</td>\n",
       "      <td>121</td>\n",
       "      <td>185</td>\n",
       "    </tr>\n",
       "    <tr>\n",
       "      <th>fox</th>\n",
       "      <td>19</td>\n",
       "      <td>76</td>\n",
       "      <td>95</td>\n",
       "    </tr>\n",
       "    <tr>\n",
       "      <th>All</th>\n",
       "      <td>83</td>\n",
       "      <td>197</td>\n",
       "      <td>280</td>\n",
       "    </tr>\n",
       "  </tbody>\n",
       "</table>\n",
       "</div>"
      ],
      "text/plain": [
       "YEAR       2016  2020  All\n",
       "PUBLISHER                 \n",
       "cnn          64   121  185\n",
       "fox          19    76   95\n",
       "All          83   197  280"
      ]
     },
     "execution_count": 165,
     "metadata": {},
     "output_type": "execute_result"
    }
   ],
   "source": [
    "pd.crosstab(dfstory.PUBLISHER, dfstory.YEAR, margins=True)"
   ]
  },
  {
   "cell_type": "code",
   "execution_count": 166,
   "metadata": {},
   "outputs": [],
   "source": [
    "pd.crosstab(dfstory.PUBLISHER, dfstory.YEAR, margins=True).to_csv(\"table1.csv\")\n",
    "pd.crosstab(dftweet.PUBLISHER, dftweet.YEAR, margins=True).to_csv(\"table2.csv\")"
   ]
  },
  {
   "cell_type": "code",
   "execution_count": 167,
   "metadata": {},
   "outputs": [],
   "source": [
    "# pd.crosstab(dfstory2016.STORYFACTCHECKSTWEET, dfstory2016.PUBLISHER, normalize='columns').round(2)*100"
   ]
  },
  {
   "cell_type": "code",
   "execution_count": 168,
   "metadata": {},
   "outputs": [],
   "source": [
    "# pd.crosstab(dfstoryCNN.STORYTYPE, dfstoryCNN.YEAR, normalize='columns').round(2)*100"
   ]
  },
  {
   "cell_type": "code",
   "execution_count": 169,
   "metadata": {},
   "outputs": [],
   "source": [
    "# pd.crosstab(dfstoryCNN.STORYTOPIC, dfstoryCNN.YEAR, normalize='columns').round(2)*100"
   ]
  },
  {
   "cell_type": "code",
   "execution_count": 170,
   "metadata": {},
   "outputs": [
    {
     "data": {
      "text/html": [
       "<div>\n",
       "<style scoped>\n",
       "    .dataframe tbody tr th:only-of-type {\n",
       "        vertical-align: middle;\n",
       "    }\n",
       "\n",
       "    .dataframe tbody tr th {\n",
       "        vertical-align: top;\n",
       "    }\n",
       "\n",
       "    .dataframe thead th {\n",
       "        text-align: right;\n",
       "    }\n",
       "</style>\n",
       "<table border=\"1\" class=\"dataframe\">\n",
       "  <thead>\n",
       "    <tr style=\"text-align: right;\">\n",
       "      <th>YEAR</th>\n",
       "      <th>2016</th>\n",
       "      <th>2020</th>\n",
       "    </tr>\n",
       "    <tr>\n",
       "      <th>STORYEMOTIONALFRAMES</th>\n",
       "      <th></th>\n",
       "      <th></th>\n",
       "    </tr>\n",
       "  </thead>\n",
       "  <tbody>\n",
       "    <tr>\n",
       "      <th>3.0</th>\n",
       "      <td>5.0</td>\n",
       "      <td>0.0</td>\n",
       "    </tr>\n",
       "    <tr>\n",
       "      <th>negative</th>\n",
       "      <td>94.0</td>\n",
       "      <td>91.0</td>\n",
       "    </tr>\n",
       "    <tr>\n",
       "      <th>positive</th>\n",
       "      <td>2.0</td>\n",
       "      <td>9.0</td>\n",
       "    </tr>\n",
       "  </tbody>\n",
       "</table>\n",
       "</div>"
      ],
      "text/plain": [
       "YEAR                  2016  2020\n",
       "STORYEMOTIONALFRAMES            \n",
       "3.0                    5.0   0.0\n",
       "negative              94.0  91.0\n",
       "positive               2.0   9.0"
      ]
     },
     "execution_count": 170,
     "metadata": {},
     "output_type": "execute_result"
    }
   ],
   "source": [
    "# pd.crosstab(dfstoryCNN.STORYEMOTIONALFRAMES, dfstoryCNN.YEAR, normalize='columns').round(2)*100"
   ]
  },
  {
   "cell_type": "code",
   "execution_count": 171,
   "metadata": {},
   "outputs": [
    {
     "data": {
      "text/html": [
       "<div>\n",
       "<style scoped>\n",
       "    .dataframe tbody tr th:only-of-type {\n",
       "        vertical-align: middle;\n",
       "    }\n",
       "\n",
       "    .dataframe tbody tr th {\n",
       "        vertical-align: top;\n",
       "    }\n",
       "\n",
       "    .dataframe thead th {\n",
       "        text-align: right;\n",
       "    }\n",
       "</style>\n",
       "<table border=\"1\" class=\"dataframe\">\n",
       "  <thead>\n",
       "    <tr style=\"text-align: right;\">\n",
       "      <th>YEAR</th>\n",
       "      <th>2016</th>\n",
       "      <th>2020</th>\n",
       "    </tr>\n",
       "    <tr>\n",
       "      <th>SENSATIONALISM</th>\n",
       "      <th></th>\n",
       "      <th></th>\n",
       "    </tr>\n",
       "  </thead>\n",
       "  <tbody>\n",
       "    <tr>\n",
       "      <th>no</th>\n",
       "      <td>79.0</td>\n",
       "      <td>98.0</td>\n",
       "    </tr>\n",
       "    <tr>\n",
       "      <th>yes</th>\n",
       "      <td>21.0</td>\n",
       "      <td>2.0</td>\n",
       "    </tr>\n",
       "  </tbody>\n",
       "</table>\n",
       "</div>"
      ],
      "text/plain": [
       "YEAR            2016  2020\n",
       "SENSATIONALISM            \n",
       "no              79.0  98.0\n",
       "yes             21.0   2.0"
      ]
     },
     "execution_count": 171,
     "metadata": {},
     "output_type": "execute_result"
    }
   ],
   "source": [
    "# pd.crosstab(dfstoryCNN.SENSATIONALISM, dfstoryCNN.YEAR, normalize='columns').round(2)*100"
   ]
  },
  {
   "cell_type": "code",
   "execution_count": 172,
   "metadata": {},
   "outputs": [],
   "source": [
    "# T3_0=pd.crosstab(dfstoryCNN.STORYTYPE, dfstoryCNN.YEAR, normalize='columns').round(2)*100\n",
    "# T3_1=pd.crosstab(dfstoryCNN.STORYTOPIC, dfstoryCNN.YEAR, normalize='columns').round(2)*100 \n",
    "# T3_2=pd.crosstab(dfstoryCNN.STORYEMOTIONALFRAMES, dfstoryCNN.YEAR, normalize='columns').round(2)*100\n",
    "# T3_3=pd.crosstab(dfstoryCNN.SENSATIONALISM, dfstoryCNN.YEAR, normalize='columns').round(2)*100\n",
    "# pd.concat([T3_0, T3_1, T3_2, T3_3]).to_csv(\"table3.csv\")\n"
   ]
  },
  {
   "cell_type": "code",
   "execution_count": 173,
   "metadata": {},
   "outputs": [],
   "source": [
    "# T4_0=pd.crosstab(dfstoryFOX.STORYTOPIC, dfstoryFOX.YEAR, normalize='columns').round(2)*100\n",
    "# T4_1=pd.crosstab(dfstoryFOX.STORYGENERICFRAMESDOMINANT, dfstoryFOX.YEAR, normalize='columns').round(2)*100\n",
    "# T4_2=pd.crosstab(dfstoryFOX.STORYEMOTIONALFRAMES, dfstoryFOX.YEAR, normalize='columns').round(2)*100\n",
    "# pd.concat([T4_0, T4_1, T4_2]).to_csv(\"table4.csv\")"
   ]
  },
  {
   "cell_type": "code",
   "execution_count": 174,
   "metadata": {},
   "outputs": [],
   "source": [
    "# T5_0=pd.crosstab(dftweet2016.TWEETTOPIC, dftweet2016.PUBLISHER, normalize='columns').round(2)*100\n",
    "# T5_1=pd.crosstab(dftweet2016.TWEETPRESENTATION, dftweet2016.PUBLISHER, normalize='columns').round(2)*100\n",
    "# T5_2=pd.crosstab(dftweet2016.TWEETROLETOTHESTORY, dftweet2016.PUBLISHER, normalize='columns').round(2)*100\n",
    "# T5_3=pd.crosstab(dftweet2016.STORYROLETOTWEET, dftweet2016.PUBLISHER, normalize='columns').round(2)*100\n",
    "# T5_4=pd.crosstab(dftweet2016.TWEETGENERICFRAMESDOMINANT, dftweet2016.PUBLISHER, normalize='columns').round(2)*100\n",
    "# T5_5=pd.crosstab(dftweet2016.TWEETEMOTIONALFRAMES, dftweet2016.PUBLISHER, normalize='columns').round(2)*100\n",
    "# pd.concat([T5_0, T5_1, T5_2, T5_3, T5_4, T5_5]).to_csv(\"table5.csv\")\n"
   ]
  },
  {
   "cell_type": "code",
   "execution_count": 175,
   "metadata": {},
   "outputs": [],
   "source": [
    "# T6_0=pd.crosstab(dftweet.TWEETTOPIC, dftweet.YEAR, normalize='columns').round(2)*100\n",
    "# T6_1=pd.crosstab(dftweet.TWEETPRESENTATION, dftweet.YEAR, normalize='columns').round(2)*100\n",
    "# T6_2=pd.crosstab(dftweet.TWEETGENERICFRAMESDOMINANT, dftweet.YEAR, normalize='columns').round(2)*100\n",
    "# T6_3=pd.crosstab(dftweet.TWEETEMOTIONALFRAMES, dftweet.YEAR, normalize='columns').round(2)*100\n",
    "# T6_4=pd.crosstab(dftweet.TWEETROLETOTHESTORY, dftweet.YEAR, normalize='columns').round(2)*100\n",
    "# T6_5=pd.crosstab(dftweet.STORYROLETOTWEET, dftweet.YEAR, normalize='columns').round(2)*100\n",
    "# pd.concat([T6_0, T6_1, T6_2, T6_3, T6_4, T6_5]).to_csv(\"table6.csv\")"
   ]
  },
  {
   "cell_type": "code",
   "execution_count": 176,
   "metadata": {},
   "outputs": [],
   "source": [
    "# T7_1=pd.crosstab(dftweetFOX.TWEETROLETOTHESTORY, dftweetFOX.YEAR, normalize='columns').round(2)*100\n",
    "# T7_2=pd.crosstab(dftweetFOX.STORYROLETOTWEET, dftweetFOX.YEAR, normalize='columns').round(2)*100\n",
    "# pd.concat([T7_0, T7_1, T7_2]).to_csv(\"table7.csv\")"
   ]
  },
  {
   "cell_type": "code",
   "execution_count": 177,
   "metadata": {},
   "outputs": [],
   "source": [
    "# dftweetFOX.TWEETPRESENTATION.value_counts()"
   ]
  },
  {
   "cell_type": "code",
   "execution_count": 178,
   "metadata": {},
   "outputs": [],
   "source": [
    "# T8_01=pd.crosstab(dftweet2016.TWEETGENERICFRAMESDOMINANT, dftweet2016.TWEETBY, normalize='columns').round(2)*100\n",
    "# T8_02=pd.crosstab(dftweet2016.TWEETEMOTIONALFRAMES, dftweet2016.TWEETBY, normalize='columns').round(2)*100\n",
    "# T8_03=pd.crosstab(dftweet2016.TWEETTOPIC, dftweet2016.TWEETBY, normalize='columns').round(2)*100\n",
    "# pd.concat([T8_01, T8_02, T8_03]).to_csv(\"table8.csv\")"
   ]
  },
  {
   "cell_type": "code",
   "execution_count": 179,
   "metadata": {},
   "outputs": [
    {
     "data": {
      "text/plain": [
       "TWEETBY\n",
       "trump     352\n",
       "biden      44\n",
       "harris     14\n",
       "pence       8\n",
       "Name: count, dtype: int64"
      ]
     },
     "execution_count": 179,
     "metadata": {},
     "output_type": "execute_result"
    }
   ],
   "source": [
    "df.TWEETBY.value_counts()"
   ]
  },
  {
   "cell_type": "code",
   "execution_count": 180,
   "metadata": {},
   "outputs": [],
   "source": [
    "# T34_0=pd.crosstab(dfstoryCNN.STORYTYPE, dfstoryCNN.YEAR, normalize='columns').round(2)*100\n",
    "# T34_1=pd.crosstab(dfstoryCNN.STORYTOPIC, dfstoryCNN.YEAR, normalize='columns').round(2)*100 \n",
    "# T34_2=pd.crosstab(dfstoryCNN.STORYGENERICFRAMESDOMINANT, dfstoryCNN.YEAR, normalize='columns').round(2)*100 \n",
    "# T34_3=pd.crosstab(dfstoryCNN.STORYEMOTIONALFRAMES, dfstoryCNN.YEAR, normalize='columns').round(2)*100\n",
    "# T34_4=pd.crosstab(dfstoryCNN.SENSATIONALISM, dfstoryCNN.YEAR, normalize='columns').round(2)*100\n",
    "# pd.concat([T34_0, T34_1, T34_2, T34_3, T34_4]).to_csv(\"table34_1.csv\")\n",
    "# T34_5=pd.crosstab(dfstoryFOX.STORYTYPE, dfstoryFOX.YEAR, normalize='columns').round(2)*100\n",
    "# T34_6=pd.crosstab(dfstoryFOX.STORYTOPIC, dfstoryFOX.YEAR, normalize='columns').round(2)*100\n",
    "# T34_7=pd.crosstab(dfstoryFOX.STORYGENERICFRAMESDOMINANT, dfstoryFOX.YEAR, normalize='columns').round(2)*100 \n",
    "# T34_8=pd.crosstab(dfstoryFOX.STORYEMOTIONALFRAMES, dfstoryFOX.YEAR, normalize='columns').round(2)*100\n",
    "# T34_9=pd.crosstab(dfstoryFOX.SENSATIONALISM, dfstoryFOX.YEAR, normalize='columns').round(2)*100\n",
    "# pd.concat([T34_5, T34_6, T34_7, T34_8, T34_9]).to_csv(\"table34_2.csv\")"
   ]
  },
  {
   "cell_type": "code",
   "execution_count": 181,
   "metadata": {},
   "outputs": [],
   "source": [
    "#Cross tabulation for Stories, percentages\n",
    "T34_0=pd.crosstab(df.STORYTYPE, [df.PUBLISHER, df.YEAR], dropna=False, normalize='columns').round(2)*100\n",
    "T34_1=pd.crosstab(df.STORYTOPIC, [df.PUBLISHER, df.YEAR], dropna=False, normalize='columns').round(2)*100\n",
    "T34_2=pd.crosstab(df.STORYGENERICFRAMESDOMINANT, [df.PUBLISHER, df.YEAR], dropna=False, normalize='columns').round(2)*100\n",
    "T34_3=pd.crosstab(df.STORYEMOTIONALFRAMES, [df.PUBLISHER, df.YEAR], dropna=False, normalize='columns').round(2)*100\n",
    "T34_4=pd.crosstab(df.SENSATIONALISM, [df.PUBLISHER, df.YEAR], dropna=False, normalize='columns').round(2)*100\n",
    "# pd.concat([T34_0, T34_1, T34_2, T34_3, T34_4]).to_csv(\"table34.csv\")\n",
    "T34=pd.concat([T34_0, T34_1, T34_2, T34_3, T34_4])"
   ]
  },
  {
   "cell_type": "code",
   "execution_count": 182,
   "metadata": {},
   "outputs": [],
   "source": [
    "#Cross tabulation for Stories, raw numbers\n",
    "T34_0=pd.crosstab(df.STORYTYPE, [df.PUBLISHER, df.YEAR], dropna=False).round(2)\n",
    "T34_1=pd.crosstab(df.STORYTOPIC, [df.PUBLISHER, df.YEAR], dropna=False).round(2)\n",
    "T34_2=pd.crosstab(df.STORYGENERICFRAMESDOMINANT, [df.PUBLISHER, df.YEAR], dropna=False).round(2)\n",
    "T34_3=pd.crosstab(df.STORYEMOTIONALFRAMES, [df.PUBLISHER, df.YEAR], dropna=False).round(2)\n",
    "T34_4=pd.crosstab(df.SENSATIONALISM, [df.PUBLISHER, df.YEAR], dropna=False).round(2)\n",
    "# pd.concat([T34_0, T34_1, T34_2, T34_3, T34_4]).to_csv(\"table34raw.csv\")\n",
    "T34raw=pd.concat([T34_0, T34_1, T34_2, T34_3, T34_4])"
   ]
  },
  {
   "cell_type": "code",
   "execution_count": 183,
   "metadata": {},
   "outputs": [],
   "source": [
    "#Alternating columns of T34 and T34raw\n",
    "T34all=pd.concat([T34, T34raw], axis=1)\n",
    "T34all=T34all[[item for items in zip(T34raw.columns, T34.columns) for item in items]]\n",
    "T34all.to_csv(\"table34all.csv\")"
   ]
  },
  {
   "cell_type": "code",
   "execution_count": 184,
   "metadata": {},
   "outputs": [],
   "source": [
    "#Cross tabulation for Tweets, percentages\n",
    "T567_1=pd.crosstab(df.TWEETTOPIC, [df.PUBLISHER, df.YEAR], dropna=False, normalize='columns').round(2)*100\n",
    "T567_2=pd.crosstab(df.TWEETPRESENTATION, [df.PUBLISHER, df.YEAR], dropna=False, normalize='columns').round(2)*100\n",
    "T567_3=pd.crosstab(df.TWEETGENERICFRAMESDOMINANT, [df.PUBLISHER, df.YEAR], dropna=False, normalize='columns').round(2)*100\n",
    "T567_4=pd.crosstab(df.TWEETEMOTIONALFRAMES, [df.PUBLISHER, df.YEAR], dropna=False, normalize='columns').round(2)*100\n",
    "T567_5=pd.crosstab(df.TWEETROLETOTHESTORY, [df.PUBLISHER, df.YEAR], dropna=False, normalize='columns').round(2)*100\n",
    "T567_6=pd.crosstab(df.STORYROLETOTWEET, [df.PUBLISHER, df.YEAR], dropna=False, normalize='columns').round(2)*100\n",
    "# pd.concat([T567_1, T567_2, T567_3, T567_4, T567_5, T567_6]).to_csv(\"table567.csv\")\n",
    "T567=pd.concat([T567_1, T567_2, T567_3, T567_4, T567_5, T567_6])"
   ]
  },
  {
   "cell_type": "code",
   "execution_count": 185,
   "metadata": {},
   "outputs": [],
   "source": [
    "#Cross tabulation for Tweets, raw numbers\n",
    "T567_1=pd.crosstab(df.TWEETTOPIC, [df.PUBLISHER, df.YEAR], dropna=False).round(2)\n",
    "T567_2=pd.crosstab(df.TWEETPRESENTATION, [df.PUBLISHER, df.YEAR], dropna=False).round(2)\n",
    "T567_3=pd.crosstab(df.TWEETGENERICFRAMESDOMINANT, [df.PUBLISHER, df.YEAR], dropna=False).round(2)\n",
    "T567_4=pd.crosstab(df.TWEETEMOTIONALFRAMES, [df.PUBLISHER, df.YEAR], dropna=False).round(2)\n",
    "T567_5=pd.crosstab(df.TWEETROLETOTHESTORY, [df.PUBLISHER, df.YEAR], dropna=False).round(2)\n",
    "T567_6=pd.crosstab(df.STORYROLETOTWEET, [df.PUBLISHER, df.YEAR], dropna=False).round(2)\n",
    "# pd.concat([T567_1, T567_2, T567_3, T567_4, T567_5, T567_6]).to_csv(\"table567raw.csv\")   \n",
    "T567raw=pd.concat([T567_1, T567_2, T567_3, T567_4, T567_5, T567_6])"
   ]
  },
  {
   "cell_type": "code",
   "execution_count": 186,
   "metadata": {},
   "outputs": [],
   "source": [
    "#Alternating columns of T567 and T567raw\n",
    "T567all=pd.concat([T567, T567raw], axis=1)\n",
    "T567all=T567all[[item for items in zip(T567raw.columns, T567.columns) for item in items]]\n",
    "T567all.to_csv(\"table567all.csv\")"
   ]
  },
  {
   "cell_type": "code",
   "execution_count": 187,
   "metadata": {},
   "outputs": [],
   "source": [
    "Tby1=pd.crosstab(dftweet2016.TWEETTOPIC, dftweet2016.TWEETBY, dropna=False, normalize='columns').round(2)*100\n",
    "Tby2=pd.crosstab(dftweet2016.TWEETPRESENTATION, dftweet2016.TWEETBY, dropna=False, normalize='columns').round(2)*100\n",
    "Tby3=pd.crosstab(dftweet2016.TWEETGENERICFRAMESDOMINANT, dftweet2016.TWEETBY, dropna=False, normalize='columns').round(2)*100\n",
    "Tby4=pd.crosstab(dftweet2016.TWEETEMOTIONALFRAMES, dftweet2016.TWEETBY, dropna=False, normalize='columns').round(2)*100\n",
    "Tby5=pd.crosstab(dftweet2016.TWEETROLETOTHESTORY, dftweet2016.TWEETBY, dropna=False, normalize='columns').round(2)*100\n",
    "Tby6=pd.crosstab(dftweet2016.STORYROLETOTWEET, dftweet2016.TWEETBY, dropna=False, normalize='columns').round(2)*100\n",
    "pd.concat([Tby1, Tby2, Tby3, Tby4, Tby5, Tby6]).to_csv(\"tableTweetby.csv\")\n",
    "Tby=pd.concat([Tby1, Tby2, Tby3, Tby4, Tby5, Tby6])"
   ]
  },
  {
   "cell_type": "code",
   "execution_count": 188,
   "metadata": {},
   "outputs": [],
   "source": [
    "TbyR1=pd.crosstab(df.TWEETTOPIC, dftweet2016.TWEETBY,  dropna=False).round(2)\n",
    "TbyR2=pd.crosstab(df.TWEETPRESENTATION, dftweet2016.TWEETBY, dropna=False).round(2)\n",
    "TbyR3=pd.crosstab(df.TWEETGENERICFRAMESDOMINANT, dftweet2016.TWEETBY,  dropna=False).round(2)\n",
    "TbyR4=pd.crosstab(df.TWEETEMOTIONALFRAMES, dftweet2016.TWEETBY,  dropna=False).round(2)\n",
    "TbyR5=pd.crosstab(df.TWEETROLETOTHESTORY, dftweet2016.TWEETBY,  dropna=False).round(2)\n",
    "TbyR6=pd.crosstab(df.STORYROLETOTWEET, dftweet2016.TWEETBY,  dropna=False).round(2)\n",
    "pd.concat([TbyR1, TbyR2, TbyR3, TbyR4, TbyR5, TbyR6]).to_csv(\"tableTweetbyRaw.csv\")\n",
    "TbyRaw=pd.concat([TbyR1, TbyR2, TbyR3, TbyR4, TbyR5, TbyR6])"
   ]
  },
  {
   "cell_type": "code",
   "execution_count": 189,
   "metadata": {},
   "outputs": [],
   "source": [
    "#alternating columns of Tby and TbyRaw\n",
    "TbyAll=pd.concat([Tby, TbyRaw], axis=1)\n",
    "TbyAll=TbyAll[[item for items in zip(TbyRaw.columns, Tby.columns) for item in items]]\n",
    "TbyAll.to_csv(\"tableTweetbyAll.csv\")"
   ]
  },
  {
   "cell_type": "code",
   "execution_count": 190,
   "metadata": {},
   "outputs": [
    {
     "data": {
      "text/plain": [
       "TWEETBY\n",
       "trump     131\n",
       "biden      19\n",
       "pence       6\n",
       "harris      0\n",
       "Name: count, dtype: int64"
      ]
     },
     "execution_count": 190,
     "metadata": {},
     "output_type": "execute_result"
    }
   ],
   "source": [
    "dftweet2016.TWEETBY.value_counts()"
   ]
  },
  {
   "cell_type": "code",
   "execution_count": 191,
   "metadata": {},
   "outputs": [
    {
     "data": {
      "text/plain": [
       "PUBLISHER\n",
       "cnn    123\n",
       "fox     34\n",
       "Name: count, dtype: int64"
      ]
     },
     "execution_count": 191,
     "metadata": {},
     "output_type": "execute_result"
    }
   ],
   "source": [
    "dftweet2016.PUBLISHER.value_counts()"
   ]
  },
  {
   "cell_type": "code",
   "execution_count": 192,
   "metadata": {},
   "outputs": [
    {
     "data": {
      "text/html": [
       "<div>\n",
       "<style scoped>\n",
       "    .dataframe tbody tr th:only-of-type {\n",
       "        vertical-align: middle;\n",
       "    }\n",
       "\n",
       "    .dataframe tbody tr th {\n",
       "        vertical-align: top;\n",
       "    }\n",
       "\n",
       "    .dataframe thead th {\n",
       "        text-align: right;\n",
       "    }\n",
       "</style>\n",
       "<table border=\"1\" class=\"dataframe\">\n",
       "  <thead>\n",
       "    <tr style=\"text-align: right;\">\n",
       "      <th>YEAR</th>\n",
       "      <th>2016</th>\n",
       "      <th>2020</th>\n",
       "      <th>All</th>\n",
       "    </tr>\n",
       "    <tr>\n",
       "      <th>PUBLISHER</th>\n",
       "      <th></th>\n",
       "      <th></th>\n",
       "      <th></th>\n",
       "    </tr>\n",
       "  </thead>\n",
       "  <tbody>\n",
       "    <tr>\n",
       "      <th>cnn</th>\n",
       "      <td>64</td>\n",
       "      <td>121</td>\n",
       "      <td>185</td>\n",
       "    </tr>\n",
       "    <tr>\n",
       "      <th>fox</th>\n",
       "      <td>19</td>\n",
       "      <td>76</td>\n",
       "      <td>95</td>\n",
       "    </tr>\n",
       "    <tr>\n",
       "      <th>All</th>\n",
       "      <td>83</td>\n",
       "      <td>197</td>\n",
       "      <td>280</td>\n",
       "    </tr>\n",
       "  </tbody>\n",
       "</table>\n",
       "</div>"
      ],
      "text/plain": [
       "YEAR       2016  2020  All\n",
       "PUBLISHER                 \n",
       "cnn          64   121  185\n",
       "fox          19    76   95\n",
       "All          83   197  280"
      ]
     },
     "execution_count": 192,
     "metadata": {},
     "output_type": "execute_result"
    }
   ],
   "source": [
    "pd.crosstab(dfstory.PUBLISHER, dfstory.YEAR, margins=True)"
   ]
  },
  {
   "cell_type": "code",
   "execution_count": 193,
   "metadata": {},
   "outputs": [
    {
     "data": {
      "text/plain": [
       "STORYNUMBER\n",
       "1.0       1\n",
       "186.0     1\n",
       "192.0     1\n",
       "191.0     1\n",
       "190.0     1\n",
       "         ..\n",
       "101.0     1\n",
       "102.0     1\n",
       "103.0     1\n",
       "104.0     1\n",
       "1725.0    1\n",
       "Name: count, Length: 280, dtype: int64"
      ]
     },
     "execution_count": 193,
     "metadata": {},
     "output_type": "execute_result"
    }
   ],
   "source": [
    "dfstory.STORYNUMBER.value_counts()"
   ]
  },
  {
   "cell_type": "code",
   "execution_count": 194,
   "metadata": {},
   "outputs": [
    {
     "name": "stderr",
     "output_type": "stream",
     "text": [
      "/var/folders/p9/s35_kx491l3f1qcxx11y7p280000gn/T/ipykernel_26346/1666503977.py:9: SettingWithCopyWarning: \n",
      "A value is trying to be set on a copy of a slice from a DataFrame\n",
      "\n",
      "See the caveats in the documentation: https://pandas.pydata.org/pandas-docs/stable/user_guide/indexing.html#returning-a-view-versus-a-copy\n",
      "  dfstory2.drop_duplicates(subset=['STORYNUMBER', 'URL'], keep='first', inplace=True)\n",
      "/var/folders/p9/s35_kx491l3f1qcxx11y7p280000gn/T/ipykernel_26346/1666503977.py:19: SettingWithCopyWarning: \n",
      "A value is trying to be set on a copy of a slice from a DataFrame\n",
      "\n",
      "See the caveats in the documentation: https://pandas.pydata.org/pandas-docs/stable/user_guide/indexing.html#returning-a-view-versus-a-copy\n",
      "  dfstory3.drop_duplicates(subset=['URL'], keep='first', inplace=True)\n"
     ]
    }
   ],
   "source": [
    "#unit of analysis is story\n",
    "dfstory2=df[['STORYNUMBER', 'CODER', 'YEAR', 'PUBLICATIONDATE', 'URL', 'PUBLISHER', \"PUBLISHERYEAR\",\n",
    "       'STORYTYPE', 'STORYTOPIC', 'STORYGENERICFRAMESDOMINANT',\n",
    "       'STORYGENERICFRAMESSECONDARY', 'STORYEMOTIONALFRAMES',\n",
    "       'STORYCONTAINSFALSESTATEMENT', 'STORYCLAIMSANOTHERSOURCEISFALSE',\n",
    "       'STORYFACTCHECKSTWEET', 'SENSATIONALISM', 'src_expert', 'src_opponent',\n",
    "       'src_otherpolitician', 'src_privatecitizen', 'src_media', 'src_other']]\n",
    "#remove duplicates\n",
    "dfstory2.drop_duplicates(subset=['STORYNUMBER', 'URL'], keep='first', inplace=True)\n",
    "\n",
    "#unit of analysis is story\n",
    "dfstory3=df[['STORYNUMBER', 'CODER', 'YEAR', 'PUBLICATIONDATE', 'URL', 'PUBLISHER', \"PUBLISHERYEAR\",\n",
    "       'STORYTYPE', 'STORYTOPIC', 'STORYGENERICFRAMESDOMINANT',\n",
    "       'STORYGENERICFRAMESSECONDARY', 'STORYEMOTIONALFRAMES',\n",
    "       'STORYCONTAINSFALSESTATEMENT', 'STORYCLAIMSANOTHERSOURCEISFALSE',\n",
    "       'STORYFACTCHECKSTWEET', 'SENSATIONALISM', 'src_expert', 'src_opponent',\n",
    "       'src_otherpolitician', 'src_privatecitizen', 'src_media', 'src_other']]\n",
    "#remove duplicates\n",
    "dfstory3.drop_duplicates(subset=['URL'], keep='first', inplace=True)"
   ]
  },
  {
   "cell_type": "code",
   "execution_count": 195,
   "metadata": {},
   "outputs": [
    {
     "data": {
      "text/html": [
       "<div>\n",
       "<style scoped>\n",
       "    .dataframe tbody tr th:only-of-type {\n",
       "        vertical-align: middle;\n",
       "    }\n",
       "\n",
       "    .dataframe tbody tr th {\n",
       "        vertical-align: top;\n",
       "    }\n",
       "\n",
       "    .dataframe thead th {\n",
       "        text-align: right;\n",
       "    }\n",
       "</style>\n",
       "<table border=\"1\" class=\"dataframe\">\n",
       "  <thead>\n",
       "    <tr style=\"text-align: right;\">\n",
       "      <th>YEAR</th>\n",
       "      <th>2016</th>\n",
       "      <th>2020</th>\n",
       "      <th>All</th>\n",
       "    </tr>\n",
       "    <tr>\n",
       "      <th>PUBLISHER</th>\n",
       "      <th></th>\n",
       "      <th></th>\n",
       "      <th></th>\n",
       "    </tr>\n",
       "  </thead>\n",
       "  <tbody>\n",
       "    <tr>\n",
       "      <th>cnn</th>\n",
       "      <td>64</td>\n",
       "      <td>121</td>\n",
       "      <td>185</td>\n",
       "    </tr>\n",
       "    <tr>\n",
       "      <th>fox</th>\n",
       "      <td>19</td>\n",
       "      <td>77</td>\n",
       "      <td>96</td>\n",
       "    </tr>\n",
       "    <tr>\n",
       "      <th>All</th>\n",
       "      <td>83</td>\n",
       "      <td>198</td>\n",
       "      <td>281</td>\n",
       "    </tr>\n",
       "  </tbody>\n",
       "</table>\n",
       "</div>"
      ],
      "text/plain": [
       "YEAR       2016  2020  All\n",
       "PUBLISHER                 \n",
       "cnn          64   121  185\n",
       "fox          19    77   96\n",
       "All          83   198  281"
      ]
     },
     "execution_count": 195,
     "metadata": {},
     "output_type": "execute_result"
    }
   ],
   "source": [
    "pd.crosstab(dfstory2.PUBLISHER, dfstory2.YEAR, margins=True)"
   ]
  },
  {
   "cell_type": "code",
   "execution_count": 196,
   "metadata": {},
   "outputs": [
    {
     "data": {
      "text/plain": [
       "False    275\n",
       "True       5\n",
       "Name: count, dtype: int64"
      ]
     },
     "execution_count": 196,
     "metadata": {},
     "output_type": "execute_result"
    }
   ],
   "source": [
    "dfstory.duplicated(subset=['URL']).value_counts()"
   ]
  },
  {
   "cell_type": "code",
   "execution_count": 197,
   "metadata": {},
   "outputs": [
    {
     "data": {
      "text/html": [
       "<div>\n",
       "<style scoped>\n",
       "    .dataframe tbody tr th:only-of-type {\n",
       "        vertical-align: middle;\n",
       "    }\n",
       "\n",
       "    .dataframe tbody tr th {\n",
       "        vertical-align: top;\n",
       "    }\n",
       "\n",
       "    .dataframe thead th {\n",
       "        text-align: right;\n",
       "    }\n",
       "</style>\n",
       "<table border=\"1\" class=\"dataframe\">\n",
       "  <thead>\n",
       "    <tr style=\"text-align: right;\">\n",
       "      <th>YEAR</th>\n",
       "      <th>2016</th>\n",
       "      <th>2020</th>\n",
       "      <th>All</th>\n",
       "    </tr>\n",
       "    <tr>\n",
       "      <th>PUBLISHER</th>\n",
       "      <th></th>\n",
       "      <th></th>\n",
       "      <th></th>\n",
       "    </tr>\n",
       "  </thead>\n",
       "  <tbody>\n",
       "    <tr>\n",
       "      <th>cnn</th>\n",
       "      <td>64</td>\n",
       "      <td>118</td>\n",
       "      <td>182</td>\n",
       "    </tr>\n",
       "    <tr>\n",
       "      <th>fox</th>\n",
       "      <td>19</td>\n",
       "      <td>75</td>\n",
       "      <td>94</td>\n",
       "    </tr>\n",
       "    <tr>\n",
       "      <th>All</th>\n",
       "      <td>83</td>\n",
       "      <td>193</td>\n",
       "      <td>276</td>\n",
       "    </tr>\n",
       "  </tbody>\n",
       "</table>\n",
       "</div>"
      ],
      "text/plain": [
       "YEAR       2016  2020  All\n",
       "PUBLISHER                 \n",
       "cnn          64   118  182\n",
       "fox          19    75   94\n",
       "All          83   193  276"
      ]
     },
     "execution_count": 197,
     "metadata": {},
     "output_type": "execute_result"
    }
   ],
   "source": [
    "pd.crosstab(dfstory3.PUBLISHER, dfstory3.YEAR, margins=True)"
   ]
  },
  {
   "cell_type": "code",
   "execution_count": null,
   "metadata": {},
   "outputs": [],
   "source": []
  }
 ],
 "metadata": {
  "kernelspec": {
   "display_name": "base",
   "language": "python",
   "name": "python3"
  },
  "language_info": {
   "codemirror_mode": {
    "name": "ipython",
    "version": 3
   },
   "file_extension": ".py",
   "mimetype": "text/x-python",
   "name": "python",
   "nbconvert_exporter": "python",
   "pygments_lexer": "ipython3",
   "version": "3.11.3"
  },
  "orig_nbformat": 4
 },
 "nbformat": 4,
 "nbformat_minor": 2
}
