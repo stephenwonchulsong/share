{
 "cells": [
  {
   "cell_type": "code",
   "execution_count": 1,
   "metadata": {},
   "outputs": [],
   "source": [
    " #using mystats env\n",
    "import pandas as pd\n",
    "import pingouin as pg\n",
    "import association_metrics as am\n",
    "from scipy.stats import chisquare\n",
    "import pyreadstat\n",
    "import statsmodels.api as sm"
   ]
  },
  {
   "cell_type": "code",
   "execution_count": 2,
   "metadata": {},
   "outputs": [
    {
     "data": {
      "text/plain": [
       "Index(['STORYNUMBER', 'CODER', 'YEAR', 'PUBLICATIONDATE', 'URL', 'PUBLISHER',\n",
       "       'STORYTYPE', 'STORYTOPIC', 'STORYGENERICFRAMESDOMINANT',\n",
       "       'STORYGENERICFRAMESSECONDARY', 'STORYEMOTIONALFRAMES',\n",
       "       'STORYCONTAINSFALSESTATEMENT', 'STORYCLAIMSANOTHERSOURCEISFALSE',\n",
       "       'STORYFACTCHECKSTWEET', 'SENSATIONALISM', 'src_expert', 'src_opponent',\n",
       "       'src_otherpolitician', 'src_privatecitizen', 'src_media', 'src_other',\n",
       "       'NUMBEROFTWEETSBYCANDIDATES', 'NUMBEROFTWEETSFROMOTHERS', 'TWEETBY',\n",
       "       'TWEETPRESENTATION', 'TWEETGENERICFRAMESDOMINANT',\n",
       "       'TWEETGENERICFRAMESSECONDARY', 'TWEETEMOTIONALFRAMES',\n",
       "       'TWEETCONTAINSFALSESTATEMENT', 'TWEETCLAIMSSOMETHINGELSEISFALSE',\n",
       "       'TWEETTOPIC', 'TWEETROLETOTHESTORY', 'STORYROLETOTWEET', 'filter_$',\n",
       "       'SRC_TOTAL'],\n",
       "      dtype='object')"
      ]
     },
     "execution_count": 2,
     "metadata": {},
     "output_type": "execute_result"
    }
   ],
   "source": [
    "#open file\n",
    "df=pd.read_spss(\"2020_2016_cnn_fox_tweets_coverage.sav\")\n",
    "#check column names\n",
    "df.columns"
   ]
  },
  {
   "cell_type": "code",
   "execution_count": 3,
   "metadata": {},
   "outputs": [],
   "source": [
    "#create a new column with the publisher and year\n",
    "df[\"PUBLISHERYEAR\"]=df.PUBLISHER.astype(str)+df.YEAR.astype(str)\n",
    "df.to_csv(\"2020_2016_cnn_fox_tweets_coverage.csv\")"
   ]
  },
  {
   "cell_type": "code",
   "execution_count": 4,
   "metadata": {},
   "outputs": [
    {
     "name": "stderr",
     "output_type": "stream",
     "text": [
      "/var/folders/p9/s35_kx491l3f1qcxx11y7p280000gn/T/ipykernel_53743/4248754915.py:9: SettingWithCopyWarning: \n",
      "A value is trying to be set on a copy of a slice from a DataFrame\n",
      "\n",
      "See the caveats in the documentation: https://pandas.pydata.org/pandas-docs/stable/user_guide/indexing.html#returning-a-view-versus-a-copy\n",
      "  dfstory.drop_duplicates(subset=['STORYNUMBER'], keep='first', inplace=True)\n"
     ]
    }
   ],
   "source": [
    "#unit of analysis is story\n",
    "dfstory=df[['STORYNUMBER', 'CODER', 'YEAR', 'PUBLICATIONDATE', 'URL', 'PUBLISHER', \"PUBLISHERYEAR\",\n",
    "       'STORYTYPE', 'STORYTOPIC', 'STORYGENERICFRAMESDOMINANT',\n",
    "       'STORYGENERICFRAMESSECONDARY', 'STORYEMOTIONALFRAMES',\n",
    "       'STORYCONTAINSFALSESTATEMENT', 'STORYCLAIMSANOTHERSOURCEISFALSE',\n",
    "       'STORYFACTCHECKSTWEET', 'SENSATIONALISM', 'src_expert', 'src_opponent',\n",
    "       'src_otherpolitician', 'src_privatecitizen', 'src_media', 'src_other']]\n",
    "#remove duplicates\n",
    "dfstory.drop_duplicates(subset=['STORYNUMBER'], keep='first', inplace=True)\n",
    "dfstory\n",
    "#dv list for stories\n",
    "DVstory=['STORYTYPE', 'STORYTOPIC', 'STORYGENERICFRAMESDOMINANT',\n",
    "       'STORYGENERICFRAMESSECONDARY', 'STORYEMOTIONALFRAMES',\n",
    "       'STORYCONTAINSFALSESTATEMENT', 'STORYCLAIMSANOTHERSOURCEISFALSE',\n",
    "       'STORYFACTCHECKSTWEET', 'SENSATIONALISM', 'src_expert', 'src_opponent',\n",
    "       'src_otherpolitician', 'src_privatecitizen', 'src_media', 'src_other']\n",
    "dfstory\n",
    "dfstory2020=dfstory.loc[dfstory['YEAR'] == \"2020\"]\n",
    "dfstory2016=dfstory.loc[dfstory['YEAR'] == \"2016\"]\n",
    "dfstoryFOX=dfstory.loc[dfstory['PUBLISHER'] == \"fox\"]\n",
    "dfstoryCNN=dfstory.loc[dfstory['PUBLISHER'] == \"cnn\"]"
   ]
  },
  {
   "cell_type": "code",
   "execution_count": 21,
   "metadata": {},
   "outputs": [],
   "source": [
    "#unit of analysis is tweet\n",
    "dftweet=df[['STORYNUMBER', 'CODER', 'YEAR', 'PUBLICATIONDATE', 'URL', 'PUBLISHER', \"PUBLISHERYEAR\",\n",
    "       'NUMBEROFTWEETSBYCANDIDATES', 'NUMBEROFTWEETSFROMOTHERS', 'TWEETBY',\n",
    "       'TWEETPRESENTATION', 'TWEETGENERICFRAMESDOMINANT',\n",
    "       'TWEETGENERICFRAMESSECONDARY', 'TWEETEMOTIONALFRAMES',\n",
    "       'TWEETCONTAINSFALSESTATEMENT', 'TWEETCLAIMSSOMETHINGELSEISFALSE',\n",
    "       'TWEETTOPIC', 'TWEETROLETOTHESTORY', 'STORYROLETOTWEET']]\n",
    "DVtweet=['NUMBEROFTWEETSBYCANDIDATES', 'NUMBEROFTWEETSFROMOTHERS', 'TWEETBY',\n",
    "       'TWEETPRESENTATION', 'TWEETGENERICFRAMESDOMINANT',\n",
    "       'TWEETGENERICFRAMESSECONDARY', 'TWEETEMOTIONALFRAMES',\n",
    "       'TWEETCONTAINSFALSESTATEMENT', 'TWEETCLAIMSSOMETHINGELSEISFALSE',\n",
    "       'TWEETTOPIC', 'TWEETROLETOTHESTORY', 'STORYROLETOTWEET']\n",
    "dftweet\n",
    "dftweet2020=dftweet.loc[dftweet['YEAR'] == \"2020\"]\n",
    "dftweet2016=dftweet.loc[dftweet['YEAR'] == \"2016\"]\n",
    "dftweetFOX=dftweet.loc[dftweet['PUBLISHER'] == \"fox\"]\n",
    "dftweetCNN=dftweet.loc[dftweet['PUBLISHER'] == \"cnn\"]\n",
    "dftweetFOX2016=dftweetFOX.loc[dftweetFOX['YEAR'] == \"2016\"]\n",
    "dftweetCNN2016=dftweetCNN.loc[dftweetCNN['YEAR'] == \"2016\"]\n",
    "dftweetFOX2020=dftweetFOX.loc[dftweetFOX['YEAR'] == \"2020\"]\n",
    "dftweetCNN2020=dftweetCNN.loc[dftweetCNN['YEAR'] == \"2020\"]"
   ]
  },
  {
   "cell_type": "code",
   "execution_count": 6,
   "metadata": {},
   "outputs": [],
   "source": [
    "pyreadstat.write_sav(df, \"df.sav\")\n",
    "pyreadstat.write_sav(dfstory, \"dfstory.sav\")\n",
    "pyreadstat.write_sav(dftweet, \"dftweet.sav\")\n",
    "pyreadstat.write_sav(dfstoryFOX, \"dfstoryFOX.sav\")\n",
    "pyreadstat.write_sav(dfstoryCNN, \"dfstoryCNN.sav\")\n",
    "pyreadstat.write_sav(dftweetFOX, \"dftweetFOX.sav\")\n",
    "pyreadstat.write_sav(dftweetCNN, \"dftweetCNN.sav\")\n",
    "pyreadstat.write_sav(dfstory2020, \"dfstory2020.sav\")\n",
    "pyreadstat.write_sav(dftweet2020, \"dftweet2020.sav\")\n",
    "pyreadstat.write_sav(dfstory2016, \"dfstory2016.sav\")\n",
    "pyreadstat.write_sav(dftweet2016, \"dftweet2016.sav\")\n",
    "\n"
   ]
  },
  {
   "cell_type": "code",
   "execution_count": 7,
   "metadata": {},
   "outputs": [],
   "source": [
    "dfx=pd.crosstab(dfstory2020.STORYFACTCHECKSTWEET, dfstory2020.PUBLISHER, margins=False)"
   ]
  },
  {
   "cell_type": "code",
   "execution_count": 8,
   "metadata": {},
   "outputs": [
    {
     "data": {
      "text/html": [
       "<div>\n",
       "<style scoped>\n",
       "    .dataframe tbody tr th:only-of-type {\n",
       "        vertical-align: middle;\n",
       "    }\n",
       "\n",
       "    .dataframe tbody tr th {\n",
       "        vertical-align: top;\n",
       "    }\n",
       "\n",
       "    .dataframe thead th {\n",
       "        text-align: right;\n",
       "    }\n",
       "</style>\n",
       "<table border=\"1\" class=\"dataframe\">\n",
       "  <thead>\n",
       "    <tr style=\"text-align: right;\">\n",
       "      <th>PUBLISHER</th>\n",
       "      <th>cnn</th>\n",
       "      <th>fox</th>\n",
       "    </tr>\n",
       "    <tr>\n",
       "      <th>STORYFACTCHECKSTWEET</th>\n",
       "      <th></th>\n",
       "      <th></th>\n",
       "    </tr>\n",
       "  </thead>\n",
       "  <tbody>\n",
       "    <tr>\n",
       "      <th>no</th>\n",
       "      <td>80</td>\n",
       "      <td>68</td>\n",
       "    </tr>\n",
       "    <tr>\n",
       "      <th>yes</th>\n",
       "      <td>39</td>\n",
       "      <td>8</td>\n",
       "    </tr>\n",
       "  </tbody>\n",
       "</table>\n",
       "</div>"
      ],
      "text/plain": [
       "PUBLISHER             cnn  fox\n",
       "STORYFACTCHECKSTWEET          \n",
       "no                     80   68\n",
       "yes                    39    8"
      ]
     },
     "execution_count": 8,
     "metadata": {},
     "output_type": "execute_result"
    }
   ],
   "source": [
    "dfx"
   ]
  },
  {
   "cell_type": "code",
   "execution_count": 9,
   "metadata": {},
   "outputs": [],
   "source": [
    "# chisquare(f_obs=dfx.cnn, f_exp=dfx.fox)\n",
    "\n",
    "# # Initialize a CamresV object using you pandas.DataFrame\n",
    "# cramersv = am.CramersV(df)\n",
    "# # will return a pairwise matrix filled with Cramer's V, where columns and index are \n",
    "# # the categorical variables of the passed pandas.DataFrame\n",
    "# cramersv.fit()"
   ]
  },
  {
   "cell_type": "code",
   "execution_count": 15,
   "metadata": {},
   "outputs": [
    {
     "name": "stdout",
     "output_type": "stream",
     "text": [
      "PUBLISHER             cnn  fox\n",
      "STORYFACTCHECKSTWEET          \n",
      "no                     80   68\n",
      "yes                    39    8\n",
      "p = 0.0\n",
      "very significant\n"
     ]
    }
   ],
   "source": [
    "#creating a contingency table for x2\n",
    "data = dfstory2020[[\"STORYFACTCHECKSTWEET\", \"PUBLISHER\"]]\n",
    "table = sm.stats.Table.from_data(data)\n",
    "print(table.table_orig)\n",
    "#calculating the p value\n",
    "rslt = table.test_nominal_association()\n",
    "print('p = ' + rslt.pvalue.round(3).astype(str))\n",
    "#conditional p value report\n",
    "if rslt.pvalue < 0.05 and rslt.pvalue > 0.01:\n",
    "    print(\"significant\")\n",
    "elif rslt.pvalue < 0.01:\n",
    "    print(\"very significant\")\n",
    "else:\n",
    "    print(\"not significant\")"
   ]
  },
  {
   "cell_type": "code",
   "execution_count": 13,
   "metadata": {},
   "outputs": [
    {
     "ename": "AttributeError",
     "evalue": "'DataFrame' object has no attribute 'team'",
     "output_type": "error",
     "traceback": [
      "\u001b[0;31m---------------------------------------------------------------------------\u001b[0m",
      "\u001b[0;31mAttributeError\u001b[0m                            Traceback (most recent call last)",
      "\u001b[0;32m/var/folders/p9/s35_kx491l3f1qcxx11y7p280000gn/T/ipykernel_53743/3867098893.py\u001b[0m in \u001b[0;36m?\u001b[0;34m()\u001b[0m\n\u001b[0;32m----> 1\u001b[0;31m \u001b[0mpd\u001b[0m\u001b[0;34m.\u001b[0m\u001b[0mcrosstab\u001b[0m\u001b[0;34m(\u001b[0m\u001b[0mdf\u001b[0m\u001b[0;34m.\u001b[0m\u001b[0mteam\u001b[0m\u001b[0;34m,\u001b[0m \u001b[0mdf\u001b[0m\u001b[0;34m.\u001b[0m\u001b[0mposition\u001b[0m\u001b[0;34m,\u001b[0m \u001b[0mnormalize\u001b[0m\u001b[0;34m=\u001b[0m\u001b[0;34m'columns'\u001b[0m\u001b[0;34m)\u001b[0m\u001b[0;34m\u001b[0m\u001b[0;34m\u001b[0m\u001b[0m\n\u001b[0m",
      "\u001b[0;32m~/anaconda3/envs/mystats/lib/python3.11/site-packages/pandas/core/generic.py\u001b[0m in \u001b[0;36m?\u001b[0;34m(self, name)\u001b[0m\n\u001b[1;32m   5985\u001b[0m             \u001b[0;32mand\u001b[0m \u001b[0mname\u001b[0m \u001b[0;32mnot\u001b[0m \u001b[0;32min\u001b[0m \u001b[0mself\u001b[0m\u001b[0;34m.\u001b[0m\u001b[0m_accessors\u001b[0m\u001b[0;34m\u001b[0m\u001b[0;34m\u001b[0m\u001b[0m\n\u001b[1;32m   5986\u001b[0m             \u001b[0;32mand\u001b[0m \u001b[0mself\u001b[0m\u001b[0;34m.\u001b[0m\u001b[0m_info_axis\u001b[0m\u001b[0;34m.\u001b[0m\u001b[0m_can_hold_identifiers_and_holds_name\u001b[0m\u001b[0;34m(\u001b[0m\u001b[0mname\u001b[0m\u001b[0;34m)\u001b[0m\u001b[0;34m\u001b[0m\u001b[0;34m\u001b[0m\u001b[0m\n\u001b[1;32m   5987\u001b[0m         ):\n\u001b[1;32m   5988\u001b[0m             \u001b[0;32mreturn\u001b[0m \u001b[0mself\u001b[0m\u001b[0;34m[\u001b[0m\u001b[0mname\u001b[0m\u001b[0;34m]\u001b[0m\u001b[0;34m\u001b[0m\u001b[0;34m\u001b[0m\u001b[0m\n\u001b[0;32m-> 5989\u001b[0;31m         \u001b[0;32mreturn\u001b[0m \u001b[0mobject\u001b[0m\u001b[0;34m.\u001b[0m\u001b[0m__getattribute__\u001b[0m\u001b[0;34m(\u001b[0m\u001b[0mself\u001b[0m\u001b[0;34m,\u001b[0m \u001b[0mname\u001b[0m\u001b[0;34m)\u001b[0m\u001b[0;34m\u001b[0m\u001b[0;34m\u001b[0m\u001b[0m\n\u001b[0m",
      "\u001b[0;31mAttributeError\u001b[0m: 'DataFrame' object has no attribute 'team'"
     ]
    }
   ],
   "source": [
    "pd.crosstab(df.team, df.position, normalize='columns')"
   ]
  },
  {
   "cell_type": "code",
   "execution_count": 17,
   "metadata": {},
   "outputs": [
    {
     "data": {
      "text/plain": [
       "NUMBEROFTWEETSBYCANDIDATES\n",
       "1.0     209\n",
       "2.0      49\n",
       "3.0       9\n",
       "4.0       5\n",
       "6.0       3\n",
       "5.0       2\n",
       "13.0      1\n",
       "8.0       1\n",
       "9.0       1\n",
       "15.0      1\n",
       "Name: count, dtype: int64"
      ]
     },
     "execution_count": 17,
     "metadata": {},
     "output_type": "execute_result"
    }
   ],
   "source": [
    "df.NUMBEROFTWEETSBYCANDIDATES.value_counts()"
   ]
  },
  {
   "cell_type": "code",
   "execution_count": 18,
   "metadata": {},
   "outputs": [
    {
     "data": {
      "text/plain": [
       "TWEETPRESENTATION\n",
       "embedded_cited          142\n",
       "cited                    97\n",
       "cited_linked             47\n",
       "embedded                 46\n",
       "paraphrased              43\n",
       "cited_paraphrased        18\n",
       "paraphrased_linked       15\n",
       "embedded_paraphrased      8\n",
       "linked                    3\n",
       "Name: count, dtype: int64"
      ]
     },
     "execution_count": 18,
     "metadata": {},
     "output_type": "execute_result"
    }
   ],
   "source": [
    "df.TWEETPRESENTATION.value_counts()"
   ]
  },
  {
   "cell_type": "code",
   "execution_count": 24,
   "metadata": {},
   "outputs": [
    {
     "data": {
      "text/html": [
       "<div>\n",
       "<style scoped>\n",
       "    .dataframe tbody tr th:only-of-type {\n",
       "        vertical-align: middle;\n",
       "    }\n",
       "\n",
       "    .dataframe tbody tr th {\n",
       "        vertical-align: top;\n",
       "    }\n",
       "\n",
       "    .dataframe thead th {\n",
       "        text-align: right;\n",
       "    }\n",
       "</style>\n",
       "<table border=\"1\" class=\"dataframe\">\n",
       "  <thead>\n",
       "    <tr style=\"text-align: right;\">\n",
       "      <th></th>\n",
       "      <th>T</th>\n",
       "      <th>dof</th>\n",
       "      <th>alternative</th>\n",
       "      <th>p-val</th>\n",
       "      <th>CI95%</th>\n",
       "      <th>cohen-d</th>\n",
       "      <th>BF10</th>\n",
       "      <th>power</th>\n",
       "    </tr>\n",
       "  </thead>\n",
       "  <tbody>\n",
       "    <tr>\n",
       "      <th>T-test</th>\n",
       "      <td>0.658</td>\n",
       "      <td>60.803</td>\n",
       "      <td>two-sided</td>\n",
       "      <td>0.513</td>\n",
       "      <td>[-0.55, 1.08]</td>\n",
       "      <td>0.126</td>\n",
       "      <td>0.313</td>\n",
       "      <td>0.077</td>\n",
       "    </tr>\n",
       "  </tbody>\n",
       "</table>\n",
       "</div>"
      ],
      "text/plain": [
       "            T     dof alternative  p-val          CI95%  cohen-d   BF10  power\n",
       "T-test  0.658  60.803   two-sided  0.513  [-0.55, 1.08]    0.126  0.313  0.077"
      ]
     },
     "execution_count": 24,
     "metadata": {},
     "output_type": "execute_result"
    }
   ],
   "source": [
    "pg.ttest(dftweetCNN2016.NUMBEROFTWEETSBYCANDIDATES, dftweetFOX2016.NUMBEROFTWEETSBYCANDIDATES).round(3)"
   ]
  },
  {
   "cell_type": "code",
   "execution_count": 26,
   "metadata": {},
   "outputs": [
    {
     "data": {
      "text/html": [
       "<div>\n",
       "<style scoped>\n",
       "    .dataframe tbody tr th:only-of-type {\n",
       "        vertical-align: middle;\n",
       "    }\n",
       "\n",
       "    .dataframe tbody tr th {\n",
       "        vertical-align: top;\n",
       "    }\n",
       "\n",
       "    .dataframe thead th {\n",
       "        text-align: right;\n",
       "    }\n",
       "</style>\n",
       "<table border=\"1\" class=\"dataframe\">\n",
       "  <thead>\n",
       "    <tr style=\"text-align: right;\">\n",
       "      <th></th>\n",
       "      <th>T</th>\n",
       "      <th>dof</th>\n",
       "      <th>alternative</th>\n",
       "      <th>p-val</th>\n",
       "      <th>CI95%</th>\n",
       "      <th>cohen-d</th>\n",
       "      <th>BF10</th>\n",
       "      <th>power</th>\n",
       "    </tr>\n",
       "  </thead>\n",
       "  <tbody>\n",
       "    <tr>\n",
       "      <th>T-test</th>\n",
       "      <td>2.55</td>\n",
       "      <td>65.05</td>\n",
       "      <td>two-sided</td>\n",
       "      <td>0.01</td>\n",
       "      <td>[0.16, 1.35]</td>\n",
       "      <td>0.53</td>\n",
       "      <td>3.273</td>\n",
       "      <td>0.92</td>\n",
       "    </tr>\n",
       "  </tbody>\n",
       "</table>\n",
       "</div>"
      ],
      "text/plain": [
       "           T    dof alternative  p-val         CI95%  cohen-d   BF10  power\n",
       "T-test  2.55  65.05   two-sided   0.01  [0.16, 1.35]     0.53  3.273   0.92"
      ]
     },
     "execution_count": 26,
     "metadata": {},
     "output_type": "execute_result"
    }
   ],
   "source": [
    "pg.ttest(dftweetCNN2016.NUMBEROFTWEETSBYCANDIDATES, dftweetCNN2020.NUMBEROFTWEETSBYCANDIDATES).round(2)"
   ]
  },
  {
   "cell_type": "code",
   "execution_count": 27,
   "metadata": {},
   "outputs": [
    {
     "data": {
      "text/plain": [
       "count    63.00\n",
       "mean      1.97\n",
       "std       2.33\n",
       "min       1.00\n",
       "25%       1.00\n",
       "50%       1.00\n",
       "75%       2.00\n",
       "max      15.00\n",
       "Name: NUMBEROFTWEETSBYCANDIDATES, dtype: float64"
      ]
     },
     "execution_count": 27,
     "metadata": {},
     "output_type": "execute_result"
    }
   ],
   "source": [
    "dftweetCNN2016.NUMBEROFTWEETSBYCANDIDATES.describe().round(2)"
   ]
  },
  {
   "cell_type": "code",
   "execution_count": 28,
   "metadata": {},
   "outputs": [
    {
     "data": {
      "text/plain": [
       "count    119.00\n",
       "mean       1.21\n",
       "std        0.50\n",
       "min        1.00\n",
       "25%        1.00\n",
       "50%        1.00\n",
       "75%        1.00\n",
       "max        3.00\n",
       "Name: NUMBEROFTWEETSBYCANDIDATES, dtype: float64"
      ]
     },
     "execution_count": 28,
     "metadata": {},
     "output_type": "execute_result"
    }
   ],
   "source": [
    "dftweetCNN2020.NUMBEROFTWEETSBYCANDIDATES.describe().round(2)"
   ]
  },
  {
   "cell_type": "code",
   "execution_count": 22,
   "metadata": {},
   "outputs": [
    {
     "data": {
      "text/html": [
       "<div>\n",
       "<style scoped>\n",
       "    .dataframe tbody tr th:only-of-type {\n",
       "        vertical-align: middle;\n",
       "    }\n",
       "\n",
       "    .dataframe tbody tr th {\n",
       "        vertical-align: top;\n",
       "    }\n",
       "\n",
       "    .dataframe thead th {\n",
       "        text-align: right;\n",
       "    }\n",
       "</style>\n",
       "<table border=\"1\" class=\"dataframe\">\n",
       "  <thead>\n",
       "    <tr style=\"text-align: right;\">\n",
       "      <th></th>\n",
       "      <th>T</th>\n",
       "      <th>dof</th>\n",
       "      <th>alternative</th>\n",
       "      <th>p-val</th>\n",
       "      <th>CI95%</th>\n",
       "      <th>cohen-d</th>\n",
       "      <th>BF10</th>\n",
       "      <th>power</th>\n",
       "    </tr>\n",
       "  </thead>\n",
       "  <tbody>\n",
       "    <tr>\n",
       "      <th>T-test</th>\n",
       "      <td>0.354</td>\n",
       "      <td>35.419</td>\n",
       "      <td>two-sided</td>\n",
       "      <td>0.725</td>\n",
       "      <td>[-0.56, 0.79]</td>\n",
       "      <td>0.078</td>\n",
       "      <td>0.27</td>\n",
       "      <td>0.061</td>\n",
       "    </tr>\n",
       "  </tbody>\n",
       "</table>\n",
       "</div>"
      ],
      "text/plain": [
       "            T     dof alternative  p-val          CI95%  cohen-d  BF10  power\n",
       "T-test  0.354  35.419   two-sided  0.725  [-0.56, 0.79]    0.078  0.27  0.061"
      ]
     },
     "execution_count": 22,
     "metadata": {},
     "output_type": "execute_result"
    }
   ],
   "source": [
    "pg.ttest(dftweetFOX2016.NUMBEROFTWEETSBYCANDIDATES, dftweetFOX2020.NUMBEROFTWEETSBYCANDIDATES).round(3)"
   ]
  },
  {
   "cell_type": "code",
   "execution_count": 29,
   "metadata": {},
   "outputs": [
    {
     "data": {
      "text/plain": [
       "TWEETBY\n",
       "trump     229\n",
       "biden      23\n",
       "harris      7\n",
       "pence       5\n",
       "Name: count, dtype: int64"
      ]
     },
     "execution_count": 29,
     "metadata": {},
     "output_type": "execute_result"
    }
   ],
   "source": [
    "dftweetCNN.TWEETBY.value_counts()"
   ]
  },
  {
   "cell_type": "code",
   "execution_count": null,
   "metadata": {},
   "outputs": [],
   "source": []
  }
 ],
 "metadata": {
  "kernelspec": {
   "display_name": "base",
   "language": "python",
   "name": "python3"
  },
  "language_info": {
   "codemirror_mode": {
    "name": "ipython",
    "version": 3
   },
   "file_extension": ".py",
   "mimetype": "text/x-python",
   "name": "python",
   "nbconvert_exporter": "python",
   "pygments_lexer": "ipython3",
   "version": "3.11.3"
  },
  "orig_nbformat": 4
 },
 "nbformat": 4,
 "nbformat_minor": 2
}
