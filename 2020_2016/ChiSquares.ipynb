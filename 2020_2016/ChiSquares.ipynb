{
 "cells": [
  {
   "cell_type": "code",
   "execution_count": 1,
   "metadata": {
    "vscode": {
     "languageId": "r"
    }
   },
   "outputs": [
    {
     "ename": "ERROR",
     "evalue": "Error in library(tidyverse): there is no package called 'tidyverse'\n",
     "output_type": "error",
     "traceback": [
      "Error in library(tidyverse): there is no package called 'tidyverse'\nTraceback:\n",
      "1. library(tidyverse)"
     ]
    }
   ],
   "source": [
    "library(tidyverse)\n",
    "library(Rfast)\n",
    "library(MASS)"
   ]
  }
 ],
 "metadata": {
  "kernelspec": {
   "display_name": "R",
   "language": "R",
   "name": "ir"
  },
  "language_info": {
   "codemirror_mode": "r",
   "file_extension": ".r",
   "mimetype": "text/x-r-source",
   "name": "R",
   "pygments_lexer": "r",
   "version": "4.2.3"
  },
  "orig_nbformat": 4
 },
 "nbformat": 4,
 "nbformat_minor": 2
}
