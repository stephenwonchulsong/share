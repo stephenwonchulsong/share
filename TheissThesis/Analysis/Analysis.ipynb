{
 "cells": [
  {
   "cell_type": "code",
   "execution_count": 31,
   "metadata": {},
   "outputs": [],
   "source": [
    " #using mystats env\n",
    "import pandas as pd\n",
    "import numpy as np\n",
    "import pingouin as pg\n",
    "import association_metrics as am\n",
    "import scipy.stats as stats\n",
    "from scipy.stats import chisquare\n",
    "from scipy import stats\n",
    "import pyreadstat\n",
    "import statsmodels.api as sm\n",
    "import warnings\n",
    "import os\n",
    "pd.options.display.float_format = '{:.2f}'.format"
   ]
  },
  {
   "cell_type": "code",
   "execution_count": 32,
   "metadata": {},
   "outputs": [],
   "source": [
    "#loading all the data\n",
    "dfc=pd.read_csv('dfc.csv')\n",
    "dfv=pd.read_csv('dfv.csv')\n",
    "dfv_ColNames=pd.read_csv('dfv_ColNames.csv')\n",
    "dfv_noDupe_ColNames=pd.read_csv('dfv_noDupe_ColNames.csv')\n",
    "dfvnoDupe_recode=pd.read_csv('dfv_noDupe_recode.csv')\n",
    "dfv_noDupe=pd.read_csv('dfv_noDupe.csv')\n",
    "dfv_recode=pd.read_csv('dfv_recode.csv')\n",
    "dfv_original=pd.read_csv('dfV_original.csv')\n",
    "dfc_original=pd.read_csv('dfC_orignial.csv')"
   ]
  },
  {
   "cell_type": "code",
   "execution_count": 33,
   "metadata": {},
   "outputs": [],
   "source": [
    "dfc.Case= dfc.Case.astype('category')\n",
    "dfv.Case= dfv.Case.astype('category')"
   ]
  },
  {
   "cell_type": "code",
   "execution_count": 34,
   "metadata": {},
   "outputs": [
    {
     "data": {
      "text/plain": [
       "Index(['Case', 'CommCase', 'Platform', 'Publisher', 'VidTitle', 'CommentText',\n",
       "       'CommLikes', 'CharacterNum', 'CommLength', 'Sentiment', 'Focus',\n",
       "       'Alignment', 'MediaType'],\n",
       "      dtype='object')"
      ]
     },
     "execution_count": 34,
     "metadata": {},
     "output_type": "execute_result"
    }
   ],
   "source": [
    "dfc.columns#errors in Publisher values"
   ]
  },
  {
   "cell_type": "code",
   "execution_count": 35,
   "metadata": {},
   "outputs": [
    {
     "data": {
      "text/plain": [
       "Index(['Case', 'Platform', 'Publisher', 'VideoURL', 'PubDate', 'Likes',\n",
       "       'Comments', 'Saves', 'Shots', 'Graphics', 'EditsStyle', 'Broll',\n",
       "       'NatSound', 'Audio', 'Music', 'Narration', 'Humor', 'Offensive',\n",
       "       'Sourcing', 'Fairness', 'Agenda', 'MediaIntegrity', 'Decorum',\n",
       "       'Language', 'Topic', 'Presentation', 'ExternalVidSource', 'MediaType',\n",
       "       'Animation', 'Filters', 'Decorum_Z', 'Language_Z'],\n",
       "      dtype='object')"
      ]
     },
     "execution_count": 35,
     "metadata": {},
     "output_type": "execute_result"
    }
   ],
   "source": [
    "dfv.columns"
   ]
  },
  {
   "cell_type": "code",
   "execution_count": 36,
   "metadata": {},
   "outputs": [],
   "source": [
    "# merge dfc and selected columns from dfv_noDupe\n",
    "dfc = pd.merge(dfc, dfv, on=['Case'], how='inner', indicator=True)"
   ]
  },
  {
   "cell_type": "code",
   "execution_count": 37,
   "metadata": {},
   "outputs": [
    {
     "data": {
      "text/plain": [
       "(0.6575492422021552, array([0.548, 0.746]))"
      ]
     },
     "execution_count": 37,
     "metadata": {},
     "output_type": "execute_result"
    }
   ],
   "source": [
    "trendiness = dfv[['Humor', 'Animation', 'Filters', 'Music']]\n",
    "pg.cronbach_alpha(data=trendiness)"
   ]
  },
  {
   "cell_type": "code",
   "execution_count": 38,
   "metadata": {},
   "outputs": [
    {
     "data": {
      "text/plain": [
       "(0.8004781810899829, array([0.745, 0.848]))"
      ]
     },
     "execution_count": 38,
     "metadata": {},
     "output_type": "execute_result"
    }
   ],
   "source": [
    "trendiness = dfv[['Shots', 'EditsStyle', 'Broll', 'NatSound', 'Audio', 'Music', 'Narration', 'Humor', 'Sourcing', 'Decorum','Language','Animation', 'Filters']]\n",
    "pg.cronbach_alpha(data=trendiness)"
   ]
  },
  {
   "cell_type": "code",
   "execution_count": null,
   "metadata": {},
   "outputs": [],
   "source": []
  },
  {
   "cell_type": "code",
   "execution_count": 40,
   "metadata": {},
   "outputs": [
    {
     "ename": "KeyError",
     "evalue": "\"['Animation', 'Filters'] not in index\"",
     "output_type": "error",
     "traceback": [
      "\u001b[0;31m---------------------------------------------------------------------------\u001b[0m",
      "\u001b[0;31mKeyError\u001b[0m                                  Traceback (most recent call last)",
      "Cell \u001b[0;32mIn[40], line 1\u001b[0m\n\u001b[0;32m----> 1\u001b[0m trendiness \u001b[38;5;241m=\u001b[39m \u001b[43mdfv_noDupe\u001b[49m\u001b[43m[\u001b[49m\u001b[43m[\u001b[49m\u001b[38;5;124;43m'\u001b[39;49m\u001b[38;5;124;43mMusic\u001b[39;49m\u001b[38;5;124;43m'\u001b[39;49m\u001b[43m,\u001b[49m\u001b[43m \u001b[49m\u001b[38;5;124;43m'\u001b[39;49m\u001b[38;5;124;43mHumor\u001b[39;49m\u001b[38;5;124;43m'\u001b[39;49m\u001b[43m,\u001b[49m\u001b[43m \u001b[49m\u001b[38;5;124;43m'\u001b[39;49m\u001b[38;5;124;43mDecorum\u001b[39;49m\u001b[38;5;124;43m'\u001b[39;49m\u001b[43m,\u001b[49m\u001b[38;5;124;43m'\u001b[39;49m\u001b[38;5;124;43mLanguage\u001b[39;49m\u001b[38;5;124;43m'\u001b[39;49m\u001b[43m,\u001b[49m\u001b[38;5;124;43m'\u001b[39;49m\u001b[38;5;124;43mAnimation\u001b[39;49m\u001b[38;5;124;43m'\u001b[39;49m\u001b[43m,\u001b[49m\u001b[43m \u001b[49m\u001b[38;5;124;43m'\u001b[39;49m\u001b[38;5;124;43mFilters\u001b[39;49m\u001b[38;5;124;43m'\u001b[39;49m\u001b[43m]\u001b[49m\u001b[43m]\u001b[49m\n\u001b[1;32m      2\u001b[0m pg\u001b[38;5;241m.\u001b[39mcronbach_alpha(data\u001b[38;5;241m=\u001b[39mtrendiness)\n",
      "File \u001b[0;32m~/anaconda3/envs/mystats/lib/python3.11/site-packages/pandas/core/frame.py:3767\u001b[0m, in \u001b[0;36mDataFrame.__getitem__\u001b[0;34m(self, key)\u001b[0m\n\u001b[1;32m   3765\u001b[0m     \u001b[38;5;28;01mif\u001b[39;00m is_iterator(key):\n\u001b[1;32m   3766\u001b[0m         key \u001b[38;5;241m=\u001b[39m \u001b[38;5;28mlist\u001b[39m(key)\n\u001b[0;32m-> 3767\u001b[0m     indexer \u001b[38;5;241m=\u001b[39m \u001b[38;5;28;43mself\u001b[39;49m\u001b[38;5;241;43m.\u001b[39;49m\u001b[43mcolumns\u001b[49m\u001b[38;5;241;43m.\u001b[39;49m\u001b[43m_get_indexer_strict\u001b[49m\u001b[43m(\u001b[49m\u001b[43mkey\u001b[49m\u001b[43m,\u001b[49m\u001b[43m \u001b[49m\u001b[38;5;124;43m\"\u001b[39;49m\u001b[38;5;124;43mcolumns\u001b[39;49m\u001b[38;5;124;43m\"\u001b[39;49m\u001b[43m)\u001b[49m[\u001b[38;5;241m1\u001b[39m]\n\u001b[1;32m   3769\u001b[0m \u001b[38;5;66;03m# take() does not accept boolean indexers\u001b[39;00m\n\u001b[1;32m   3770\u001b[0m \u001b[38;5;28;01mif\u001b[39;00m \u001b[38;5;28mgetattr\u001b[39m(indexer, \u001b[38;5;124m\"\u001b[39m\u001b[38;5;124mdtype\u001b[39m\u001b[38;5;124m\"\u001b[39m, \u001b[38;5;28;01mNone\u001b[39;00m) \u001b[38;5;241m==\u001b[39m \u001b[38;5;28mbool\u001b[39m:\n",
      "File \u001b[0;32m~/anaconda3/envs/mystats/lib/python3.11/site-packages/pandas/core/indexes/base.py:5877\u001b[0m, in \u001b[0;36mIndex._get_indexer_strict\u001b[0;34m(self, key, axis_name)\u001b[0m\n\u001b[1;32m   5874\u001b[0m \u001b[38;5;28;01melse\u001b[39;00m:\n\u001b[1;32m   5875\u001b[0m     keyarr, indexer, new_indexer \u001b[38;5;241m=\u001b[39m \u001b[38;5;28mself\u001b[39m\u001b[38;5;241m.\u001b[39m_reindex_non_unique(keyarr)\n\u001b[0;32m-> 5877\u001b[0m \u001b[38;5;28;43mself\u001b[39;49m\u001b[38;5;241;43m.\u001b[39;49m\u001b[43m_raise_if_missing\u001b[49m\u001b[43m(\u001b[49m\u001b[43mkeyarr\u001b[49m\u001b[43m,\u001b[49m\u001b[43m \u001b[49m\u001b[43mindexer\u001b[49m\u001b[43m,\u001b[49m\u001b[43m \u001b[49m\u001b[43maxis_name\u001b[49m\u001b[43m)\u001b[49m\n\u001b[1;32m   5879\u001b[0m keyarr \u001b[38;5;241m=\u001b[39m \u001b[38;5;28mself\u001b[39m\u001b[38;5;241m.\u001b[39mtake(indexer)\n\u001b[1;32m   5880\u001b[0m \u001b[38;5;28;01mif\u001b[39;00m \u001b[38;5;28misinstance\u001b[39m(key, Index):\n\u001b[1;32m   5881\u001b[0m     \u001b[38;5;66;03m# GH 42790 - Preserve name from an Index\u001b[39;00m\n",
      "File \u001b[0;32m~/anaconda3/envs/mystats/lib/python3.11/site-packages/pandas/core/indexes/base.py:5941\u001b[0m, in \u001b[0;36mIndex._raise_if_missing\u001b[0;34m(self, key, indexer, axis_name)\u001b[0m\n\u001b[1;32m   5938\u001b[0m     \u001b[38;5;28;01mraise\u001b[39;00m \u001b[38;5;167;01mKeyError\u001b[39;00m(\u001b[38;5;124mf\u001b[39m\u001b[38;5;124m\"\u001b[39m\u001b[38;5;124mNone of [\u001b[39m\u001b[38;5;132;01m{\u001b[39;00mkey\u001b[38;5;132;01m}\u001b[39;00m\u001b[38;5;124m] are in the [\u001b[39m\u001b[38;5;132;01m{\u001b[39;00maxis_name\u001b[38;5;132;01m}\u001b[39;00m\u001b[38;5;124m]\u001b[39m\u001b[38;5;124m\"\u001b[39m)\n\u001b[1;32m   5940\u001b[0m not_found \u001b[38;5;241m=\u001b[39m \u001b[38;5;28mlist\u001b[39m(ensure_index(key)[missing_mask\u001b[38;5;241m.\u001b[39mnonzero()[\u001b[38;5;241m0\u001b[39m]]\u001b[38;5;241m.\u001b[39munique())\n\u001b[0;32m-> 5941\u001b[0m \u001b[38;5;28;01mraise\u001b[39;00m \u001b[38;5;167;01mKeyError\u001b[39;00m(\u001b[38;5;124mf\u001b[39m\u001b[38;5;124m\"\u001b[39m\u001b[38;5;132;01m{\u001b[39;00mnot_found\u001b[38;5;132;01m}\u001b[39;00m\u001b[38;5;124m not in index\u001b[39m\u001b[38;5;124m\"\u001b[39m)\n",
      "\u001b[0;31mKeyError\u001b[0m: \"['Animation', 'Filters'] not in index\""
     ]
    }
   ],
   "source": [
    "trendiness = dfv_noDupe[['Music', 'Humor', 'Decorum','Language','Animation', 'Filters']]\n",
    "pg.cronbach_alpha(data=trendiness)"
   ]
  },
  {
   "cell_type": "code",
   "execution_count": null,
   "metadata": {},
   "outputs": [],
   "source": [
    "dfv['trendiness'] = trendiness.sum(axis=1)"
   ]
  },
  {
   "cell_type": "code",
   "execution_count": null,
   "metadata": {},
   "outputs": [
    {
     "data": {
      "text/plain": [
       "Platform\n",
       "YouTube Shorts     42\n",
       "Instagram Reels    42\n",
       "TikTok             42\n",
       "Name: count, dtype: int64"
      ]
     },
     "execution_count": 10,
     "metadata": {},
     "output_type": "execute_result"
    }
   ],
   "source": [
    "dfv.Platform.value_counts()"
   ]
  },
  {
   "cell_type": "markdown",
   "metadata": {},
   "source": [
    "RQ1: Does short-form video news lean more trendy or more traditional?\n",
    "\n",
    "H1: Trendiness is more prevalent on TikTok compared to YouTube Shorts and Instagram Reels."
   ]
  },
  {
   "cell_type": "code",
   "execution_count": null,
   "metadata": {},
   "outputs": [
    {
     "data": {
      "text/html": [
       "<div>\n",
       "<style scoped>\n",
       "    .dataframe tbody tr th:only-of-type {\n",
       "        vertical-align: middle;\n",
       "    }\n",
       "\n",
       "    .dataframe tbody tr th {\n",
       "        vertical-align: top;\n",
       "    }\n",
       "\n",
       "    .dataframe thead th {\n",
       "        text-align: right;\n",
       "    }\n",
       "</style>\n",
       "<table border=\"1\" class=\"dataframe\">\n",
       "  <thead>\n",
       "    <tr style=\"text-align: right;\">\n",
       "      <th></th>\n",
       "      <th>Variable</th>\n",
       "      <th>Source</th>\n",
       "      <th>ddof1</th>\n",
       "      <th>ddof2</th>\n",
       "      <th>F</th>\n",
       "      <th>p-unc</th>\n",
       "      <th>np2</th>\n",
       "    </tr>\n",
       "  </thead>\n",
       "  <tbody>\n",
       "    <tr>\n",
       "      <th>0</th>\n",
       "      <td>trendiness</td>\n",
       "      <td>Platform</td>\n",
       "      <td>2</td>\n",
       "      <td>123</td>\n",
       "      <td>18.57</td>\n",
       "      <td>0.00</td>\n",
       "      <td>0.23</td>\n",
       "    </tr>\n",
       "  </tbody>\n",
       "</table>\n",
       "</div>"
      ],
      "text/plain": [
       "     Variable    Source  ddof1  ddof2     F  p-unc  np2\n",
       "0  trendiness  Platform      2    123 18.57   0.00 0.23"
      ]
     },
     "execution_count": 11,
     "metadata": {},
     "output_type": "execute_result"
    }
   ],
   "source": [
    "# Define the IV and DV variables\n",
    "IV = 'Platform'\n",
    "DV = ['trendiness']\n",
    "DF = dfv\n",
    "# Run the ANOVA\n",
    "for i in DV:\n",
    "    anova_result = pg.anova(data=DF, dv=i, between=IV)\n",
    "    globals()[f\"ANOVA_{i}\"] = anova_result\n",
    "    globals()[f\"ANOVA_{i}\"].insert(0, 'Variable', i)\n",
    "    pairwise_comparisons = pg.pairwise_tests(data=DF, dv=i, between=IV, padjust='bonf')\n",
    "    globals()[f\"Pairwise_{i}\"] = pairwise_comparisons\n",
    "    globals()[f\"Pairwise_{i}\"].insert(0, 'Variable', i)\n",
    "    mean_table = DF.groupby(IV)[i].mean().reset_index()\n",
    "    std_table = DF.groupby(IV)[i].std().reset_index()\n",
    "    mean_std_table = pd.merge(mean_table, std_table, on=IV)\n",
    "    mean_std_table.columns = [i, 'Mean', 'Standard Deviation']\n",
    "    mean_std_table = mean_std_table.rename(columns={i: 'Value'})\n",
    "    globals()[f\"mean_std_table_{i}\"] = mean_std_table\n",
    "    globals()[f\"mean_std_table_{i}\"].insert(0, 'Variable', i)\n",
    "merged_anova = pd.concat([globals()[f\"ANOVA_{i}\"] for i in DV], axis=0)\n",
    "merged_anova.reset_index(drop=True, inplace=True)\n",
    "merged_pairwise = pd.concat([globals()[f\"Pairwise_{i}\"] for i in DV], axis=0)\n",
    "merged_pairwise.reset_index(drop=True, inplace=True)\n",
    "merged_mean_std_table = pd.concat([globals()[f\"mean_std_table_{i}\"] for i in DV], axis=0)\n",
    "merged_mean_std_table.reset_index(drop=True, inplace=True)\n",
    "# merged_anova.to_csv(IV+'/merged_anova.csv', index=False)\n",
    "# merged_pairwise.to_csv(IV+'/merged_pairwise.csv', index=False)\n",
    "# merged_mean_std_table.to_csv(IV+'/merged_mean_std.csv', index=False)\n",
    "merged_anova"
   ]
  },
  {
   "cell_type": "code",
   "execution_count": null,
   "metadata": {},
   "outputs": [
    {
     "data": {
      "text/html": [
       "<div>\n",
       "<style scoped>\n",
       "    .dataframe tbody tr th:only-of-type {\n",
       "        vertical-align: middle;\n",
       "    }\n",
       "\n",
       "    .dataframe tbody tr th {\n",
       "        vertical-align: top;\n",
       "    }\n",
       "\n",
       "    .dataframe thead th {\n",
       "        text-align: right;\n",
       "    }\n",
       "</style>\n",
       "<table border=\"1\" class=\"dataframe\">\n",
       "  <thead>\n",
       "    <tr style=\"text-align: right;\">\n",
       "      <th></th>\n",
       "      <th>Variable</th>\n",
       "      <th>Contrast</th>\n",
       "      <th>A</th>\n",
       "      <th>B</th>\n",
       "      <th>Paired</th>\n",
       "      <th>Parametric</th>\n",
       "      <th>T</th>\n",
       "      <th>dof</th>\n",
       "      <th>alternative</th>\n",
       "      <th>p-unc</th>\n",
       "      <th>p-corr</th>\n",
       "      <th>p-adjust</th>\n",
       "      <th>BF10</th>\n",
       "      <th>hedges</th>\n",
       "    </tr>\n",
       "  </thead>\n",
       "  <tbody>\n",
       "    <tr>\n",
       "      <th>0</th>\n",
       "      <td>trendiness</td>\n",
       "      <td>Platform</td>\n",
       "      <td>Instagram Reels</td>\n",
       "      <td>TikTok</td>\n",
       "      <td>False</td>\n",
       "      <td>True</td>\n",
       "      <td>5.50</td>\n",
       "      <td>82.00</td>\n",
       "      <td>two-sided</td>\n",
       "      <td>0.00</td>\n",
       "      <td>0.00</td>\n",
       "      <td>bonf</td>\n",
       "      <td>3.008e+04</td>\n",
       "      <td>1.19</td>\n",
       "    </tr>\n",
       "    <tr>\n",
       "      <th>1</th>\n",
       "      <td>trendiness</td>\n",
       "      <td>Platform</td>\n",
       "      <td>Instagram Reels</td>\n",
       "      <td>YouTube Shorts</td>\n",
       "      <td>False</td>\n",
       "      <td>True</td>\n",
       "      <td>3.71</td>\n",
       "      <td>82.00</td>\n",
       "      <td>two-sided</td>\n",
       "      <td>0.00</td>\n",
       "      <td>0.00</td>\n",
       "      <td>bonf</td>\n",
       "      <td>69.805</td>\n",
       "      <td>0.80</td>\n",
       "    </tr>\n",
       "    <tr>\n",
       "      <th>2</th>\n",
       "      <td>trendiness</td>\n",
       "      <td>Platform</td>\n",
       "      <td>TikTok</td>\n",
       "      <td>YouTube Shorts</td>\n",
       "      <td>False</td>\n",
       "      <td>True</td>\n",
       "      <td>-2.00</td>\n",
       "      <td>82.00</td>\n",
       "      <td>two-sided</td>\n",
       "      <td>0.05</td>\n",
       "      <td>0.15</td>\n",
       "      <td>bonf</td>\n",
       "      <td>1.275</td>\n",
       "      <td>-0.43</td>\n",
       "    </tr>\n",
       "  </tbody>\n",
       "</table>\n",
       "</div>"
      ],
      "text/plain": [
       "     Variable  Contrast                A               B  Paired  Parametric  \\\n",
       "0  trendiness  Platform  Instagram Reels          TikTok   False        True   \n",
       "1  trendiness  Platform  Instagram Reels  YouTube Shorts   False        True   \n",
       "2  trendiness  Platform           TikTok  YouTube Shorts   False        True   \n",
       "\n",
       "      T   dof alternative  p-unc  p-corr p-adjust       BF10  hedges  \n",
       "0  5.50 82.00   two-sided   0.00    0.00     bonf  3.008e+04    1.19  \n",
       "1  3.71 82.00   two-sided   0.00    0.00     bonf     69.805    0.80  \n",
       "2 -2.00 82.00   two-sided   0.05    0.15     bonf      1.275   -0.43  "
      ]
     },
     "execution_count": 12,
     "metadata": {},
     "output_type": "execute_result"
    }
   ],
   "source": [
    "merged_pairwise"
   ]
  },
  {
   "cell_type": "code",
   "execution_count": null,
   "metadata": {},
   "outputs": [
    {
     "data": {
      "text/html": [
       "<div>\n",
       "<style scoped>\n",
       "    .dataframe tbody tr th:only-of-type {\n",
       "        vertical-align: middle;\n",
       "    }\n",
       "\n",
       "    .dataframe tbody tr th {\n",
       "        vertical-align: top;\n",
       "    }\n",
       "\n",
       "    .dataframe thead th {\n",
       "        text-align: right;\n",
       "    }\n",
       "</style>\n",
       "<table border=\"1\" class=\"dataframe\">\n",
       "  <thead>\n",
       "    <tr style=\"text-align: right;\">\n",
       "      <th></th>\n",
       "      <th>Variable</th>\n",
       "      <th>Value</th>\n",
       "      <th>Mean</th>\n",
       "      <th>Standard Deviation</th>\n",
       "    </tr>\n",
       "  </thead>\n",
       "  <tbody>\n",
       "    <tr>\n",
       "      <th>0</th>\n",
       "      <td>trendiness</td>\n",
       "      <td>Instagram Reels</td>\n",
       "      <td>30009.07</td>\n",
       "      <td>35057.35</td>\n",
       "    </tr>\n",
       "    <tr>\n",
       "      <th>1</th>\n",
       "      <td>trendiness</td>\n",
       "      <td>TikTok</td>\n",
       "      <td>249.36</td>\n",
       "      <td>1542.05</td>\n",
       "    </tr>\n",
       "    <tr>\n",
       "      <th>2</th>\n",
       "      <td>trendiness</td>\n",
       "      <td>YouTube Shorts</td>\n",
       "      <td>6677.45</td>\n",
       "      <td>20795.22</td>\n",
       "    </tr>\n",
       "  </tbody>\n",
       "</table>\n",
       "</div>"
      ],
      "text/plain": [
       "     Variable            Value     Mean  Standard Deviation\n",
       "0  trendiness  Instagram Reels 30009.07            35057.35\n",
       "1  trendiness           TikTok   249.36             1542.05\n",
       "2  trendiness   YouTube Shorts  6677.45            20795.22"
      ]
     },
     "execution_count": 13,
     "metadata": {},
     "output_type": "execute_result"
    }
   ],
   "source": [
    "mean_std_table"
   ]
  },
  {
   "cell_type": "markdown",
   "metadata": {},
   "source": [
    "\n",
    "RQ2: Are people more positive towards a topic when news is presented more trendy or more traditional?\n",
    "\n",
    "H2: People are more positive towards a topic when the presentation is trendy.\n"
   ]
  },
  {
   "cell_type": "code",
   "execution_count": null,
   "metadata": {},
   "outputs": [],
   "source": []
  },
  {
   "cell_type": "markdown",
   "metadata": {},
   "source": [
    "RQ3: When news is presented in traditional formats, do people engage less?\n",
    "\n",
    "H3: Traditional presentations lead to less engagement online."
   ]
  },
  {
   "cell_type": "code",
   "execution_count": null,
   "metadata": {},
   "outputs": [],
   "source": []
  },
  {
   "cell_type": "markdown",
   "metadata": {},
   "source": [
    "\n",
    "RQ4: Does post engagement occur more from positive, neutral, or negative comments?\n",
    "\n",
    "H4: Negative comments reflect more engagements and interactions on posts."
   ]
  },
  {
   "cell_type": "code",
   "execution_count": null,
   "metadata": {},
   "outputs": [],
   "source": []
  }
 ],
 "metadata": {
  "kernelspec": {
   "display_name": "mystats",
   "language": "python",
   "name": "python3"
  },
  "language_info": {
   "codemirror_mode": {
    "name": "ipython",
    "version": 3
   },
   "file_extension": ".py",
   "mimetype": "text/x-python",
   "name": "python",
   "nbconvert_exporter": "python",
   "pygments_lexer": "ipython3",
   "version": "3.11.3"
  }
 },
 "nbformat": 4,
 "nbformat_minor": 2
}
