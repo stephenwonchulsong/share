{
 "cells": [
  {
   "cell_type": "code",
   "execution_count": 63,
   "metadata": {},
   "outputs": [],
   "source": [
    " #using mystats env\n",
    "import pandas as pd\n",
    "import numpy as np\n",
    "import pingouin as pg\n",
    "import association_metrics as am\n",
    "import scipy.stats as stats\n",
    "from scipy.stats import chisquare\n",
    "from scipy import stats\n",
    "import pyreadstat\n",
    "import statsmodels.api as sm\n",
    "import warnings\n",
    "import os\n",
    "import factor_analyzer\n",
    "from factor_analyzer import FactorAnalyzer\n",
    "pd.options.display.float_format = '{:.2f}'.format"
   ]
  },
  {
   "cell_type": "code",
   "execution_count": 64,
   "metadata": {},
   "outputs": [],
   "source": [
    "#loading all the data\n",
    "dfc=pd.read_csv('dfc.csv')\n",
    "dfv=pd.read_csv('dfv.csv')\n",
    "dfv_ColNames=pd.read_csv('dfv_ColNames.csv')\n",
    "dfv_noDupe_ColNames=pd.read_csv('dfv_noDupe_ColNames.csv')\n",
    "dfvnoDupe_recode=pd.read_csv('dfv_noDupe_recode.csv')\n",
    "dfv_noDupe=pd.read_csv('dfv_noDupe.csv')\n",
    "dfv_recode=pd.read_csv('dfv_recode.csv')\n",
    "dfv_original=pd.read_csv('dfV_original.csv')\n",
    "dfc_original=pd.read_csv('dfC_orignial.csv')"
   ]
  },
  {
   "cell_type": "code",
   "execution_count": 65,
   "metadata": {},
   "outputs": [],
   "source": [
    "dfc.Case= dfc.Case.astype('category')\n",
    "dfv.Case= dfv.Case.astype('category')"
   ]
  },
  {
   "cell_type": "code",
   "execution_count": 66,
   "metadata": {},
   "outputs": [
    {
     "data": {
      "text/plain": [
       "Index(['Case', 'CommCase', 'Platform', 'Publisher', 'VidTitle', 'CommentText',\n",
       "       'CommLikes', 'CharacterNum', 'CommLength', 'Sentiment', 'Focus',\n",
       "       'Alignment', 'MediaType'],\n",
       "      dtype='object')"
      ]
     },
     "execution_count": 66,
     "metadata": {},
     "output_type": "execute_result"
    }
   ],
   "source": [
    "dfc.columns#errors in Publisher values"
   ]
  },
  {
   "cell_type": "code",
   "execution_count": 67,
   "metadata": {},
   "outputs": [
    {
     "data": {
      "text/plain": [
       "Index(['Case', 'Platform', 'Publisher', 'VideoURL', 'PubDate', 'Likes',\n",
       "       'Comments', 'Saves', 'Shots', 'Graphics', 'EditsStyle', 'Broll',\n",
       "       'NatSound', 'Audio', 'Music', 'Narration', 'Humor', 'Offensive',\n",
       "       'Sourcing', 'Fairness', 'Agenda', 'MediaIntegrity', 'Decorum',\n",
       "       'Language', 'Topic', 'Presentation', 'ExternalVidSource', 'MediaType',\n",
       "       'Animation', 'Filters', 'Decorum_Z', 'Language_Z'],\n",
       "      dtype='object')"
      ]
     },
     "execution_count": 67,
     "metadata": {},
     "output_type": "execute_result"
    }
   ],
   "source": [
    "dfv.columns"
   ]
  },
  {
   "cell_type": "code",
   "execution_count": 68,
   "metadata": {},
   "outputs": [],
   "source": [
    "# merge dfc and selected columns from dfv_noDupe\n",
    "dfc = pd.merge(dfc, dfv, on=['Case'], how='inner', indicator=True)"
   ]
  },
  {
   "cell_type": "code",
   "execution_count": 69,
   "metadata": {},
   "outputs": [
    {
     "data": {
      "text/plain": [
       "(0.6575492422021552, array([0.548, 0.746]))"
      ]
     },
     "execution_count": 69,
     "metadata": {},
     "output_type": "execute_result"
    }
   ],
   "source": [
    "trendiness = dfv[['Humor', 'Animation', 'Filters', 'Music']]\n",
    "pg.cronbach_alpha(data=trendiness)"
   ]
  },
  {
   "cell_type": "code",
   "execution_count": 70,
   "metadata": {},
   "outputs": [
    {
     "data": {
      "text/plain": [
       "(0.2463850159344485, array([0.01 , 0.447]))"
      ]
     },
     "execution_count": 70,
     "metadata": {},
     "output_type": "execute_result"
    }
   ],
   "source": [
    "trendinessAll = dfv_noDupe[['Shots', 'EditsStyle', 'Broll', 'NatSound', 'Audio', 'Music', 'Narration', 'Humor', 'Sourcing', 'Decorum','Language','Animation', 'Filters']]\n",
    "pg.cronbach_alpha(data=trendiness1)"
   ]
  },
  {
   "cell_type": "code",
   "execution_count": 71,
   "metadata": {},
   "outputs": [
    {
     "data": {
      "text/plain": [
       "(0.3477652944172873, array([0.128, 0.528]))"
      ]
     },
     "execution_count": 71,
     "metadata": {},
     "output_type": "execute_result"
    }
   ],
   "source": [
    "trendiness = dfv_noDupe[['Music', 'Humor', 'Decorum','Language','Animation', 'Filters']]\n",
    "pg.cronbach_alpha(data=trendiness)"
   ]
  },
  {
   "cell_type": "code",
   "execution_count": 72,
   "metadata": {},
   "outputs": [
    {
     "data": {
      "text/plain": [
       "(0.3632573521019634, array([0.142, 0.541]))"
      ]
     },
     "execution_count": 72,
     "metadata": {},
     "output_type": "execute_result"
    }
   ],
   "source": [
    "trendiness = dfv_noDupe[['Music', 'Humor', 'Decorum','Language', 'Filters']]\n",
    "pg.cronbach_alpha(data=trendiness)"
   ]
  },
  {
   "cell_type": "code",
   "execution_count": 73,
   "metadata": {},
   "outputs": [
    {
     "data": {
      "text/plain": [
       "(0.35102439590202794, array([0.132, 0.53 ]))"
      ]
     },
     "execution_count": 73,
     "metadata": {},
     "output_type": "execute_result"
    }
   ],
   "source": [
    "trendiness = dfv_noDupe[['EditsStyle','Music', 'Humor', 'Decorum','Language', 'Filters']]\n",
    "pg.cronbach_alpha(data=trendiness)"
   ]
  },
  {
   "cell_type": "code",
   "execution_count": 74,
   "metadata": {},
   "outputs": [
    {
     "data": {
      "text/html": [
       "<div>\n",
       "<style scoped>\n",
       "    .dataframe tbody tr th:only-of-type {\n",
       "        vertical-align: middle;\n",
       "    }\n",
       "\n",
       "    .dataframe tbody tr th {\n",
       "        vertical-align: top;\n",
       "    }\n",
       "\n",
       "    .dataframe thead th {\n",
       "        text-align: right;\n",
       "    }\n",
       "</style>\n",
       "<table border=\"1\" class=\"dataframe\">\n",
       "  <thead>\n",
       "    <tr style=\"text-align: right;\">\n",
       "      <th></th>\n",
       "      <th>0</th>\n",
       "      <th>1</th>\n",
       "      <th>2</th>\n",
       "      <th>3</th>\n",
       "      <th>4</th>\n",
       "      <th>5</th>\n",
       "    </tr>\n",
       "  </thead>\n",
       "  <tbody>\n",
       "    <tr>\n",
       "      <th>0</th>\n",
       "      <td>0.16</td>\n",
       "      <td>-0.17</td>\n",
       "      <td>0.07</td>\n",
       "      <td>-0.06</td>\n",
       "      <td>0.00</td>\n",
       "      <td>0.60</td>\n",
       "    </tr>\n",
       "    <tr>\n",
       "      <th>1</th>\n",
       "      <td>0.06</td>\n",
       "      <td>0.16</td>\n",
       "      <td>0.76</td>\n",
       "      <td>-0.09</td>\n",
       "      <td>0.07</td>\n",
       "      <td>0.14</td>\n",
       "    </tr>\n",
       "    <tr>\n",
       "      <th>2</th>\n",
       "      <td>0.16</td>\n",
       "      <td>-0.35</td>\n",
       "      <td>0.56</td>\n",
       "      <td>-0.16</td>\n",
       "      <td>0.45</td>\n",
       "      <td>-0.58</td>\n",
       "    </tr>\n",
       "    <tr>\n",
       "      <th>3</th>\n",
       "      <td>0.42</td>\n",
       "      <td>-0.22</td>\n",
       "      <td>0.07</td>\n",
       "      <td>-0.25</td>\n",
       "      <td>0.04</td>\n",
       "      <td>-0.28</td>\n",
       "    </tr>\n",
       "    <tr>\n",
       "      <th>4</th>\n",
       "      <td>-0.03</td>\n",
       "      <td>0.64</td>\n",
       "      <td>0.33</td>\n",
       "      <td>-0.02</td>\n",
       "      <td>-0.00</td>\n",
       "      <td>-0.23</td>\n",
       "    </tr>\n",
       "    <tr>\n",
       "      <th>5</th>\n",
       "      <td>0.03</td>\n",
       "      <td>0.17</td>\n",
       "      <td>0.56</td>\n",
       "      <td>0.14</td>\n",
       "      <td>0.22</td>\n",
       "      <td>-0.09</td>\n",
       "    </tr>\n",
       "    <tr>\n",
       "      <th>6</th>\n",
       "      <td>-0.06</td>\n",
       "      <td>0.31</td>\n",
       "      <td>0.36</td>\n",
       "      <td>-0.13</td>\n",
       "      <td>0.79</td>\n",
       "      <td>-0.04</td>\n",
       "    </tr>\n",
       "    <tr>\n",
       "      <th>7</th>\n",
       "      <td>-0.26</td>\n",
       "      <td>-0.00</td>\n",
       "      <td>0.10</td>\n",
       "      <td>0.94</td>\n",
       "      <td>0.11</td>\n",
       "      <td>0.16</td>\n",
       "    </tr>\n",
       "    <tr>\n",
       "      <th>8</th>\n",
       "      <td>-0.01</td>\n",
       "      <td>-0.08</td>\n",
       "      <td>0.03</td>\n",
       "      <td>-0.32</td>\n",
       "      <td>0.11</td>\n",
       "      <td>0.09</td>\n",
       "    </tr>\n",
       "    <tr>\n",
       "      <th>9</th>\n",
       "      <td>-0.13</td>\n",
       "      <td>0.62</td>\n",
       "      <td>-0.02</td>\n",
       "      <td>0.09</td>\n",
       "      <td>0.01</td>\n",
       "      <td>0.02</td>\n",
       "    </tr>\n",
       "    <tr>\n",
       "      <th>10</th>\n",
       "      <td>0.05</td>\n",
       "      <td>0.64</td>\n",
       "      <td>0.18</td>\n",
       "      <td>0.07</td>\n",
       "      <td>0.21</td>\n",
       "      <td>-0.03</td>\n",
       "    </tr>\n",
       "    <tr>\n",
       "      <th>11</th>\n",
       "      <td>0.99</td>\n",
       "      <td>-0.02</td>\n",
       "      <td>0.04</td>\n",
       "      <td>-0.06</td>\n",
       "      <td>-0.02</td>\n",
       "      <td>0.12</td>\n",
       "    </tr>\n",
       "    <tr>\n",
       "      <th>12</th>\n",
       "      <td>0.99</td>\n",
       "      <td>-0.02</td>\n",
       "      <td>0.04</td>\n",
       "      <td>-0.06</td>\n",
       "      <td>-0.02</td>\n",
       "      <td>0.12</td>\n",
       "    </tr>\n",
       "  </tbody>\n",
       "</table>\n",
       "</div>"
      ],
      "text/plain": [
       "       0     1     2     3     4     5\n",
       "0   0.16 -0.17  0.07 -0.06  0.00  0.60\n",
       "1   0.06  0.16  0.76 -0.09  0.07  0.14\n",
       "2   0.16 -0.35  0.56 -0.16  0.45 -0.58\n",
       "3   0.42 -0.22  0.07 -0.25  0.04 -0.28\n",
       "4  -0.03  0.64  0.33 -0.02 -0.00 -0.23\n",
       "5   0.03  0.17  0.56  0.14  0.22 -0.09\n",
       "6  -0.06  0.31  0.36 -0.13  0.79 -0.04\n",
       "7  -0.26 -0.00  0.10  0.94  0.11  0.16\n",
       "8  -0.01 -0.08  0.03 -0.32  0.11  0.09\n",
       "9  -0.13  0.62 -0.02  0.09  0.01  0.02\n",
       "10  0.05  0.64  0.18  0.07  0.21 -0.03\n",
       "11  0.99 -0.02  0.04 -0.06 -0.02  0.12\n",
       "12  0.99 -0.02  0.04 -0.06 -0.02  0.12"
      ]
     },
     "execution_count": 74,
     "metadata": {},
     "output_type": "execute_result"
    }
   ],
   "source": [
    "#EFA\n",
    "fa=FactorAnalyzer(n_factors=6, rotation=\"varimax\")#setting terms\n",
    "fa.fit(trendinessAll)#applying terms for df with target variables\n",
    "ev, v = fa.get_eigenvalues()#eigenvalues\n",
    "EFAloaging=pd.DataFrame(fa.loadings_)#creating EFA loading df\n",
    "EFAloaging.to_csv('EFAloaging.csv')#saving EFA loading df\n",
    "EFAloaging"
   ]
  },
  {
   "cell_type": "code",
   "execution_count": 75,
   "metadata": {},
   "outputs": [
    {
     "data": {
      "text/html": [
       "<div>\n",
       "<style scoped>\n",
       "    .dataframe tbody tr th:only-of-type {\n",
       "        vertical-align: middle;\n",
       "    }\n",
       "\n",
       "    .dataframe tbody tr th {\n",
       "        vertical-align: top;\n",
       "    }\n",
       "\n",
       "    .dataframe thead th {\n",
       "        text-align: right;\n",
       "    }\n",
       "</style>\n",
       "<table border=\"1\" class=\"dataframe\">\n",
       "  <thead>\n",
       "    <tr style=\"text-align: right;\">\n",
       "      <th></th>\n",
       "      <th>0</th>\n",
       "    </tr>\n",
       "  </thead>\n",
       "  <tbody>\n",
       "    <tr>\n",
       "      <th>0</th>\n",
       "      <td>2.79</td>\n",
       "    </tr>\n",
       "    <tr>\n",
       "      <th>1</th>\n",
       "      <td>2.72</td>\n",
       "    </tr>\n",
       "    <tr>\n",
       "      <th>2</th>\n",
       "      <td>1.59</td>\n",
       "    </tr>\n",
       "    <tr>\n",
       "      <th>3</th>\n",
       "      <td>1.27</td>\n",
       "    </tr>\n",
       "    <tr>\n",
       "      <th>4</th>\n",
       "      <td>1.14</td>\n",
       "    </tr>\n",
       "    <tr>\n",
       "      <th>5</th>\n",
       "      <td>0.70</td>\n",
       "    </tr>\n",
       "    <tr>\n",
       "      <th>6</th>\n",
       "      <td>0.68</td>\n",
       "    </tr>\n",
       "    <tr>\n",
       "      <th>7</th>\n",
       "      <td>0.63</td>\n",
       "    </tr>\n",
       "    <tr>\n",
       "      <th>8</th>\n",
       "      <td>0.49</td>\n",
       "    </tr>\n",
       "    <tr>\n",
       "      <th>9</th>\n",
       "      <td>0.42</td>\n",
       "    </tr>\n",
       "    <tr>\n",
       "      <th>10</th>\n",
       "      <td>0.37</td>\n",
       "    </tr>\n",
       "    <tr>\n",
       "      <th>11</th>\n",
       "      <td>0.19</td>\n",
       "    </tr>\n",
       "    <tr>\n",
       "      <th>12</th>\n",
       "      <td>-0.00</td>\n",
       "    </tr>\n",
       "  </tbody>\n",
       "</table>\n",
       "</div>"
      ],
      "text/plain": [
       "       0\n",
       "0   2.79\n",
       "1   2.72\n",
       "2   1.59\n",
       "3   1.27\n",
       "4   1.14\n",
       "5   0.70\n",
       "6   0.68\n",
       "7   0.63\n",
       "8   0.49\n",
       "9   0.42\n",
       "10  0.37\n",
       "11  0.19\n",
       "12 -0.00"
      ]
     },
     "execution_count": 75,
     "metadata": {},
     "output_type": "execute_result"
    }
   ],
   "source": [
    "pd.DataFrame(ev)#factor variance"
   ]
  },
  {
   "cell_type": "code",
   "execution_count": 76,
   "metadata": {},
   "outputs": [
    {
     "data": {
      "text/plain": [
       "Index(['0_Shots', '1_EditsStyle', '2_Broll', '3_NatSound', '4_Audio',\n",
       "       '5_Music', '6_Narration', '7_Humor', '8_Sourcing', '9_Decorum',\n",
       "       '10_Language', '11_Animation', '12_Filters'],\n",
       "      dtype='object')"
      ]
     },
     "execution_count": 76,
     "metadata": {},
     "output_type": "execute_result"
    }
   ],
   "source": [
    "trendiness2 = trendiness1.copy()\n",
    "trendiness2.columns = [str(i) + '_' + col for i, col in enumerate(trendiness1.columns)]\n",
    "trendiness2.columns"
   ]
  },
  {
   "cell_type": "code",
   "execution_count": 78,
   "metadata": {},
   "outputs": [
    {
     "name": "stdout",
     "output_type": "stream",
     "text": [
      "['NatSound', 'Animation', 'Filters']\n",
      "(0.8157673667205168, array([0.743, 0.871]))\n",
      "['Audio', 'Decorum', 'Language']\n",
      "(0.4376833889998119, array([0.216, 0.605]))\n",
      "['EditsStyle', 'Broll', 'Music']\n",
      "(0.6577181208053693, array([0.523, 0.759]))\n",
      "['Broll', 'Music', 'Narration']\n",
      "(0.690359057199501, array([0.568, 0.782]))\n"
     ]
    }
   ],
   "source": [
    "#observed factors\n",
    "factor0=['NatSound', 'Animation', 'Filters']\n",
    "factor1=['Audio', 'Decorum', 'Language']\n",
    "factor2=['EditsStyle', 'Broll', 'Music']\n",
    "factor4=['Broll', 'Music', 'Narration']\n",
    "#creating a factorlist\n",
    "factorlist = [factor0, factor1, factor2, factor4]\n",
    "for factor in factorlist:\n",
    "    Cronbach = dfv_noDupe[factor]\n",
    "    print(factor)\n",
    "    print(pg.cronbach_alpha(data=Cronbach))"
   ]
  },
  {
   "cell_type": "code",
   "execution_count": null,
   "metadata": {},
   "outputs": [
    {
     "data": {
      "text/plain": [
       "Platform\n",
       "YouTube Shorts     42\n",
       "Instagram Reels    42\n",
       "TikTok             42\n",
       "Name: count, dtype: int64"
      ]
     },
     "execution_count": 47,
     "metadata": {},
     "output_type": "execute_result"
    }
   ],
   "source": [
    "dfv.Platform.value_counts()"
   ]
  },
  {
   "cell_type": "markdown",
   "metadata": {},
   "source": [
    "RQ1: Does short-form video news lean more trendy or more traditional?\n",
    "\n",
    "H1: Trendiness is more prevalent on TikTok compared to YouTube Shorts and Instagram Reels."
   ]
  },
  {
   "cell_type": "code",
   "execution_count": null,
   "metadata": {},
   "outputs": [
    {
     "data": {
      "text/html": [
       "<div>\n",
       "<style scoped>\n",
       "    .dataframe tbody tr th:only-of-type {\n",
       "        vertical-align: middle;\n",
       "    }\n",
       "\n",
       "    .dataframe tbody tr th {\n",
       "        vertical-align: top;\n",
       "    }\n",
       "\n",
       "    .dataframe thead th {\n",
       "        text-align: right;\n",
       "    }\n",
       "</style>\n",
       "<table border=\"1\" class=\"dataframe\">\n",
       "  <thead>\n",
       "    <tr style=\"text-align: right;\">\n",
       "      <th></th>\n",
       "      <th>Variable</th>\n",
       "      <th>Source</th>\n",
       "      <th>ddof1</th>\n",
       "      <th>ddof2</th>\n",
       "      <th>F</th>\n",
       "      <th>p-unc</th>\n",
       "      <th>np2</th>\n",
       "    </tr>\n",
       "  </thead>\n",
       "  <tbody>\n",
       "    <tr>\n",
       "      <th>0</th>\n",
       "      <td>trendiness</td>\n",
       "      <td>Platform</td>\n",
       "      <td>2</td>\n",
       "      <td>97</td>\n",
       "      <td>1.51</td>\n",
       "      <td>0.23</td>\n",
       "      <td>0.03</td>\n",
       "    </tr>\n",
       "  </tbody>\n",
       "</table>\n",
       "</div>"
      ],
      "text/plain": [
       "     Variable    Source  ddof1  ddof2    F  p-unc  np2\n",
       "0  trendiness  Platform      2     97 1.51   0.23 0.03"
      ]
     },
     "execution_count": 48,
     "metadata": {},
     "output_type": "execute_result"
    }
   ],
   "source": [
    "# Define the IV and DV variables\n",
    "IV = 'Platform'\n",
    "DV = ['trendiness']\n",
    "DF = dfv\n",
    "# Run the ANOVA\n",
    "for i in DV:\n",
    "    anova_result = pg.anova(data=DF, dv=i, between=IV)\n",
    "    globals()[f\"ANOVA_{i}\"] = anova_result\n",
    "    globals()[f\"ANOVA_{i}\"].insert(0, 'Variable', i)\n",
    "    pairwise_comparisons = pg.pairwise_tests(data=DF, dv=i, between=IV, padjust='bonf')\n",
    "    globals()[f\"Pairwise_{i}\"] = pairwise_comparisons\n",
    "    globals()[f\"Pairwise_{i}\"].insert(0, 'Variable', i)\n",
    "    mean_table = DF.groupby(IV)[i].mean().reset_index()\n",
    "    std_table = DF.groupby(IV)[i].std().reset_index()\n",
    "    mean_std_table = pd.merge(mean_table, std_table, on=IV)\n",
    "    mean_std_table.columns = [i, 'Mean', 'Standard Deviation']\n",
    "    mean_std_table = mean_std_table.rename(columns={i: 'Value'})\n",
    "    globals()[f\"mean_std_table_{i}\"] = mean_std_table\n",
    "    globals()[f\"mean_std_table_{i}\"].insert(0, 'Variable', i)\n",
    "merged_anova = pd.concat([globals()[f\"ANOVA_{i}\"] for i in DV], axis=0)\n",
    "merged_anova.reset_index(drop=True, inplace=True)\n",
    "merged_pairwise = pd.concat([globals()[f\"Pairwise_{i}\"] for i in DV], axis=0)\n",
    "merged_pairwise.reset_index(drop=True, inplace=True)\n",
    "merged_mean_std_table = pd.concat([globals()[f\"mean_std_table_{i}\"] for i in DV], axis=0)\n",
    "merged_mean_std_table.reset_index(drop=True, inplace=True)\n",
    "# merged_anova.to_csv(IV+'/merged_anova.csv', index=False)\n",
    "# merged_pairwise.to_csv(IV+'/merged_pairwise.csv', index=False)\n",
    "# merged_mean_std_table.to_csv(IV+'/merged_mean_std.csv', index=False)\n",
    "merged_anova"
   ]
  },
  {
   "cell_type": "code",
   "execution_count": null,
   "metadata": {},
   "outputs": [
    {
     "data": {
      "text/html": [
       "<div>\n",
       "<style scoped>\n",
       "    .dataframe tbody tr th:only-of-type {\n",
       "        vertical-align: middle;\n",
       "    }\n",
       "\n",
       "    .dataframe tbody tr th {\n",
       "        vertical-align: top;\n",
       "    }\n",
       "\n",
       "    .dataframe thead th {\n",
       "        text-align: right;\n",
       "    }\n",
       "</style>\n",
       "<table border=\"1\" class=\"dataframe\">\n",
       "  <thead>\n",
       "    <tr style=\"text-align: right;\">\n",
       "      <th></th>\n",
       "      <th>Variable</th>\n",
       "      <th>Contrast</th>\n",
       "      <th>A</th>\n",
       "      <th>B</th>\n",
       "      <th>Paired</th>\n",
       "      <th>Parametric</th>\n",
       "      <th>T</th>\n",
       "      <th>dof</th>\n",
       "      <th>alternative</th>\n",
       "      <th>p-unc</th>\n",
       "      <th>p-corr</th>\n",
       "      <th>p-adjust</th>\n",
       "      <th>BF10</th>\n",
       "      <th>hedges</th>\n",
       "    </tr>\n",
       "  </thead>\n",
       "  <tbody>\n",
       "    <tr>\n",
       "      <th>0</th>\n",
       "      <td>trendiness</td>\n",
       "      <td>Platform</td>\n",
       "      <td>Instagram Reels</td>\n",
       "      <td>TikTok</td>\n",
       "      <td>False</td>\n",
       "      <td>True</td>\n",
       "      <td>-0.65</td>\n",
       "      <td>63.00</td>\n",
       "      <td>two-sided</td>\n",
       "      <td>0.52</td>\n",
       "      <td>1.00</td>\n",
       "      <td>bonf</td>\n",
       "      <td>0.304</td>\n",
       "      <td>-0.16</td>\n",
       "    </tr>\n",
       "    <tr>\n",
       "      <th>1</th>\n",
       "      <td>trendiness</td>\n",
       "      <td>Platform</td>\n",
       "      <td>Instagram Reels</td>\n",
       "      <td>YouTube Shorts</td>\n",
       "      <td>False</td>\n",
       "      <td>True</td>\n",
       "      <td>1.08</td>\n",
       "      <td>68.00</td>\n",
       "      <td>two-sided</td>\n",
       "      <td>0.28</td>\n",
       "      <td>0.85</td>\n",
       "      <td>bonf</td>\n",
       "      <td>0.405</td>\n",
       "      <td>0.26</td>\n",
       "    </tr>\n",
       "    <tr>\n",
       "      <th>2</th>\n",
       "      <td>trendiness</td>\n",
       "      <td>Platform</td>\n",
       "      <td>TikTok</td>\n",
       "      <td>YouTube Shorts</td>\n",
       "      <td>False</td>\n",
       "      <td>True</td>\n",
       "      <td>1.74</td>\n",
       "      <td>62.76</td>\n",
       "      <td>two-sided</td>\n",
       "      <td>0.09</td>\n",
       "      <td>0.26</td>\n",
       "      <td>bonf</td>\n",
       "      <td>0.906</td>\n",
       "      <td>0.42</td>\n",
       "    </tr>\n",
       "  </tbody>\n",
       "</table>\n",
       "</div>"
      ],
      "text/plain": [
       "     Variable  Contrast                A               B  Paired  Parametric  \\\n",
       "0  trendiness  Platform  Instagram Reels          TikTok   False        True   \n",
       "1  trendiness  Platform  Instagram Reels  YouTube Shorts   False        True   \n",
       "2  trendiness  Platform           TikTok  YouTube Shorts   False        True   \n",
       "\n",
       "      T   dof alternative  p-unc  p-corr p-adjust   BF10  hedges  \n",
       "0 -0.65 63.00   two-sided   0.52    1.00     bonf  0.304   -0.16  \n",
       "1  1.08 68.00   two-sided   0.28    0.85     bonf  0.405    0.26  \n",
       "2  1.74 62.76   two-sided   0.09    0.26     bonf  0.906    0.42  "
      ]
     },
     "execution_count": 49,
     "metadata": {},
     "output_type": "execute_result"
    }
   ],
   "source": [
    "merged_pairwise"
   ]
  },
  {
   "cell_type": "code",
   "execution_count": null,
   "metadata": {},
   "outputs": [
    {
     "data": {
      "text/html": [
       "<div>\n",
       "<style scoped>\n",
       "    .dataframe tbody tr th:only-of-type {\n",
       "        vertical-align: middle;\n",
       "    }\n",
       "\n",
       "    .dataframe tbody tr th {\n",
       "        vertical-align: top;\n",
       "    }\n",
       "\n",
       "    .dataframe thead th {\n",
       "        text-align: right;\n",
       "    }\n",
       "</style>\n",
       "<table border=\"1\" class=\"dataframe\">\n",
       "  <thead>\n",
       "    <tr style=\"text-align: right;\">\n",
       "      <th></th>\n",
       "      <th>Variable</th>\n",
       "      <th>Value</th>\n",
       "      <th>Mean</th>\n",
       "      <th>Standard Deviation</th>\n",
       "    </tr>\n",
       "  </thead>\n",
       "  <tbody>\n",
       "    <tr>\n",
       "      <th>0</th>\n",
       "      <td>trendiness</td>\n",
       "      <td>Instagram Reels</td>\n",
       "      <td>-30.77</td>\n",
       "      <td>67.05</td>\n",
       "    </tr>\n",
       "    <tr>\n",
       "      <th>1</th>\n",
       "      <td>trendiness</td>\n",
       "      <td>TikTok</td>\n",
       "      <td>-20.80</td>\n",
       "      <td>57.55</td>\n",
       "    </tr>\n",
       "    <tr>\n",
       "      <th>2</th>\n",
       "      <td>trendiness</td>\n",
       "      <td>YouTube Shorts</td>\n",
       "      <td>-48.69</td>\n",
       "      <td>71.62</td>\n",
       "    </tr>\n",
       "  </tbody>\n",
       "</table>\n",
       "</div>"
      ],
      "text/plain": [
       "     Variable            Value   Mean  Standard Deviation\n",
       "0  trendiness  Instagram Reels -30.77               67.05\n",
       "1  trendiness           TikTok -20.80               57.55\n",
       "2  trendiness   YouTube Shorts -48.69               71.62"
      ]
     },
     "execution_count": 50,
     "metadata": {},
     "output_type": "execute_result"
    }
   ],
   "source": [
    "mean_std_table"
   ]
  },
  {
   "cell_type": "markdown",
   "metadata": {},
   "source": [
    "\n",
    "RQ2: Are people more positive towards a topic when news is presented more trendy or more traditional?\n",
    "\n",
    "H2: People are more positive towards a topic when the presentation is trendy.\n"
   ]
  },
  {
   "cell_type": "code",
   "execution_count": null,
   "metadata": {},
   "outputs": [],
   "source": []
  },
  {
   "cell_type": "markdown",
   "metadata": {},
   "source": [
    "RQ3: When news is presented in traditional formats, do people engage less?\n",
    "\n",
    "H3: Traditional presentations lead to less engagement online."
   ]
  },
  {
   "cell_type": "code",
   "execution_count": null,
   "metadata": {},
   "outputs": [],
   "source": []
  },
  {
   "cell_type": "markdown",
   "metadata": {},
   "source": [
    "\n",
    "RQ4: Does post engagement occur more from positive, neutral, or negative comments?\n",
    "\n",
    "H4: Negative comments reflect more engagements and interactions on posts."
   ]
  },
  {
   "cell_type": "code",
   "execution_count": null,
   "metadata": {},
   "outputs": [],
   "source": []
  }
 ],
 "metadata": {
  "kernelspec": {
   "display_name": "mystats",
   "language": "python",
   "name": "python3"
  },
  "language_info": {
   "codemirror_mode": {
    "name": "ipython",
    "version": 3
   },
   "file_extension": ".py",
   "mimetype": "text/x-python",
   "name": "python",
   "nbconvert_exporter": "python",
   "pygments_lexer": "ipython3",
   "version": "3.11.3"
  }
 },
 "nbformat": 4,
 "nbformat_minor": 2
}
